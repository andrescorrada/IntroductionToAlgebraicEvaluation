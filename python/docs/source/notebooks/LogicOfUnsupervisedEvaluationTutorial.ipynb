{
 "cells": [
  {
   "cell_type": "markdown",
   "id": "2cd7a0b5-d493-4717-9a7e-fd7c9abac8c7",
   "metadata": {},
   "source": [
    "# The Logic of Unsupervised Evaluation : A simple demonstration"
   ]
  },
  {
   "cell_type": "markdown",
   "id": "f8bd49a8-ae0c-44c6-a6d4-4e0b4657fd1e",
   "metadata": {},
   "source": [
    "Unsupervised evaluation is trying to test noisy decision makers with unlabeled data. This is the principal/agent monitoring paradox. A job has been delegated to an agent - whether robotic or human. But we know the agents are not perfect in their decisions. In some settings, this imperfection is unsafe and must be detected to prevent possible future costly failures. The paradox lies in us having to then \"do the work twice\" - on the very job for which we deployed the agent, we must audit the results!\n",
    "\n",
    "We hear this often nowadays with LLMs - they are great until they are not. They speed up our work but now we have to do work to check they are doing their tasks correctly. NTQR logic is about mitigating this monitoring paradox by increasing the reliability of unsupervised evaluation.\n",
    "\n",
    "The utility of NTQR logic comes from three properties:\n",
    "\n",
    "1. It is **universal**: The solution for error independent classifiers in the code applies to all domains as long as its sole assumption is satisfied - error independency on the test. But more importantly, the postulates in `ntqr.r2.postulates` are **always** true for any group of classifiers in **any** domain. It achieves this by being completely algebraic on the observed decisions of the classifiers. It has no other parameters to tune or set to produce its outputs.\n",
    "2. It is **complete**: Universal postulates have been recognized before. Most notably, Platanios et al., in the **agreement equations**. What has not been recognized at all by most ML researchers and engineers is that there are a complete set of postulates that explain **any** unsupervised evaluation of classifiers. The agreement equations are but a small subset of the complete set needed for classifiers. The power of completeness for safety is that it provides ironclad proof that an evaluation cannot possibly be correct.\n",
    "3. It allows you to create **self-alarming** evaluation algorithms: The finite nature of any test for classifiers allows us to restrict all solutions of sample statistics to a small set of rational numbers inside the unit cube. Since the algebraic algorithms of NTQR logic are polynomial functions of unknown statistics of correctness for the classifiers, they always produce **algebraic** numbers. The class of **algebraic** numbers also includes the **irrationals**. Using this, one can prove that if you evaluate a set of three binary classifiers and the prevalence estimates contain irrational numbers - the classifiers **are** error correlated on the test. We know of no other evaluation method on unlabeled data that can signal the failure of its own independence assumption."
   ]
  },
  {
   "cell_type": "markdown",
   "id": "ae85d3ac-0e07-4e36-9c7c-dada26b36263",
   "metadata": {},
   "source": [
    "## A simple demonstration of their universality"
   ]
  },
  {
   "cell_type": "markdown",
   "id": "b2e89b55-df01-44e0-80c7-30d8dfa4e1e2",
   "metadata": {},
   "source": [
    "We say the expressions in `ntqr.r2.paxioms` and `ntqr.r2.raxioms` are postulates because they are always identically zero for sample statistics that come from summarizing the decisions of binary classifiers. This section will demonstrate this with the example data sketch from an UCI Adult dataset evaluation contained in `ntqr.r2.examples`."
   ]
  },
  {
   "cell_type": "code",
   "execution_count": 5,
   "id": "75ca2ffd-bbfc-4935-baff-84675becc508",
   "metadata": {},
   "outputs": [
    {
     "name": "stdout",
     "output_type": "stream",
     "text": [
      "IPython console for SymPy 1.13.3 (Python 3.11.8-64-bit) (ground types: gmpy)\n",
      "\n",
      "These commands were executed:\n",
      ">>> from sympy import *\n",
      ">>> x, y, z, t = symbols('x y z t')\n",
      ">>> k, m, n = symbols('k m n', integer=True)\n",
      ">>> f, g, h = symbols('f g h', cls=Function)\n",
      ">>> init_printing()\n",
      "\n",
      "Documentation can be found at https://docs.sympy.org/1.13.3/\n",
      "\n"
     ]
    }
   ],
   "source": [
    "import sympy\n",
    "import ntqr\n",
    "from pprint import pp\n",
    "sympy.init_session()\n",
    "sympy.init_printing(latex_mode='equation')"
   ]
  },
  {
   "cell_type": "markdown",
   "id": "85be1465-a5e6-4cc3-ad22-c0d0ef853864",
   "metadata": {},
   "source": [
    "The by-label counts of how the classifiers voted when classifying a single item are only available when we have supervised\n",
    "evaluation - we know the correct label for the items classified. The reason that it contains the aligned counts for three classifiers\n",
    "is that this is the minimum needed to obtain a full solution to tests where classifiers are error independent on the test.\n",
    "\n",
    "The count of three thus makes this example easy to use throughout the documentation. The axioms released so far are applicable to any number of classifiers. For example, the pair postulates apply to any pair you pick out from an ensemble. But as of v0.3.2 only the N <= 3 postulates have been released for the case R=2 (binary classification or responses). The current release contains the R=3 single classifier axioms that can be used to create logical alarms for misaligned 3-class classification.\n",
    "\n",
    "In the examples shown here, we check the postulates up to N = 2 for R=2."
   ]
  },
  {
   "cell_type": "code",
   "execution_count": 7,
   "id": "3b484555-bd93-4d05-8c73-f54a151c4262",
   "metadata": {},
   "outputs": [
    {
     "data": {
      "text/plain": [
       "{'a': {('a', 'a', 'a'): 715,\n",
       "  ('a', 'a', 'b'): 161,\n",
       "  ('a', 'b', 'a'): 2406,\n",
       "  ('a', 'b', 'b'): 455,\n",
       "  ('b', 'a', 'a'): 290,\n",
       "  ('b', 'a', 'b'): 94,\n",
       "  ('b', 'b', 'a'): 1335,\n",
       "  ('b', 'b', 'b'): 231},\n",
       " 'b': {('a', 'a', 'a'): 271,\n",
       "  ('a', 'a', 'b'): 469,\n",
       "  ('a', 'b', 'a'): 3395,\n",
       "  ('a', 'b', 'b'): 7517,\n",
       "  ('b', 'a', 'a'): 272,\n",
       "  ('b', 'a', 'b'): 399,\n",
       "  ('b', 'b', 'a'): 6377,\n",
       "  ('b', 'b', 'b'): 12455}}"
      ]
     },
     "execution_count": 7,
     "metadata": {},
     "output_type": "execute_result"
    }
   ],
   "source": [
    "from ntqr.r2.examples import uciadult_label_counts as data_sketch\n",
    "data_sketch"
   ]
  },
  {
   "cell_type": "markdown",
   "id": "d23477db-7d17-4af9-8c2f-6d53b673438b",
   "metadata": {},
   "source": [
    "Let us use these by-label voting events counts to calculate the exact evaluation for the classifiers on this test."
   ]
  },
  {
   "cell_type": "code",
   "execution_count": 9,
   "id": "fa46f8d6-a683-4651-bb44-128a60c8e8f7",
   "metadata": {},
   "outputs": [],
   "source": [
    "# Create a class that gives us convenience functions for\n",
    "# making marginalized counts or percentages of counts.\n",
    "trio_label_counts = ntqr.TrioLabelVoteCounts(data_sketch)\n",
    "# Since we know the true label for this evaluation, we can\n",
    "# quickly compute all the relevant statistics of correctness\n",
    "# in the test we need.\n",
    "supervised_eval = ntqr.SupervisedEvaluation(trio_label_counts)\n",
    "supervised_eval_exact = supervised_eval.evaluation_exact\n",
    "supervised_eval_float = supervised_eval.evaluation_float"
   ]
  },
  {
   "cell_type": "markdown",
   "id": "4f403cec-e14d-446d-8e61-596382ddf370",
   "metadata": {},
   "source": [
    "We are so accustomed to turning numbers into floats in our computers that we forget that for any finite test the sample statistics of correctness can only be rational numbers. In the case of grading a test, we either have integers or ratios of integers - the rationals."
   ]
  },
  {
   "cell_type": "code",
   "execution_count": 11,
   "id": "1e0e94b5-7025-42ae-b58e-0d9e48ae64ba",
   "metadata": {},
   "outputs": [
    {
     "name": "stdout",
     "output_type": "stream",
     "text": [
      "{'prevalence': {'a': 5687/36842, 'b': 31155/36842},\n",
      " 'accuracy': [{'a': 3737/5687, 'b': 6501/10385},\n",
      "              {'a': 1260/5687, 'b': 29744/31155},\n",
      "              {'a': 4746/5687, 'b': 4168/6231}],\n",
      " 'pair_correlation': {(0, 1): {'a': 273192/32341969, 'b': 2204576/323544675},\n",
      "                      (0, 2): {'a': 13325/32341969, 'b': -79682/12941787},\n",
      "                      (1, 2): {'a': -264525/32341969, 'b': 94508/38825361}},\n",
      " '3_way_correlation': {(0, 1, 2): {'a': 452568508/183928777703,\n",
      "                                   'b': -27265589/134400457995}}}\n"
     ]
    }
   ],
   "source": [
    "# The current version does not implement the last correlations needed\n",
    "# for three binary classifiers - the 3-way correlations.\n",
    "pp(supervised_eval_exact, sort_dicts=False)"
   ]
  },
  {
   "cell_type": "markdown",
   "id": "11aebe5e-3305-48f4-bffb-cf221a67e5ea",
   "metadata": {},
   "source": [
    "Although exact, these numbers are hard for humans to interpret since we prefer decimal numbers."
   ]
  },
  {
   "cell_type": "code",
   "execution_count": 13,
   "id": "ced779b0-19d3-47f4-8bde-c00acc0fb0bd",
   "metadata": {},
   "outputs": [
    {
     "name": "stdout",
     "output_type": "stream",
     "text": [
      "{'prevalence': {'a': 0.15436186960534173, 'b': 0.8456381303946583},\n",
      " 'accuracy': [{'a': 0.6571127132055565, 'b': 0.625999037072701},\n",
      "              {'a': 0.22155793915948654, 'b': 0.9547103193708875},\n",
      "              {'a': 0.8345349041673993, 'b': 0.6689134970309741}],\n",
      " 'pair_correlation': {(0, 1): {'a': 0.008446981072797392,\n",
      "                               'b': 0.0068138225424356005},\n",
      "                      (0, 2): {'a': 0.00041200336318422665,\n",
      "                               'b': -0.006156954986200901},\n",
      "                      (1, 2): {'a': -0.008179001099160041,\n",
      "                               'b': 0.0024341821316226785}}}\n"
     ]
    }
   ],
   "source": [
    "pp(supervised_eval_float, sort_dicts=False)"
   ]
  },
  {
   "cell_type": "markdown",
   "id": "86912545-74b6-4aef-84f1-5bf7158b4505",
   "metadata": {},
   "source": [
    "Note that this UCI Adult evaluation has, in fact, very low error correlations. This was done so we could use the same experiments for demonstrating the error-independent algebraic solution. For the purposes of demonstrating the logic, since we are doing exact arithmetic, the fact that the correlations are not identical to zero is sufficient for demonstrating their correctness.\n",
    "\n",
    "Using the \"ground truth\" or correct evaluation for the classifiers on this specific test, we can now check to see if the postulates are obeyed."
   ]
  },
  {
   "cell_type": "markdown",
   "id": "f8f0deec-a8ab-42d2-b995-799acd289523",
   "metadata": {},
   "source": [
    "## The NTQR postulates for N=2, R=2 binary classifiers"
   ]
  },
  {
   "cell_type": "code",
   "execution_count": 16,
   "id": "00c23857-4a81-4c41-9832-6f556422923d",
   "metadata": {},
   "outputs": [],
   "source": [
    "from ntqr.r2.paxioms import single_binary_classifier_axiom"
   ]
  },
  {
   "cell_type": "markdown",
   "id": "77d52049-b841-4e9f-8761-6ce53aae494d",
   "metadata": {},
   "source": [
    "Whenever we have $N$ classifiers, there will be some postulates for all $N$ of them signalled by its use of N-way error correlations. There will also be postulates for $N-1$ of them and so on down to $N=1$. So let us demonstrate them backwards. We start with the single postulate that applies to any single binary classifier."
   ]
  },
  {
   "cell_type": "markdown",
   "id": "ffdb9966-337b-45b5-a98a-05459b0ea270",
   "metadata": {},
   "source": [
    "### The single binary classifier postulate check"
   ]
  },
  {
   "cell_type": "code",
   "execution_count": 19,
   "id": "b75837fe-c3c1-4efd-b835-0d970bde661a",
   "metadata": {},
   "outputs": [
    {
     "data": {
      "image/png": "[encoded data removed]",
      "text/latex": [
       "\\begin{equation}P_{a} \\left(P_{i, a} - f_{a_i}\\right) - P_{b} \\left(P_{i, b} - f_{b_i}\\right)\\end{equation}"
      ],
      "text/plain": [
       "Pₐ⋅(P_{i, a} - f_{a_i}) - P_b⋅(P_{i, b} - f_{b_i})"
      ]
     },
     "execution_count": 19,
     "metadata": {},
     "output_type": "execute_result"
    }
   ],
   "source": [
    "single_binary_classifier_axiom"
   ]
  },
  {
   "cell_type": "markdown",
   "id": "a30e0440-0c0b-45c0-af9f-bd51714abbc0",
   "metadata": {},
   "source": [
    "Let's redefine some names to make the checks easier to write out."
   ]
  },
  {
   "cell_type": "code",
   "execution_count": 21,
   "id": "5f587743-42fa-44a6-b537-f2da585be671",
   "metadata": {},
   "outputs": [
    {
     "name": "stdout",
     "output_type": "stream",
     "text": [
      "5687/36842   31155/36842\n"
     ]
    }
   ],
   "source": [
    "pa = supervised_eval_exact['prevalence']['a']\n",
    "pb = supervised_eval_exact['prevalence']['b']\n",
    "print(pa, \" \", pb)"
   ]
  },
  {
   "cell_type": "markdown",
   "id": "fb3dfd37-1758-4fe6-bcd6-39328f1d8284",
   "metadata": {},
   "source": [
    "We also need to know the label accuracy for each of the three classifiers."
   ]
  },
  {
   "cell_type": "code",
   "execution_count": 23,
   "id": "b37413ed-4ba7-47ba-82d8-add94387a04f",
   "metadata": {},
   "outputs": [
    {
     "data": {
      "text/plain": [
       "[{'a': 3737/5687, 'b': 6501/10385},\n",
       " {'a': 1260/5687, 'b': 29744/31155},\n",
       " {'a': 4746/5687, 'b': 4168/6231}]"
      ]
     },
     "execution_count": 23,
     "metadata": {},
     "output_type": "execute_result"
    }
   ],
   "source": [
    "classifier_accuracies = [\n",
    "    {label: supervised_eval_exact['accuracy'][classifier][label]\n",
    "     for label in ('a', 'b')\n",
    "    } for classifier in range(3)]\n",
    "cla = classifier_accuracies\n",
    "cla\n",
    "    "
   ]
  },
  {
   "cell_type": "markdown",
   "id": "0d6adb00-4081-4b16-ac94-dca8cb875bce",
   "metadata": {},
   "source": [
    "The practical utility of the algebraic postulates is that they establish a relation between statistics of correctness we are trying to estimate and the only thing we can do when we treat them as a black box - the frequencies of how they decide to agree and disagree.\n",
    "\n",
    "In an unlabeled setting, we do not have the true labels by definition. So to create a universal logic of computation, you can only use the observed decisions. Anything else, any modeling assumption, etcetera would restrict its domain of application.\n",
    "\n",
    "This still leaves a lot of choices. You could keep track of the sequence by which they decided if time was an important variable in your task, for example. Here we will focus on the simplest statistic - their aligned votes on a single item. \"Aligned\" means two things. The event ('a', 'b', 'a') refers to votes cast by the classifiers on the same item. Classifiers 1 and 3 think the item is 'a', but 2 votes 'b'. The order of the vote patterns always refers to the same classifiers - the 2nd meaning of \"aligned\". So in event ('a', 'b', 'a') classifier 1 voted 'a' and in event ('b', 'a', 'a') it voted 'b'.\n",
    "\n",
    "The package has a class that turns by-label data sketches to unlabeled data sketches - `TrioVoteCounts`."
   ]
  },
  {
   "cell_type": "code",
   "execution_count": 25,
   "id": "0678ba47-ece2-41e7-b35f-db0701cd5b19",
   "metadata": {},
   "outputs": [
    {
     "name": "stdout",
     "output_type": "stream",
     "text": [
      "TrioVoteCounts(vote_counts={('a', 'a', 'a'): 986, ('a', 'a', 'b'): 630, ('a', 'b', 'a'): 5801, ('a', 'b', 'b'): 7972, ('b', 'a', 'a'): 562, ('b', 'a', 'b'): 493, ('b', 'b', 'a'): 7712, ('b', 'b', 'b'): 12686})\n"
     ]
    }
   ],
   "source": [
    "trio_vote_counts = trio_label_counts.to_TrioVoteCounts()\n",
    "print(trio_vote_counts)\n",
    "tvc = trio_vote_counts"
   ]
  },
  {
   "cell_type": "markdown",
   "id": "1a3a6d98-abe0-4ad7-86ee-d8f761de101a",
   "metadata": {},
   "source": [
    "This highlights that in the unlabeled case we are seeing the sum of the by-label counts. So the by-label data sketch of the evaluation had 715 cases where the classifiers voted ('a', 'a', 'a') and the items where 'a'. But there where 271 cases where the items where 'b' and the classifiers also voted ('a', 'a', 'a'). 271 + 715 = 986 as we observe above."
   ]
  },
  {
   "cell_type": "code",
   "execution_count": 27,
   "id": "fbbd76c6-3f73-4b59-904c-87eae055be9b",
   "metadata": {},
   "outputs": [
    {
     "data": {
      "text/plain": [
       "[{'a': 15389/36842, 'b': 21453/36842},\n",
       " {'a': 2671/36842, 'b': 34171/36842},\n",
       " {'a': 15061/36842, 'b': 21781/36842}]"
      ]
     },
     "execution_count": 27,
     "metadata": {},
     "output_type": "execute_result"
    }
   ],
   "source": [
    "# We can turn the count integers into percentages or frequencies\n",
    "classifiers_voting_frequencies = [\n",
    "    {label: tvc.classifier_label_frequency(classifier, label) \n",
    "     for label in ('a', 'b')\n",
    "    } for classifier in range(3)]\n",
    "cvf = classifiers_voting_frequencies\n",
    "cvf"
   ]
  },
  {
   "cell_type": "code",
   "execution_count": 28,
   "id": "8998cbf5-23a4-4967-8d01-b20774342f5b",
   "metadata": {},
   "outputs": [
    {
     "data": {
      "image/png": "[encoded data removed]",
      "text/latex": [
       "\\begin{equation}\\left[ 1, \\  1, \\  1\\right]\\end{equation}"
      ],
      "text/plain": [
       "[1, 1, 1]"
      ]
     },
     "execution_count": 28,
     "metadata": {},
     "output_type": "execute_result"
    }
   ],
   "source": [
    "# By construction, these observed label voting frequencies must add to one.\n",
    "[sum(cvf[classifier].values()) for classifier in range(3)]"
   ]
  },
  {
   "cell_type": "code",
   "execution_count": 29,
   "id": "58382871-c493-4e94-82d5-1d897531a78a",
   "metadata": {},
   "outputs": [
    {
     "data": {
      "image/png": "[encoded data removed]",
      "text/latex": [
       "\\begin{equation}\\left[ 0, \\  0, \\  0\\right]\\end{equation}"
      ],
      "text/plain": [
       "[0, 0, 0]"
      ]
     },
     "execution_count": 29,
     "metadata": {},
     "output_type": "execute_result"
    }
   ],
   "source": [
    "# Checking the single binary classifier postulate on all three classifiers\n",
    "[ (pa * (cla[classifier]['a'] - cvf[classifier]['a']) - \n",
    "   pb * (cla[classifier]['b'] - cvf[classifier]['b']))\n",
    " for classifier in range(3)]"
   ]
  },
  {
   "cell_type": "markdown",
   "id": "66db92bf-bf49-4b5d-b2e0-ce3abb43c3a1",
   "metadata": {},
   "source": [
    "#### Simple demonstration of the utility of exact over inexact calculations for logic"
   ]
  },
  {
   "cell_type": "markdown",
   "id": "8b89844a-4504-48d6-b6fb-9ce4d1b9bbc4",
   "metadata": {},
   "source": [
    "How well are the postulates obeyed when we use inexact float computations?"
   ]
  },
  {
   "cell_type": "code",
   "execution_count": 32,
   "id": "e995ef5e-9303-444b-858d-88069895594d",
   "metadata": {},
   "outputs": [
    {
     "data": {
      "image/png": "[encoded data removed]",
      "text/latex": [
       "\\begin{equation}\\left[ 3.46944695195361 \\cdot 10^{-17}, \\  5.55111512312578 \\cdot 10^{-17}, \\  -4.16333634234434 \\cdot 10^{-17}\\right]\\end{equation}"
      ],
      "text/plain": [
       "[3.469446951953614e-17, 5.551115123125783e-17, -4.163336342344337e-17]"
      ]
     },
     "execution_count": 32,
     "metadata": {},
     "output_type": "execute_result"
    }
   ],
   "source": [
    "# Checking the single binary classifier postulate on all three classifiers\n",
    "# but now we use floats\n",
    "\n",
    "[ (float(pa) * (float(cla[classifier]['a']) - float(cvf[classifier]['a'])) - \n",
    "   float(pb) * (float(cla[classifier]['b']) - float(cvf[classifier]['b'])))\n",
    " for classifier in range(3)]"
   ]
  },
  {
   "cell_type": "code",
   "execution_count": 33,
   "id": "7a5adf93-18b7-461a-9712-397b1c8e4c09",
   "metadata": {},
   "outputs": [
    {
     "data": {
      "image/png": "[encoded data removed]",
      "text/latex": [
       "\\begin{equation}\\left[ 0.0302099194792449, \\  0.0188090034826021, \\  0.053721315513076\\right]\\end{equation}"
      ],
      "text/plain": [
       "[0.03020991947924493, 0.01880900348260213, 0.053721315513076]"
      ]
     },
     "execution_count": 33,
     "metadata": {},
     "output_type": "execute_result"
    }
   ],
   "source": [
    "# It gets worse when we use the fact that P_b = 1 - P_a\n",
    "\n",
    "[ (float(pa) * (float(cla[classifier]['a']) - float(cvf[classifier]['a'])) - \n",
    "   float(1-pb) * (float(cla[classifier]['b']) - float(cvf[classifier]['b'])))\n",
    " for classifier in range(3)]"
   ]
  },
  {
   "cell_type": "markdown",
   "id": "01d25978-f065-43d2-854a-3ae26affa735",
   "metadata": {},
   "source": [
    "### The postulates for pairs of binary classifers\n",
    "\n",
    "Single classifier axioms do not require us to worry about how a classifier may be error correlated with another member that took the same test. Sample statistics of the error correlations between the classifiers need to be introduced for groups of two or more classifiers. These correlation variables are of the form, $\\Gamma_{i,j,\\ell_\\text{true}}.$ This means that explaining the agreements and disagreements between classifiers is now a polynomial of their label accuracies **and** their error-correlations. Nonetheless, there are universal axioms that can explain **all** agreements and disagreements between arbitrarily correlated classifiers. The case we work out here as an illustration is for pairs of binary classifiers."
   ]
  },
  {
   "cell_type": "code",
   "execution_count": 35,
   "id": "969d11f0-2a5d-45b9-b9ec-62057f1aac63",
   "metadata": {},
   "outputs": [
    {
     "data": {
      "image/png": "[encoded data removed]",
      "text/latex": [
       "\\begin{equation}\\left[\\begin{matrix}\\left(P_{i, a} - f_{a_i}\\right) \\left(P_{j, b} - f_{b_j}\\right) - \\left(P_{i, b} - f_{b_i}\\right) \\left(P_{j, a} - f_{a_j}\\right)\\\\\\left(P_{i, a} - f_{a_i}\\right) \\left(P_{j, b} - f_{b_j}\\right) \\left(P_{i, a} + P_{i, b} - f_{a_i} - f_{b_i}\\right) + \\left(P_{i, a} - f_{a_i}\\right) \\left(- \\Delta_{i,j} + \\Gamma_{i, j, b}\\right) + \\left(P_{i, b} - f_{b_i}\\right) \\left(- \\Delta_{i,j} + \\Gamma_{i, j, a}\\right)\\\\\\left(P_{i, a} - f_{a_i}\\right) \\left(P_{j, b} - f_{b_j}\\right) \\left(P_{j, a} + P_{j, b} - f_{a_j} - f_{b_j}\\right) + \\left(P_{j, a} - f_{a_j}\\right) \\left(- \\Delta_{i,j} + \\Gamma_{i, j, b}\\right) + \\left(P_{j, b} - f_{b_j}\\right) \\left(- \\Delta_{i,j} + \\Gamma_{i, j, a}\\right)\\end{matrix}\\right]\\end{equation}"
      ],
      "text/plain": [
       "⎡                                                         (P_{i, a} - f_{a_i}) ↪\n",
       "⎢                                                                              ↪\n",
       "⎢(P_{i, a} - f_{a_i})⋅(P_{j, b} - f_{b_j})⋅(P_{i, a} + P_{i, b} - f_{a_i} - f_ ↪\n",
       "⎢                                                                              ↪\n",
       "⎣(P_{i, a} - f_{a_i})⋅(P_{j, b} - f_{b_j})⋅(P_{j, a} + P_{j, b} - f_{a_j} - f_ ↪\n",
       "\n",
       "↪ ⋅(P_{j, b} - f_{b_j}) - (P_{i, b} - f_{b_i})⋅(P_{j, a} - f_{a_j})            ↪\n",
       "↪                                                                              ↪\n",
       "↪ {b_i}) + (P_{i, a} - f_{a_i})⋅(-\\Delta_{i,j} + \\Gamma_{i, j, b}) + (P_{i, b} ↪\n",
       "↪                                                                              ↪\n",
       "↪ {b_j}) + (P_{j, a} - f_{a_j})⋅(-\\Delta_{i,j} + \\Gamma_{i, j, b}) + (P_{j, b} ↪\n",
       "\n",
       "↪                                               ⎤\n",
       "↪                                               ⎥\n",
       "↪  - f_{b_i})⋅(-\\Delta_{i,j} + \\Gamma_{i, j, a})⎥\n",
       "↪                                               ⎥\n",
       "↪  - f_{b_j})⋅(-\\Delta_{i,j} + \\Gamma_{i, j, a})⎦"
      ]
     },
     "metadata": {},
     "output_type": "display_data"
    }
   ],
   "source": [
    "from ntqr.r2.paxioms import pair_binary_classifiers_axioms\n",
    "display(sympy.Matrix(pair_binary_classifiers_axioms))"
   ]
  },
  {
   "cell_type": "markdown",
   "id": "9910965d-17b3-43b9-8ec1-4ee956901d0d",
   "metadata": {},
   "source": [
    "Starting with pairs of classifiers, one must worry about their error correlation on the test. This requires we introduce new sample statistics to capture this \"moment\" of the unknown sample statistics. We are treating evaluation on unlabeled data as an inverse problem so we are basically doing a moment expansion on the unknown ways a single classifier can be correct, pairs can correlate, trios can correlate, etc."
   ]
  },
  {
   "cell_type": "code",
   "execution_count": 37,
   "id": "1374c9af-bdbc-47ea-9510-af0898783d0c",
   "metadata": {},
   "outputs": [
    {
     "data": {
      "image/png": "[encoded data removed]",
      "text/latex": [
       "\\begin{equation}\\left(P_{i, a} - f_{a_i}\\right) \\left(P_{j, b} - f_{b_j}\\right) - \\left(P_{i, b} - f_{b_i}\\right) \\left(P_{j, a} - f_{a_j}\\right)\\end{equation}"
      ],
      "text/plain": [
       "(P_{i, a} - f_{a_i})⋅(P_{j, b} - f_{b_j}) - (P_{i, b} - f_{b_i})⋅(P_{j, a} - f ↪\n",
       "\n",
       "↪ _{a_j})"
      ]
     },
     "execution_count": 37,
     "metadata": {},
     "output_type": "execute_result"
    }
   ],
   "source": [
    "# The first postulate is interesting because it does not\n",
    "# involve the unknown pair error correlations.\n",
    "\n",
    "pair_binary_classifiers_axioms[0].as_expr()"
   ]
  },
  {
   "cell_type": "code",
   "execution_count": 38,
   "id": "6d0a6afa-0382-4a13-a7d0-6791f23c3524",
   "metadata": {},
   "outputs": [
    {
     "data": {
      "image/png": "[encoded data removed]",
      "text/latex": [
       "\\begin{equation}\\left[\\begin{matrix}\\left(P_{i, a} - f_{a_i}\\right) \\left(P_{j, b} - f_{b_j}\\right) \\left(P_{i, a} + P_{i, b} - f_{a_i} - f_{b_i}\\right) + \\left(P_{i, a} - f_{a_i}\\right) \\left(- \\Delta_{i,j} + \\Gamma_{i, j, b}\\right) + \\left(P_{i, b} - f_{b_i}\\right) \\left(- \\Delta_{i,j} + \\Gamma_{i, j, a}\\right)\\\\\\left(P_{i, a} - f_{a_i}\\right) \\left(P_{j, b} - f_{b_j}\\right) \\left(P_{j, a} + P_{j, b} - f_{a_j} - f_{b_j}\\right) + \\left(P_{j, a} - f_{a_j}\\right) \\left(- \\Delta_{i,j} + \\Gamma_{i, j, b}\\right) + \\left(P_{j, b} - f_{b_j}\\right) \\left(- \\Delta_{i,j} + \\Gamma_{i, j, a}\\right)\\end{matrix}\\right]\\end{equation}"
      ],
      "text/plain": [
       "⎡(P_{i, a} - f_{a_i})⋅(P_{j, b} - f_{b_j})⋅(P_{i, a} + P_{i, b} - f_{a_i} - f_ ↪\n",
       "⎢                                                                              ↪\n",
       "⎣(P_{i, a} - f_{a_i})⋅(P_{j, b} - f_{b_j})⋅(P_{j, a} + P_{j, b} - f_{a_j} - f_ ↪\n",
       "\n",
       "↪ {b_i}) + (P_{i, a} - f_{a_i})⋅(-\\Delta_{i,j} + \\Gamma_{i, j, b}) + (P_{i, b} ↪\n",
       "↪                                                                              ↪\n",
       "↪ {b_j}) + (P_{j, a} - f_{a_j})⋅(-\\Delta_{i,j} + \\Gamma_{i, j, b}) + (P_{j, b} ↪\n",
       "\n",
       "↪  - f_{b_i})⋅(-\\Delta_{i,j} + \\Gamma_{i, j, a})⎤\n",
       "↪                                               ⎥\n",
       "↪  - f_{b_j})⋅(-\\Delta_{i,j} + \\Gamma_{i, j, a})⎦"
      ]
     },
     "execution_count": 38,
     "metadata": {},
     "output_type": "execute_result"
    }
   ],
   "source": [
    "# But the other two do.\n",
    "# Note that they are symmetric in label and indices i,j.\n",
    "sympy.Matrix(pair_binary_classifiers_axioms[1:3])"
   ]
  },
  {
   "cell_type": "markdown",
   "id": "d9e2457b-2b67-4975-8937-ff110390100e",
   "metadata": {},
   "source": [
    "#### Checking the pair postulates"
   ]
  },
  {
   "cell_type": "markdown",
   "id": "0773dc91-7b67-413c-83d9-0edb8f027eac",
   "metadata": {},
   "source": [
    "Let's use SymPy to carry out the translation from the polynomial expressions above to a numerical value given the true values for all these test sample statistics."
   ]
  },
  {
   "cell_type": "code",
   "execution_count": 41,
   "id": "72cea099-1ab9-43c5-972a-5a5d5e55126e",
   "metadata": {},
   "outputs": [],
   "source": [
    "# The decision frequencies we can calculate from the test data sketch\n",
    "from ntqr.r2.paxioms import fai, fbi, faj, fbj, deltaij\n",
    "# The label paxioms for an arbitrary pair of classifiers\n",
    "from ntqr.r2.paxioms import pia, pib, pja, pjb\n",
    "# The pair error correlation variables\n",
    "from ntqr.r2.paxioms import gija, gijb"
   ]
  },
  {
   "cell_type": "code",
   "execution_count": 42,
   "id": "08743488-45e0-4c5e-a4b8-2928a159bef0",
   "metadata": {},
   "outputs": [
    {
     "data": {
      "image/png": "[encoded data removed]",
      "text/latex": [
       "\\begin{equation}\\left[\\begin{matrix}P_{i, a} & \\frac{3737}{5687}\\\\P_{i, b} & \\frac{6501}{10385}\\\\P_{j, a} & \\frac{1260}{5687}\\\\P_{j, b} & \\frac{29744}{31155}\\\\\\Gamma_{i, j, a} & \\frac{273192}{32341969}\\\\\\Gamma_{i, j, b} & \\frac{2204576}{323544675}\\end{matrix}\\right]\\end{equation}"
      ],
      "text/plain": [
       "⎡                    3737   ⎤\n",
       "⎢    P_{i, a}        ────   ⎥\n",
       "⎢                    5687   ⎥\n",
       "⎢                           ⎥\n",
       "⎢                    6501   ⎥\n",
       "⎢    P_{i, b}        ─────  ⎥\n",
       "⎢                    10385  ⎥\n",
       "⎢                           ⎥\n",
       "⎢                    1260   ⎥\n",
       "⎢    P_{j, a}        ────   ⎥\n",
       "⎢                    5687   ⎥\n",
       "⎢                           ⎥\n",
       "⎢                    29744  ⎥\n",
       "⎢    P_{j, b}        ─────  ⎥\n",
       "⎢                    31155  ⎥\n",
       "⎢                           ⎥\n",
       "⎢                   273192  ⎥\n",
       "⎢\\Gamma_{i, j, a}  ──────── ⎥\n",
       "⎢                  32341969 ⎥\n",
       "⎢                           ⎥\n",
       "⎢                   2204576 ⎥\n",
       "⎢\\Gamma_{i, j, b}  ─────────⎥\n",
       "⎣                  323544675⎦"
      ]
     },
     "execution_count": 42,
     "metadata": {},
     "output_type": "execute_result"
    }
   ],
   "source": [
    "i, j = (0, 1)\n",
    "values = {pia: cla[i]['a'], pib: cla[i]['b'], \n",
    "          pja: cla[j]['a'], pjb: cla[j]['b'],\n",
    "          gija: supervised_eval_exact['pair_correlation'][(i,j)]['a'],\n",
    "          gijb: supervised_eval_exact['pair_correlation'][(i,j)]['b']}\n",
    "sympy.Matrix([(key, val) for key, val in values.items()])"
   ]
  },
  {
   "cell_type": "code",
   "execution_count": 43,
   "id": "35cc47c4-4846-471e-992a-23660acb3ca7",
   "metadata": {},
   "outputs": [
    {
     "data": {
      "image/png": "[encoded data removed]",
      "text/latex": [
       "\\begin{equation}\\left[\\begin{matrix}- \\left(\\frac{1260}{5687} - f_{a_j}\\right) \\left(\\frac{6501}{10385} - f_{b_i}\\right) + \\left(\\frac{3737}{5687} - f_{a_i}\\right) \\left(\\frac{29744}{31155} - f_{b_j}\\right)\\\\\\left(\\frac{2204576}{323544675} - \\Delta_{i,j}\\right) \\left(\\frac{3737}{5687} - f_{a_i}\\right) + \\left(\\frac{273192}{32341969} - \\Delta_{i,j}\\right) \\left(\\frac{6501}{10385} - f_{b_i}\\right) + \\left(\\frac{3737}{5687} - f_{a_i}\\right) \\left(\\frac{29744}{31155} - f_{b_j}\\right) \\left(- f_{a_i} - f_{b_i} + \\frac{75779932}{59059495}\\right)\\\\\\left(\\frac{2204576}{323544675} - \\Delta_{i,j}\\right) \\left(\\frac{1260}{5687} - f_{a_j}\\right) + \\left(\\frac{273192}{32341969} - \\Delta_{i,j}\\right) \\left(\\frac{29744}{31155} - f_{b_j}\\right) + \\left(\\frac{3737}{5687} - f_{a_i}\\right) \\left(\\frac{29744}{31155} - f_{b_j}\\right) \\left(- f_{a_j} - f_{b_j} + \\frac{208409428}{177178485}\\right)\\end{matrix}\\right]\\end{equation}"
      ],
      "text/plain": [
       "⎡                                             ⎛1260          ⎞ ⎛6501           ↪\n",
       "⎢                                           - ⎜──── - f_{a_j}⎟⋅⎜───── - f_{b_i ↪\n",
       "⎢                                             ⎝5687          ⎠ ⎝10385          ↪\n",
       "⎢                                                                              ↪\n",
       "⎢⎛ 2204576                ⎞ ⎛3737          ⎞   ⎛ 273192                ⎞ ⎛6501 ↪\n",
       "⎢⎜───────── - \\Delta_{i,j}⎟⋅⎜──── - f_{a_i}⎟ + ⎜──────── - \\Delta_{i,j}⎟⋅⎜──── ↪\n",
       "⎢⎝323544675               ⎠ ⎝5687          ⎠   ⎝32341969               ⎠ ⎝1038 ↪\n",
       "⎢                                                                              ↪\n",
       "⎢⎛ 2204576                ⎞ ⎛1260          ⎞   ⎛ 273192                ⎞ ⎛2974 ↪\n",
       "⎢⎜───────── - \\Delta_{i,j}⎟⋅⎜──── - f_{a_j}⎟ + ⎜──────── - \\Delta_{i,j}⎟⋅⎜──── ↪\n",
       "⎣⎝323544675               ⎠ ⎝5687          ⎠   ⎝32341969               ⎠ ⎝3115 ↪\n",
       "\n",
       "↪  ⎞   ⎛3737          ⎞ ⎛29744          ⎞                                      ↪\n",
       "↪ }⎟ + ⎜──── - f_{a_i}⎟⋅⎜───── - f_{b_j}⎟                                      ↪\n",
       "↪  ⎠   ⎝5687          ⎠ ⎝31155          ⎠                                      ↪\n",
       "↪                                                                              ↪\n",
       "↪            ⎞   ⎛3737          ⎞ ⎛29744          ⎞ ⎛                     7577 ↪\n",
       "↪ ─ - f_{b_i}⎟ + ⎜──── - f_{a_i}⎟⋅⎜───── - f_{b_j}⎟⋅⎜-f_{a_i} - f_{b_i} + ──── ↪\n",
       "↪ 5          ⎠   ⎝5687          ⎠ ⎝31155          ⎠ ⎝                     5905 ↪\n",
       "↪                                                                              ↪\n",
       "↪ 4          ⎞   ⎛3737          ⎞ ⎛29744          ⎞ ⎛                     2084 ↪\n",
       "↪ ─ - f_{b_j}⎟ + ⎜──── - f_{a_i}⎟⋅⎜───── - f_{b_j}⎟⋅⎜-f_{a_j} - f_{b_j} + ──── ↪\n",
       "↪ 5          ⎠   ⎝5687          ⎠ ⎝31155          ⎠ ⎝                     1771 ↪\n",
       "\n",
       "↪       ⎤\n",
       "↪       ⎥\n",
       "↪       ⎥\n",
       "↪       ⎥\n",
       "↪ 9932⎞ ⎥\n",
       "↪ ────⎟ ⎥\n",
       "↪ 9495⎠ ⎥\n",
       "↪       ⎥\n",
       "↪ 09428⎞⎥\n",
       "↪ ─────⎟⎥\n",
       "↪ 78485⎠⎦"
      ]
     },
     "execution_count": 43,
     "metadata": {},
     "output_type": "execute_result"
    }
   ],
   "source": [
    "# Let's take a look at the postulates now that we have specified \n",
    "# the unknown sample statistics of correctness.\n",
    "# We should only have variables left that are moments of the test data sketch\n",
    "\n",
    "sympy.Matrix([axiom.subs(values) \n",
    "              for axiom in pair_binary_classifiers_axioms])"
   ]
  },
  {
   "cell_type": "code",
   "execution_count": 44,
   "id": "c5d4adc9-b2a4-476b-8659-09053b9af562",
   "metadata": {},
   "outputs": [
    {
     "data": {
      "text/plain": [
       "True"
      ]
     },
     "execution_count": 44,
     "metadata": {},
     "output_type": "execute_result"
    }
   ],
   "source": [
    "# Let's create a dict for the quantities we can calculate from the data sketch\n",
    "# The pair frequency moment is label independent even though it is calculated \n",
    "# using only a single label!\n",
    "pair_moment_a = tvc.pair_frequency_moment((i, j), 'a')\n",
    "pair_moment_b = tvc.pair_frequency_moment((i, j), 'b')\n",
    "pair_moment_a == pair_moment_b"
   ]
  },
  {
   "cell_type": "code",
   "execution_count": 45,
   "id": "a62da7ab-ff84-436f-9e81-e7546bdcc2dd",
   "metadata": {},
   "outputs": [
    {
     "data": {
      "image/png": "[encoded data removed]",
      "text/latex": [
       "\\begin{equation}\\left[\\begin{matrix}\\Delta_{i,j} & \\frac{18432653}{1357332964}\\\\f_{a_i} & \\frac{15389}{36842}\\\\f_{b_i} & \\frac{21453}{36842}\\\\f_{a_j} & \\frac{2671}{36842}\\\\f_{b_j} & \\frac{34171}{36842}\\end{matrix}\\right]\\end{equation}"
      ],
      "text/plain": [
       "⎡               18432653 ⎤\n",
       "⎢\\Delta_{i,j}  ──────────⎥\n",
       "⎢              1357332964⎥\n",
       "⎢                        ⎥\n",
       "⎢                15389   ⎥\n",
       "⎢  f_{a_i}       ─────   ⎥\n",
       "⎢                36842   ⎥\n",
       "⎢                        ⎥\n",
       "⎢                21453   ⎥\n",
       "⎢  f_{b_i}       ─────   ⎥\n",
       "⎢                36842   ⎥\n",
       "⎢                        ⎥\n",
       "⎢                2671    ⎥\n",
       "⎢  f_{a_j}       ─────   ⎥\n",
       "⎢                36842   ⎥\n",
       "⎢                        ⎥\n",
       "⎢                34171   ⎥\n",
       "⎢  f_{b_j}       ─────   ⎥\n",
       "⎣                36842   ⎦"
      ]
     },
     "execution_count": 45,
     "metadata": {},
     "output_type": "execute_result"
    }
   ],
   "source": [
    "obsv_values = {deltaij: pair_moment_b,\n",
    "              fai: cvf[i]['a'], fbi: cvf[i]['b'],\n",
    "              faj: cvf[j]['a'], fbj: cvf[j]['b']}\n",
    "sympy.Matrix([(key, val) \n",
    "              for key, val in obsv_values.items()])"
   ]
  },
  {
   "cell_type": "code",
   "execution_count": 46,
   "id": "ad2f2d93-d4fb-408d-8dfd-adb9d60564ed",
   "metadata": {},
   "outputs": [
    {
     "data": {
      "image/png": "[encoded data removed]",
      "text/latex": [
       "\\begin{equation}\\left[\\begin{matrix}0\\\\0\\\\0\\end{matrix}\\right]\\end{equation}"
      ],
      "text/plain": [
       "⎡0⎤\n",
       "⎢ ⎥\n",
       "⎢0⎥\n",
       "⎢ ⎥\n",
       "⎣0⎦"
      ]
     },
     "execution_count": 46,
     "metadata": {},
     "output_type": "execute_result"
    }
   ],
   "source": [
    "# The final check, all entries should be identically zero\n",
    "\n",
    "sympy.Matrix([axiom.subs({**values, **obsv_values}) \n",
    "              for axiom in pair_binary_classifiers_axioms])"
   ]
  },
  {
   "cell_type": "code",
   "execution_count": null,
   "id": "41ec15df-1517-4fe5-9e7a-6c12bd0a7ebc",
   "metadata": {},
   "outputs": [],
   "source": []
  }
 ],
 "metadata": {
  "kernelspec": {
   "display_name": "Python 3 (ipykernel)",
   "language": "python",
   "name": "python3"
  },
  "language_info": {
   "codemirror_mode": {
    "name": "ipython",
    "version": 3
   },
   "file_extension": ".py",
   "mimetype": "text/x-python",
   "name": "python",
   "nbconvert_exporter": "python",
   "pygments_lexer": "ipython3",
   "version": "3.11.8"
  },
  "widgets": {
   "application/vnd.jupyter.widget-state+json": {
    "state": {},
    "version_major": 2,
    "version_minor": 0
   }
  }
 },
 "nbformat": 4,
 "nbformat_minor": 5
}
