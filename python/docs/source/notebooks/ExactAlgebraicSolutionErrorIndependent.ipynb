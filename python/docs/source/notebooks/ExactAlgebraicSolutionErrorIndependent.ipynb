{
 "cells": [
  {
   "cell_type": "markdown",
   "id": "50bd4b68-f580-41c4-94d2-6607658e2762",
   "metadata": {},
   "source": [
    "# The Exact, Algebraic Solution for Error Independent Binary Classifiers"
   ]
  },
  {
   "cell_type": "markdown",
   "id": "6945811e-baf1-4456-ae85-efa2c1c374eb",
   "metadata": {},
   "source": [
    "This notebook will illustrate the exact, algebraic solution to error independent binary classifiers that is contained in the `ntqr.r2.ErrorIndependentEvaluation` class. It will be contrasted with another algebraic evaluator the reader may be familiar with - majority voting."
   ]
  },
  {
   "cell_type": "markdown",
   "id": "bf956460-9f2f-4043-a5c2-f1892573a694",
   "metadata": {},
   "source": [
    "## The polynomial generating set for error-independent binary classification sketches"
   ]
  },
  {
   "cell_type": "markdown",
   "id": "9ad1fe6c-4abb-49cf-9654-240115bd6bde",
   "metadata": {},
   "source": [
    "The observations of agreement and disagreement vote patterns for noisy classification functions are not without structure. This can be seen in the polynomial generating set for three binary classifiers that are arbitrarily correlated. The idea of a \"generating set\" is that the data sketch of observations is explained by unknown statistics of correctness during a test that we want to estimate. In other words, the aligned decisions of binary classifiers and their resulting counts are not just random numbers. They follow a pattern that is given by the generating set of polynomials. Let's take a peek at that complicated generating set for arbitrarly correlated classifiers."
   ]
  },
  {
   "cell_type": "code",
   "execution_count": 6,
   "id": "5db87a8b-08c4-42c6-ab3f-d2e3c885e124",
   "metadata": {},
   "outputs": [
    {
     "name": "stdout",
     "output_type": "stream",
     "text": [
      "IPython console for SymPy 1.13.2 (Python 3.11.8-64-bit) (ground types: gmpy)\n",
      "\n",
      "These commands were executed:\n",
      ">>> from sympy import *\n",
      ">>> x, y, z, t = symbols('x y z t')\n",
      ">>> k, m, n = symbols('k m n', integer=True)\n",
      ">>> f, g, h = symbols('f g h', cls=Function)\n",
      ">>> init_printing()\n",
      "\n",
      "Documentation can be found at https://docs.sympy.org/1.13.2/\n",
      "\n"
     ]
    }
   ],
   "source": [
    "import sympy\n",
    "from IPython.display import Math\n",
    "import ntqr\n",
    "sympy.init_session()\n",
    "init_printing(use_unicode=False, use_latex='mathjax')"
   ]
  },
  {
   "cell_type": "code",
   "execution_count": 7,
   "id": "e2866ed1-0c37-474c-9e23-00563f25c89f",
   "metadata": {},
   "outputs": [
    {
     "data": {
      "text/latex": [
       "$\\displaystyle \\left[\\begin{matrix}P_{a} \\left(P_{i, a} P_{j, a} P_{k, a} + P_{i, a} \\Gamma_{j, k, a} + P_{j, a} \\Gamma_{i, k, a} + P_{k, a} \\Gamma_{i, j, a} + \\Gamma_{i, j, k, a}\\right) + P_{b} \\left(\\Gamma_{i, j, b} \\left(1 - P_{k, b}\\right) - \\Gamma_{i, j, k, b} + \\Gamma_{i, k, b} \\left(1 - P_{j, b}\\right) + \\Gamma_{j, k, b} \\left(1 - P_{i, b}\\right) + \\left(1 - P_{i, b}\\right) \\left(1 - P_{j, b}\\right) \\left(1 - P_{k, b}\\right)\\right) - f_{a_i, a_j, a_k}\\\\P_{a} \\left(P_{i, a} P_{j, a} \\left(1 - P_{k, a}\\right) - P_{i, a} \\Gamma_{j, k, a} - P_{j, a} \\Gamma_{i, k, a} + \\Gamma_{i, j, a} \\left(1 - P_{k, a}\\right) - \\Gamma_{i, j, k, a}\\right) + P_{b} \\left(P_{k, b} \\Gamma_{i, j, b} + P_{k, b} \\left(1 - P_{i, b}\\right) \\left(1 - P_{j, b}\\right) + \\Gamma_{i, j, k, b} - \\Gamma_{i, k, b} \\left(1 - P_{j, b}\\right) - \\Gamma_{j, k, b} \\left(1 - P_{i, b}\\right)\\right) - f_{a_i, a_j, b_k}\\\\P_{a} \\left(P_{i, a} P_{k, a} \\left(1 - P_{j, a}\\right) - P_{i, a} \\Gamma_{j, k, a} - P_{k, a} \\Gamma_{i, j, a} - \\Gamma_{i, j, k, a} + \\Gamma_{i, k, a} \\left(1 - P_{j, a}\\right)\\right) + P_{b} \\left(P_{j, b} \\Gamma_{i, k, b} + P_{j, b} \\left(1 - P_{i, b}\\right) \\left(1 - P_{k, b}\\right) - \\Gamma_{i, j, b} \\left(1 - P_{k, b}\\right) + \\Gamma_{i, j, k, b} - \\Gamma_{j, k, b} \\left(1 - P_{i, b}\\right)\\right) - f_{a_i, b_j, a_k}\\\\P_{a} \\left(P_{i, a} \\Gamma_{j, k, a} + P_{i, a} \\left(1 - P_{j, a}\\right) \\left(1 - P_{k, a}\\right) - \\Gamma_{i, j, a} \\left(1 - P_{k, a}\\right) + \\Gamma_{i, j, k, a} - \\Gamma_{i, k, a} \\left(1 - P_{j, a}\\right)\\right) + P_{b} \\left(P_{j, b} P_{k, b} \\left(1 - P_{i, b}\\right) - P_{j, b} \\Gamma_{i, k, b} - P_{k, b} \\Gamma_{i, j, b} - \\Gamma_{i, j, k, b} + \\Gamma_{j, k, b} \\left(1 - P_{i, b}\\right)\\right) - f_{a_i, b_j, b_k}\\\\P_{a} \\left(P_{j, a} P_{k, a} \\left(1 - P_{i, a}\\right) - P_{j, a} \\Gamma_{i, k, a} - P_{k, a} \\Gamma_{i, j, a} - \\Gamma_{i, j, k, a} + \\Gamma_{j, k, a} \\left(1 - P_{i, a}\\right)\\right) + P_{b} \\left(P_{i, b} \\Gamma_{j, k, b} + P_{i, b} \\left(1 - P_{j, b}\\right) \\left(1 - P_{k, b}\\right) - \\Gamma_{i, j, b} \\left(1 - P_{k, b}\\right) + \\Gamma_{i, j, k, b} - \\Gamma_{i, k, b} \\left(1 - P_{j, b}\\right)\\right) - f_{b_i, a_j, a_k}\\\\P_{a} \\left(P_{j, a} \\Gamma_{i, j, a} + P_{j, a} \\left(1 - P_{i, a}\\right) \\left(1 - P_{k, a}\\right) - \\Gamma_{i, j, a} \\left(1 - P_{k, a}\\right) + \\Gamma_{i, j, k, a} - \\Gamma_{j, k, a} \\left(1 - P_{i, a}\\right)\\right) + P_{b} \\left(P_{i, b} P_{k, b} \\left(1 - P_{j, b}\\right) - P_{i, b} \\Gamma_{j, k, b} - P_{k, b} \\Gamma_{i, j, b} - \\Gamma_{i, j, k, b} + \\Gamma_{i, k, b} \\left(1 - P_{j, b}\\right)\\right) - f_{b_i, a_j, b_k}\\\\P_{a} \\left(P_{k, a} \\Gamma_{i, j, a} + P_{k, a} \\left(1 - P_{i, a}\\right) \\left(1 - P_{j, a}\\right) + \\Gamma_{i, j, k, a} - \\Gamma_{i, k, a} \\left(1 - P_{j, a}\\right) - \\Gamma_{j, k, a} \\left(1 - P_{i, a}\\right)\\right) + P_{b} \\left(P_{i, b} P_{j, b} \\left(1 - P_{k, b}\\right) - P_{i, b} \\Gamma_{j, k, b} - P_{j, b} \\Gamma_{i, k, b} + \\Gamma_{i, j, b} \\left(1 - P_{k, b}\\right) - \\Gamma_{i, j, k, b}\\right) - f_{b_i, b_j, a_k}\\\\P_{a} \\left(\\Gamma_{i, j, a} \\left(1 - P_{k, a}\\right) - \\Gamma_{i, j, k, a} + \\Gamma_{i, k, a} \\left(1 - P_{j, a}\\right) + \\Gamma_{j, k, a} \\left(1 - P_{i, a}\\right) + \\left(1 - P_{i, a}\\right) \\left(1 - P_{j, a}\\right) \\left(1 - P_{k, a}\\right)\\right) + P_{b} \\left(P_{i, b} P_{j, b} P_{k, b} + P_{i, b} \\Gamma_{j, k, b} + P_{j, b} \\Gamma_{i, k, b} + P_{k, b} \\Gamma_{i, j, b} + \\Gamma_{i, j, k, b}\\right) - f_{b_i, b_j, b_k}\\end{matrix}\\right]$"
      ],
      "text/plain": [
       "[P_a*(P_{i, a}*P_{j, a}*P_{k, a} + P_{i, a}*\\Gamma_{j, k, a} + P_{j, a}*\\Gamma >\n",
       "[                                                                              >\n",
       "[P_a*(P_{i, a}*P_{j, a}*(1 - P_{k, a}) - P_{i, a}*\\Gamma_{j, k, a} - P_{j, a}* >\n",
       "[                                                                              >\n",
       "[P_a*(P_{i, a}*P_{k, a}*(1 - P_{j, a}) - P_{i, a}*\\Gamma_{j, k, a} - P_{k, a}* >\n",
       "[                                                                              >\n",
       "[P_a*(P_{i, a}*\\Gamma_{j, k, a} + P_{i, a}*(1 - P_{j, a})*(1 - P_{k, a}) - \\Ga >\n",
       "[                                                                              >\n",
       "[P_a*(P_{j, a}*P_{k, a}*(1 - P_{i, a}) - P_{j, a}*\\Gamma_{i, k, a} - P_{k, a}* >\n",
       "[                                                                              >\n",
       "[P_a*(P_{j, a}*\\Gamma_{i, j, a} + P_{j, a}*(1 - P_{i, a})*(1 - P_{k, a}) - \\Ga >\n",
       "[                                                                              >\n",
       "[P_a*(P_{k, a}*\\Gamma_{i, j, a} + P_{k, a}*(1 - P_{i, a})*(1 - P_{j, a}) + \\Ga >\n",
       "[                                                                              >\n",
       "[P_a*(\\Gamma_{i, j, a}*(1 - P_{k, a}) - \\Gamma_{i, j, k, a} + \\Gamma_{i, k, a} >\n",
       "\n",
       "> _{i, k, a} + P_{k, a}*\\Gamma_{i, j, a} + \\Gamma_{i, j, k, a}) + P_b*(\\Gamma_ >\n",
       ">                                                                              >\n",
       "> \\Gamma_{i, k, a} + \\Gamma_{i, j, a}*(1 - P_{k, a}) - \\Gamma_{i, j, k, a}) +  >\n",
       ">                                                                              >\n",
       "> \\Gamma_{i, j, a} - \\Gamma_{i, j, k, a} + \\Gamma_{i, k, a}*(1 - P_{j, a})) +  >\n",
       ">                                                                              >\n",
       "> mma_{i, j, a}*(1 - P_{k, a}) + \\Gamma_{i, j, k, a} - \\Gamma_{i, k, a}*(1 - P >\n",
       ">                                                                              >\n",
       "> \\Gamma_{i, j, a} - \\Gamma_{i, j, k, a} + \\Gamma_{j, k, a}*(1 - P_{i, a})) +  >\n",
       ">                                                                              >\n",
       "> mma_{i, j, a}*(1 - P_{k, a}) + \\Gamma_{i, j, k, a} - \\Gamma_{j, k, a}*(1 - P >\n",
       ">                                                                              >\n",
       "> mma_{i, j, k, a} - \\Gamma_{i, k, a}*(1 - P_{j, a}) - \\Gamma_{j, k, a}*(1 - P >\n",
       ">                                                                              >\n",
       "> *(1 - P_{j, a}) + \\Gamma_{j, k, a}*(1 - P_{i, a}) + (1 - P_{i, a})*(1 - P_{j >\n",
       "\n",
       "> {i, j, b}*(1 - P_{k, b}) - \\Gamma_{i, j, k, b} + \\Gamma_{i, k, b}*(1 - P_{j, >\n",
       ">                                                                              >\n",
       "> P_b*(P_{k, b}*\\Gamma_{i, j, b} + P_{k, b}*(1 - P_{i, b})*(1 - P_{j, b}) + \\G >\n",
       ">                                                                              >\n",
       "> P_b*(P_{j, b}*\\Gamma_{i, k, b} + P_{j, b}*(1 - P_{i, b})*(1 - P_{k, b}) - \\G >\n",
       ">                                                                              >\n",
       "> _{j, a})) + P_b*(P_{j, b}*P_{k, b}*(1 - P_{i, b}) - P_{j, b}*\\Gamma_{i, k, b >\n",
       ">                                                                              >\n",
       "> P_b*(P_{i, b}*\\Gamma_{j, k, b} + P_{i, b}*(1 - P_{j, b})*(1 - P_{k, b}) - \\G >\n",
       ">                                                                              >\n",
       "> _{i, a})) + P_b*(P_{i, b}*P_{k, b}*(1 - P_{j, b}) - P_{i, b}*\\Gamma_{j, k, b >\n",
       ">                                                                              >\n",
       "> _{i, a})) + P_b*(P_{i, b}*P_{j, b}*(1 - P_{k, b}) - P_{i, b}*\\Gamma_{j, k, b >\n",
       ">                                                                              >\n",
       "> , a})*(1 - P_{k, a})) + P_b*(P_{i, b}*P_{j, b}*P_{k, b} + P_{i, b}*\\Gamma_{j >\n",
       "\n",
       ">  b}) + \\Gamma_{j, k, b}*(1 - P_{i, b}) + (1 - P_{i, b})*(1 - P_{j, b})*(1 -  >\n",
       ">                                                                              >\n",
       "> amma_{i, j, k, b} - \\Gamma_{i, k, b}*(1 - P_{j, b}) - \\Gamma_{j, k, b}*(1 -  >\n",
       ">                                                                              >\n",
       "> amma_{i, j, b}*(1 - P_{k, b}) + \\Gamma_{i, j, k, b} - \\Gamma_{j, k, b}*(1 -  >\n",
       ">                                                                              >\n",
       "> } - P_{k, b}*\\Gamma_{i, j, b} - \\Gamma_{i, j, k, b} + \\Gamma_{j, k, b}*(1 -  >\n",
       ">                                                                              >\n",
       "> amma_{i, j, b}*(1 - P_{k, b}) + \\Gamma_{i, j, k, b} - \\Gamma_{i, k, b}*(1 -  >\n",
       ">                                                                              >\n",
       "> } - P_{k, b}*\\Gamma_{i, j, b} - \\Gamma_{i, j, k, b} + \\Gamma_{i, k, b}*(1 -  >\n",
       ">                                                                              >\n",
       "> } - P_{j, b}*\\Gamma_{i, k, b} + \\Gamma_{i, j, b}*(1 - P_{k, b}) - \\Gamma_{i, >\n",
       ">                                                                              >\n",
       "> , k, b} + P_{j, b}*\\Gamma_{i, k, b} + P_{k, b}*\\Gamma_{i, j, b} + \\Gamma_{i, >\n",
       "\n",
       "> P_{k, b})) - f_{a_i, a_j, a_k}]\n",
       ">                               ]\n",
       "> P_{i, b})) - f_{a_i, a_j, b_k}]\n",
       ">                               ]\n",
       "> P_{i, b})) - f_{a_i, b_j, a_k}]\n",
       ">                               ]\n",
       "> P_{i, b})) - f_{a_i, b_j, b_k}]\n",
       ">                               ]\n",
       "> P_{j, b})) - f_{b_i, a_j, a_k}]\n",
       ">                               ]\n",
       "> P_{j, b})) - f_{b_i, a_j, b_k}]\n",
       ">                               ]\n",
       ">  j, k, b}) - f_{b_i, b_j, a_k}]\n",
       ">                               ]\n",
       ">  j, k, b}) - f_{b_i, b_j, b_k}]"
      ]
     },
     "execution_count": 7,
     "metadata": {},
     "output_type": "execute_result"
    }
   ],
   "source": [
    "from ntqr.r2.paxioms import (\n",
    "    trio_binary_classifiers_generating_set,\n",
    "    pa, pb,\n",
    "    pia, pib, pja, pjb, pka, pkb,\n",
    "    gija, gijb, gika, gikb, gjka, gjkb,\n",
    "    gijka, gijkb)\n",
    "#from ntqr.r2.datasketches import trio_vote_patterns\n",
    "Matrix([expr for expr in trio_binary_classifiers_generating_set])"
   ]
  },
  {
   "cell_type": "markdown",
   "id": "ee442081-0ee4-4823-b22a-a61436fd5bb6",
   "metadata": {},
   "source": [
    "The set above is the one used to derive the axioms of evaluation for binary classification up to N=3. We want to test the error-independent solution so we want the generating set for error-independent binary classifiers. That is given by setting all the error correlations identically to zero."
   ]
  },
  {
   "cell_type": "code",
   "execution_count": 9,
   "id": "5b95e190-25b2-4059-996e-1a131ff29592",
   "metadata": {},
   "outputs": [
    {
     "data": {
      "text/latex": [
       "$\\displaystyle \\left[\\begin{matrix}P_{a} P_{i, a} P_{j, a} P_{k, a} + P_{b} \\left(1 - P_{i, b}\\right) \\left(1 - P_{j, b}\\right) \\left(1 - P_{k, b}\\right) - f_{a_i, a_j, a_k}\\\\P_{a} P_{i, a} P_{j, a} \\left(1 - P_{k, a}\\right) + P_{b} P_{k, b} \\left(1 - P_{i, b}\\right) \\left(1 - P_{j, b}\\right) - f_{a_i, a_j, b_k}\\\\P_{a} P_{i, a} P_{k, a} \\left(1 - P_{j, a}\\right) + P_{b} P_{j, b} \\left(1 - P_{i, b}\\right) \\left(1 - P_{k, b}\\right) - f_{a_i, b_j, a_k}\\\\P_{a} P_{i, a} \\left(1 - P_{j, a}\\right) \\left(1 - P_{k, a}\\right) + P_{b} P_{j, b} P_{k, b} \\left(1 - P_{i, b}\\right) - f_{a_i, b_j, b_k}\\\\P_{a} P_{j, a} P_{k, a} \\left(1 - P_{i, a}\\right) + P_{b} P_{i, b} \\left(1 - P_{j, b}\\right) \\left(1 - P_{k, b}\\right) - f_{b_i, a_j, a_k}\\\\P_{a} P_{j, a} \\left(1 - P_{i, a}\\right) \\left(1 - P_{k, a}\\right) + P_{b} P_{i, b} P_{k, b} \\left(1 - P_{j, b}\\right) - f_{b_i, a_j, b_k}\\\\P_{a} P_{k, a} \\left(1 - P_{i, a}\\right) \\left(1 - P_{j, a}\\right) + P_{b} P_{i, b} P_{j, b} \\left(1 - P_{k, b}\\right) - f_{b_i, b_j, a_k}\\\\P_{a} \\left(1 - P_{i, a}\\right) \\left(1 - P_{j, a}\\right) \\left(1 - P_{k, a}\\right) + P_{b} P_{i, b} P_{j, b} P_{k, b} - f_{b_i, b_j, b_k}\\end{matrix}\\right]$"
      ],
      "text/plain": [
       "[P_a*P_{i, a}*P_{j, a}*P_{k, a} + P_b*(1 - P_{i, b})*(1 - P_{j, b})*(1 - P_{k, >\n",
       "[                                                                              >\n",
       "[P_a*P_{i, a}*P_{j, a}*(1 - P_{k, a}) + P_b*P_{k, b}*(1 - P_{i, b})*(1 - P_{j, >\n",
       "[                                                                              >\n",
       "[P_a*P_{i, a}*P_{k, a}*(1 - P_{j, a}) + P_b*P_{j, b}*(1 - P_{i, b})*(1 - P_{k, >\n",
       "[                                                                              >\n",
       "[P_a*P_{i, a}*(1 - P_{j, a})*(1 - P_{k, a}) + P_b*P_{j, b}*P_{k, b}*(1 - P_{i, >\n",
       "[                                                                              >\n",
       "[P_a*P_{j, a}*P_{k, a}*(1 - P_{i, a}) + P_b*P_{i, b}*(1 - P_{j, b})*(1 - P_{k, >\n",
       "[                                                                              >\n",
       "[P_a*P_{j, a}*(1 - P_{i, a})*(1 - P_{k, a}) + P_b*P_{i, b}*P_{k, b}*(1 - P_{j, >\n",
       "[                                                                              >\n",
       "[P_a*P_{k, a}*(1 - P_{i, a})*(1 - P_{j, a}) + P_b*P_{i, b}*P_{j, b}*(1 - P_{k, >\n",
       "[                                                                              >\n",
       "[P_a*(1 - P_{i, a})*(1 - P_{j, a})*(1 - P_{k, a}) + P_b*P_{i, b}*P_{j, b}*P_{k >\n",
       "\n",
       ">  b}) - f_{a_i, a_j, a_k}]\n",
       ">                         ]\n",
       ">  b}) - f_{a_i, a_j, b_k}]\n",
       ">                         ]\n",
       ">  b}) - f_{a_i, b_j, a_k}]\n",
       ">                         ]\n",
       ">  b}) - f_{a_i, b_j, b_k}]\n",
       ">                         ]\n",
       ">  b}) - f_{b_i, a_j, a_k}]\n",
       ">                         ]\n",
       ">  b}) - f_{b_i, a_j, b_k}]\n",
       ">                         ]\n",
       ">  b}) - f_{b_i, b_j, a_k}]\n",
       ">                         ]\n",
       "> , b} - f_{b_i, b_j, b_k}]"
      ]
     },
     "execution_count": 9,
     "metadata": {},
     "output_type": "execute_result"
    }
   ],
   "source": [
    "zero_error_correlations = {gija: 0, gijb: 0,\n",
    "                           gika: 0, gikb: 0,\n",
    "                           gjka: 0, gjkb: 0,\n",
    "                           gijka: 0, gijkb: 0}\n",
    "error_independent_generating_set = [poly.subs(zero_error_correlations) for poly in trio_binary_classifiers_generating_set]\n",
    "sympy.Matrix(error_independent_generating_set)"
   ]
  },
  {
   "cell_type": "markdown",
   "id": "73c44ecf-dd1c-4e63-a4db-1918e0fad544",
   "metadata": {},
   "source": [
    "The structure of this generating set is the reason we can obtain information about the evaluation using only the observed frequencies that appear at the right. This can be stated precisely by saying that the data sketches of binary classifiers are not generated by eight random integers in an unstructured way as follows."
   ]
  },
  {
   "cell_type": "code",
   "execution_count": 11,
   "id": "eeeb006b-bec3-473b-9a92-f283215adc1c",
   "metadata": {},
   "outputs": [
    {
     "data": {
      "text/latex": [
       "$\\displaystyle \\left[\\begin{matrix}- f_{a_i, a_j, a_k} + x_{1}\\\\- f_{a_i, a_j, b_k} + x_{2}\\\\- f_{a_i, b_j, a_k} + x_{3}\\\\- f_{a_i, b_j, b_k} + x_{4}\\\\- f_{b_i, a_j, a_k} + x_{5}\\\\- f_{b_i, a_j, b_k} + x_{6}\\\\- f_{b_i, b_j, a_k} + x_{7}\\\\- f_{b_i, b_j, b_k} + x_{8}\\end{matrix}\\right]$"
      ],
      "text/plain": [
       "[-f_{a_i, a_j, a_k} + x_1]\n",
       "[                        ]\n",
       "[-f_{a_i, a_j, b_k} + x_2]\n",
       "[                        ]\n",
       "[-f_{a_i, b_j, a_k} + x_3]\n",
       "[                        ]\n",
       "[-f_{a_i, b_j, b_k} + x_4]\n",
       "[                        ]\n",
       "[-f_{b_i, a_j, a_k} + x_5]\n",
       "[                        ]\n",
       "[-f_{b_i, a_j, b_k} + x_6]\n",
       "[                        ]\n",
       "[-f_{b_i, b_j, a_k} + x_7]\n",
       "[                        ]\n",
       "[-f_{b_i, b_j, b_k} + x_8]"
      ]
     },
     "execution_count": 11,
     "metadata": {},
     "output_type": "execute_result"
    }
   ],
   "source": [
    "from ntqr.r2.paxioms import trio_frequencies\n",
    "incorrect_generating_set = [(sympy.Symbol(\"x_{}\".format(i)) - trio_frequencies[i-1]) for i in range(1,9)]\n",
    "sympy.Matrix(incorrect_generating_set)"
   ]
  },
  {
   "cell_type": "markdown",
   "id": "a074309a-3fcf-4a0f-88bb-0b80d94b5486",
   "metadata": {},
   "source": [
    "Another notebook will discuss the utility of this observation - not every set of vote pattern counts is admissible and therefore we can detect spoofed data sketches."
   ]
  },
  {
   "cell_type": "markdown",
   "id": "477fe401-2207-4396-838e-b87082c148d5",
   "metadata": {},
   "source": [
    "## A round trip evaluation to demonstrate the exact solution"
   ]
  },
  {
   "cell_type": "markdown",
   "id": "09025d9d-8f32-44a2-a7ae-62ebfeed0dbf",
   "metadata": {},
   "source": [
    "We can now demonstrate the exact solution for the case of error independent classifiers by using the generating set. We randomly pick values for all the statistics in the generating set, substitute them in the generating set to get the data sketch that would be observed in that case. We then use the data sketch to recover the stastics we used to generate the set."
   ]
  },
  {
   "cell_type": "code",
   "execution_count": 15,
   "id": "96bda2ed-4b2b-49c0-8aa7-e974c4a4a120",
   "metadata": {},
   "outputs": [
    {
     "data": {
      "text/latex": [
       "$\\displaystyle \\left[\\begin{matrix}P_{a} P_{i, a} P_{j, a} P_{k, a} - f_{a_i, a_j, a_k} + \\left(1 - P_{a}\\right) \\left(1 - P_{i, b}\\right) \\left(1 - P_{j, b}\\right) \\left(1 - P_{k, b}\\right)\\\\P_{a} P_{i, a} P_{j, a} \\left(1 - P_{k, a}\\right) + P_{k, b} \\left(1 - P_{a}\\right) \\left(1 - P_{i, b}\\right) \\left(1 - P_{j, b}\\right) - f_{a_i, a_j, b_k}\\\\P_{a} P_{i, a} P_{k, a} \\left(1 - P_{j, a}\\right) + P_{j, b} \\left(1 - P_{a}\\right) \\left(1 - P_{i, b}\\right) \\left(1 - P_{k, b}\\right) - f_{a_i, b_j, a_k}\\\\P_{a} P_{i, a} \\left(1 - P_{j, a}\\right) \\left(1 - P_{k, a}\\right) + P_{j, b} P_{k, b} \\left(1 - P_{a}\\right) \\left(1 - P_{i, b}\\right) - f_{a_i, b_j, b_k}\\\\P_{a} P_{j, a} P_{k, a} \\left(1 - P_{i, a}\\right) + P_{i, b} \\left(1 - P_{a}\\right) \\left(1 - P_{j, b}\\right) \\left(1 - P_{k, b}\\right) - f_{b_i, a_j, a_k}\\\\P_{a} P_{j, a} \\left(1 - P_{i, a}\\right) \\left(1 - P_{k, a}\\right) + P_{i, b} P_{k, b} \\left(1 - P_{a}\\right) \\left(1 - P_{j, b}\\right) - f_{b_i, a_j, b_k}\\\\P_{a} P_{k, a} \\left(1 - P_{i, a}\\right) \\left(1 - P_{j, a}\\right) + P_{i, b} P_{j, b} \\left(1 - P_{a}\\right) \\left(1 - P_{k, b}\\right) - f_{b_i, b_j, a_k}\\\\P_{a} \\left(1 - P_{i, a}\\right) \\left(1 - P_{j, a}\\right) \\left(1 - P_{k, a}\\right) + P_{i, b} P_{j, b} P_{k, b} \\left(1 - P_{a}\\right) - f_{b_i, b_j, b_k}\\end{matrix}\\right]$"
      ],
      "text/plain": [
       "[P_a*P_{i, a}*P_{j, a}*P_{k, a} - f_{a_i, a_j, a_k} + (1 - P_a)*(1 - P_{i, b}) >\n",
       "[                                                                              >\n",
       "[P_a*P_{i, a}*P_{j, a}*(1 - P_{k, a}) + P_{k, b}*(1 - P_a)*(1 - P_{i, b})*(1 - >\n",
       "[                                                                              >\n",
       "[P_a*P_{i, a}*P_{k, a}*(1 - P_{j, a}) + P_{j, b}*(1 - P_a)*(1 - P_{i, b})*(1 - >\n",
       "[                                                                              >\n",
       "[P_a*P_{i, a}*(1 - P_{j, a})*(1 - P_{k, a}) + P_{j, b}*P_{k, b}*(1 - P_a)*(1 - >\n",
       "[                                                                              >\n",
       "[P_a*P_{j, a}*P_{k, a}*(1 - P_{i, a}) + P_{i, b}*(1 - P_a)*(1 - P_{j, b})*(1 - >\n",
       "[                                                                              >\n",
       "[P_a*P_{j, a}*(1 - P_{i, a})*(1 - P_{k, a}) + P_{i, b}*P_{k, b}*(1 - P_a)*(1 - >\n",
       "[                                                                              >\n",
       "[P_a*P_{k, a}*(1 - P_{i, a})*(1 - P_{j, a}) + P_{i, b}*P_{j, b}*(1 - P_a)*(1 - >\n",
       "[                                                                              >\n",
       "[P_a*(1 - P_{i, a})*(1 - P_{j, a})*(1 - P_{k, a}) + P_{i, b}*P_{j, b}*P_{k, b} >\n",
       "\n",
       "> *(1 - P_{j, b})*(1 - P_{k, b})]\n",
       ">                               ]\n",
       ">  P_{j, b}) - f_{a_i, a_j, b_k}]\n",
       ">                               ]\n",
       ">  P_{k, b}) - f_{a_i, b_j, a_k}]\n",
       ">                               ]\n",
       ">  P_{i, b}) - f_{a_i, b_j, b_k}]\n",
       ">                               ]\n",
       ">  P_{k, b}) - f_{b_i, a_j, a_k}]\n",
       ">                               ]\n",
       ">  P_{j, b}) - f_{b_i, a_j, b_k}]\n",
       ">                               ]\n",
       ">  P_{k, b}) - f_{b_i, b_j, a_k}]\n",
       ">                               ]\n",
       "> *(1 - P_a) - f_{b_i, b_j, b_k}]"
      ]
     },
     "execution_count": 15,
     "metadata": {},
     "output_type": "execute_result"
    }
   ],
   "source": [
    "# Let's simplify the substitution by using the relation between pa and pb\n",
    "simplified_generating_set = [poly.subs({pb:(1-pa)}) for poly in error_independent_generating_set]\n",
    "sympy.Matrix(simplified_generating_set)"
   ]
  },
  {
   "cell_type": "code",
   "execution_count": 16,
   "id": "6a215346-2783-4eb0-9e81-a5ac61d23baa",
   "metadata": {},
   "outputs": [
    {
     "data": {
      "text/latex": [
       "$\\displaystyle \\left[\\begin{matrix}\\frac{7917}{256000} - f_{a_i, a_j, a_k}\\\\\\frac{10647}{256000} - f_{a_i, a_j, b_k}\\\\\\frac{3371}{256000} - f_{a_i, b_j, a_k}\\\\\\frac{829}{51200} - f_{a_i, b_j, b_k}\\\\\\frac{71019}{256000} - f_{b_i, a_j, a_k}\\\\\\frac{91377}{256000} - f_{b_i, a_j, b_k}\\\\\\frac{30333}{256000} - f_{b_i, b_j, a_k}\\\\\\frac{37191}{256000} - f_{b_i, b_j, b_k}\\end{matrix}\\right]$"
      ],
      "text/plain": [
       "[ 7917                     ]\n",
       "[------ - f_{a_i, a_j, a_k}]\n",
       "[256000                    ]\n",
       "[                          ]\n",
       "[10647                     ]\n",
       "[------ - f_{a_i, a_j, b_k}]\n",
       "[256000                    ]\n",
       "[                          ]\n",
       "[ 3371                     ]\n",
       "[------ - f_{a_i, b_j, a_k}]\n",
       "[256000                    ]\n",
       "[                          ]\n",
       "[ 829                      ]\n",
       "[----- - f_{a_i, b_j, b_k} ]\n",
       "[51200                     ]\n",
       "[                          ]\n",
       "[71019                     ]\n",
       "[------ - f_{b_i, a_j, a_k}]\n",
       "[256000                    ]\n",
       "[                          ]\n",
       "[91377                     ]\n",
       "[------ - f_{b_i, a_j, b_k}]\n",
       "[256000                    ]\n",
       "[                          ]\n",
       "[30333                     ]\n",
       "[------ - f_{b_i, b_j, a_k}]\n",
       "[256000                    ]\n",
       "[                          ]\n",
       "[37191                     ]\n",
       "[------ - f_{b_i, b_j, b_k}]\n",
       "[256000                    ]"
      ]
     },
     "execution_count": 16,
     "metadata": {},
     "output_type": "execute_result"
    }
   ],
   "source": [
    "from random import randint\n",
    "from fractions import Fraction\n",
    "random_performance_statistics = {var:Fraction(randint(1,39),40) for var in [pa, pia, pib, pja, pjb, pka, pkb]}\n",
    "generated_data_sketch = [poly.subs(random_performance_statistics) for poly in simplified_generating_set]\n",
    "sympy.Matrix(generated_data_sketch)"
   ]
  },
  {
   "cell_type": "code",
   "execution_count": 17,
   "id": "f1350785-2818-4aa6-9baa-b02c9230ea84",
   "metadata": {},
   "outputs": [
    {
     "name": "stdout",
     "output_type": "stream",
     "text": [
      "(7917/256000, 10647/256000, 3371/256000, 829/51200, 71019/256000, 91377/256000, 30333/256000, 37191/256000)\n"
     ]
    }
   ],
   "source": [
    "# Let's turn the voting frequencies back into integer counts\n",
    "# First, we get the rational fractions.\n",
    "# SymPy returns solutions wrapped in its own class FiniteSet, so we have to turn them back into lists\n",
    "# to access the members\n",
    "data_sketch_frequencies = list(sympy.linsolve(generated_data_sketch, trio_frequencies))[0]\n",
    "print(data_sketch_frequencies)"
   ]
  },
  {
   "cell_type": "code",
   "execution_count": 18,
   "id": "e516dd2b-3878-4f87-89a5-7bb520444390",
   "metadata": {},
   "outputs": [
    {
     "name": "stdout",
     "output_type": "stream",
     "text": [
      "[7917, 10647, 3371, 4145, 71019, 91377, 30333, 37191]\n"
     ]
    }
   ],
   "source": [
    "import math\n",
    "maxDenominator = math.lcm(*[val.denominator for val in data_sketch_frequencies])\n",
    "data_sketch_integers = [int(val*maxDenominator) for val in data_sketch_frequencies]\n",
    "print(data_sketch_integers)"
   ]
  },
  {
   "cell_type": "code",
   "execution_count": 19,
   "id": "0d77d6e0-08a2-4196-86bd-ef2e56b5ebfb",
   "metadata": {},
   "outputs": [],
   "source": [
    "import itertools\n",
    "trio_decision_patterns = sorted(itertools.product(['a','b'],repeat=3))\n",
    "trio_vote_patterns = [pattern for pattern in trio_decision_patterns]"
   ]
  },
  {
   "cell_type": "code",
   "execution_count": 20,
   "id": "0d25b068-0137-477f-bb27-62287f061cbe",
   "metadata": {},
   "outputs": [
    {
     "data": {
      "text/plain": [
       "{('a', 'a', 'a'): 7917,\n",
       " ('a', 'a', 'b'): 10647,\n",
       " ('a', 'b', 'a'): 3371,\n",
       " ('a', 'b', 'b'): 4145,\n",
       " ('b', 'a', 'a'): 71019,\n",
       " ('b', 'a', 'b'): 91377,\n",
       " ('b', 'b', 'a'): 30333,\n",
       " ('b', 'b', 'b'): 37191}"
      ]
     },
     "execution_count": 20,
     "metadata": {},
     "output_type": "execute_result"
    }
   ],
   "source": [
    "# And now we turn them into a data_sketch with their vote patterns\n",
    "trio_decision_patterns = sorted(itertools.product(['a','b'],repeat=3))\n",
    "trio_vote_patterns = [pattern for pattern in trio_decision_patterns]\n",
    "vote_pattern_counts = {trio_vote_patterns[i]: data_sketch_integers[i] for i in range(8)}\n",
    "vote_pattern_counts"
   ]
  },
  {
   "cell_type": "code",
   "execution_count": 21,
   "id": "8682bab4-478c-403f-9d38-2691a10f8871",
   "metadata": {},
   "outputs": [
    {
     "data": {
      "text/plain": [
       "[{'prevalence': {'a': 1/40, 'b': 39/40},\n",
       "  'accuracy': [{'a': 7/40, 'b': 9/10},\n",
       "   {'a': 39/40, 'b': 3/10},\n",
       "   {'a': 1/20, 'b': 11/20}]},\n",
       " {'prevalence': {'a': 39/40, 'b': 1/40},\n",
       "  'accuracy': [{'a': 1/10, 'b': 33/40},\n",
       "   {'a': 7/10, 'b': 1/40},\n",
       "   {'a': 9/20, 'b': 19/20}]}]"
      ]
     },
     "execution_count": 21,
     "metadata": {},
     "output_type": "execute_result"
    }
   ],
   "source": [
    "from ntqr.r2.evaluators import ErrorIndependentEvaluation\n",
    "from ntqr.r2.datasketches import TrioVoteCounts\n",
    "tvc = TrioVoteCounts(vote_pattern_counts)\n",
    "evaluator = ErrorIndependentEvaluation(tvc)\n",
    "eval_exact = evaluator.evaluation_exact\n",
    "eval_exact"
   ]
  },
  {
   "cell_type": "markdown",
   "id": "6763c4d3-46bb-4df6-aa1f-a30ddedfcd97",
   "metadata": {},
   "source": [
    "Note how the error independent solution is the best you could possibly do in an unlabeled setting - it returns just two points. In the language of algebraic geometry we would say that the variety (the set of possible solutions) of the error indepedent ideal (the generating set of polynomials) is zero dimensional and consists of two points. One of these two solutions should be an exact match with the random values you got when running this notebook."
   ]
  },
  {
   "cell_type": "code",
   "execution_count": 23,
   "id": "18315ee1-4e4b-4736-9efc-658967aa08ca",
   "metadata": {},
   "outputs": [
    {
     "data": {
      "text/plain": [
       "{P_a: Fraction(39, 40),\n",
       " P_{i, a}: Fraction(1, 10),\n",
       " P_{i, b}: Fraction(33, 40),\n",
       " P_{j, a}: Fraction(7, 10),\n",
       " P_{j, b}: Fraction(1, 40),\n",
       " P_{k, a}: Fraction(9, 20),\n",
       " P_{k, b}: Fraction(19, 20)}"
      ]
     },
     "execution_count": 23,
     "metadata": {},
     "output_type": "execute_result"
    }
   ],
   "source": [
    "random_performance_statistics"
   ]
  },
  {
   "cell_type": "markdown",
   "id": "33e0b9c6-f2e3-4c23-abe2-fbff31c71412",
   "metadata": {},
   "source": [
    "## Majority voting and algebraic evaluators"
   ]
  },
  {
   "cell_type": "markdown",
   "id": "9b07983f-aef1-4bfd-b1ba-3ac35929ecf1",
   "metadata": {},
   "source": [
    "Majority voting (MV) is usually discussed in the ML/AI literature as a **decision** algorithm. But it can also be used to carry out algebraic evaluation by using those decisions to impute an answer key for the test. Note that this means that the MV algorithm is saying exactly what each item's true label should be. This is to be contrasted with the solution presented here which is **fully** inferential since it never decides what the label of any item on the test should be.\n",
    "\n",
    "The main problem with MV as an evaluator is that it cannot deal with the **minority report** situation. The crowd is not always right and there are cases where one classifier or two may be badly tuned. We are going to demonstrate that problem by doing a simulation of error independent classifiers that has a 'flipped' classifier."
   ]
  },
  {
   "cell_type": "code",
   "execution_count": 26,
   "id": "f8c7b9b3-9af4-4165-8d92-6155877eec4c",
   "metadata": {},
   "outputs": [
    {
     "name": "stdout",
     "output_type": "stream",
     "text": [
      "P_i_a + P_i_b: 37/100\n",
      "P_j_a + P_j_b: -77/100\n",
      "P_k_a + P_k_b: -19/100\n"
     ]
    }
   ],
   "source": [
    "# Let's pick all the classifiers above 50% performance to start with.\n",
    "size_test=100\n",
    "simulated_error_independent_performance = {var:Fraction(randint(0,size_test),size_test) for var in [pia, pib, pja, pjb, pka, pkb]}\n",
    "# Then let's flip, say, classifiers j,k on the 'a' label below 50% accuracy\n",
    "simulated_error_independent_performance[pja] = Fraction(randint(0,int(size_test/2)-1),size_test)\n",
    "simulated_error_independent_performance[pka] = Fraction(randint(0,int(size_test/2)-1),size_test)\n",
    "# And let's set the 'a' label prevalence to some number below 50%\n",
    "simulated_error_independent_performance[pa] = Fraction(randint(1,int(size_test/2)-1),size_test)\n",
    "smeip = simulated_error_independent_performance\n",
    "print(\"P_i_a + P_i_b: {}\".format(smeip[pia] + smeip[pib]-1))\n",
    "print(\"P_j_a + P_j_b: {}\".format(smeip[pja] + smeip[pjb]-1))\n",
    "print(\"P_k_a + P_k_b: {}\".format(smeip[pka] + smeip[pkb]-1))"
   ]
  },
  {
   "cell_type": "code",
   "execution_count": 27,
   "id": "6c132101-87a5-4118-bb71-f328482f7624",
   "metadata": {},
   "outputs": [
    {
     "name": "stdout",
     "output_type": "stream",
     "text": [
      "(21813/2500000, 47187/2500000, 51887/2500000, 256613/2500000, 59889/312500, 224847/625000, 22461/312500, 70539/312500)\n"
     ]
    }
   ],
   "source": [
    "generated_data_sketch = [poly.subs(simulated_error_independent_performance) for poly in simplified_generating_set]\n",
    "sympy.Matrix(generated_data_sketch)\n",
    "data_sketch_frequencies = list(sympy.linsolve(generated_data_sketch, trio_frequencies))[0]\n",
    "print(data_sketch_frequencies)"
   ]
  },
  {
   "cell_type": "code",
   "execution_count": 28,
   "id": "9c7ea207-22fc-47a9-a57d-63b5480f1769",
   "metadata": {},
   "outputs": [
    {
     "name": "stdout",
     "output_type": "stream",
     "text": [
      "[21813, 47187, 51887, 256613, 479112, 899388, 179688, 564312]\n"
     ]
    }
   ],
   "source": [
    "maxDenominator = math.lcm(*[val.denominator for val in data_sketch_frequencies])\n",
    "data_sketch_integers = [val*maxDenominator for val in data_sketch_frequencies]\n",
    "print(data_sketch_integers)"
   ]
  },
  {
   "cell_type": "code",
   "execution_count": 29,
   "id": "324e2e9c-02f0-4a54-8943-0e1342d04d34",
   "metadata": {},
   "outputs": [
    {
     "data": {
      "text/plain": [
       "{('a', 'a', 'a'): 21813,\n",
       " ('a', 'a', 'b'): 47187,\n",
       " ('a', 'b', 'a'): 51887,\n",
       " ('a', 'b', 'b'): 256613,\n",
       " ('b', 'a', 'a'): 479112,\n",
       " ('b', 'a', 'b'): 899388,\n",
       " ('b', 'b', 'a'): 179688,\n",
       " ('b', 'b', 'b'): 564312}"
      ]
     },
     "execution_count": 29,
     "metadata": {},
     "output_type": "execute_result"
    }
   ],
   "source": [
    "vote_pattern_counts = {trio_vote_patterns[i]: data_sketch_integers[i] for i in range(8)}\n",
    "vote_pattern_counts"
   ]
  },
  {
   "cell_type": "code",
   "execution_count": 30,
   "id": "2bcf4758-2623-4dff-98ea-729f6d67ad39",
   "metadata": {},
   "outputs": [
    {
     "data": {
      "text/plain": [
       "[{'prevalence': {'a': 3/10, 'b': 7/10},\n",
       "  'accuracy': [{'a': 41/100, 'b': 24/25},\n",
       "   {'a': 1/25, 'b': 19/100},\n",
       "   {'a': 4/25, 'b': 13/20}]},\n",
       " {'prevalence': {'a': 7/10, 'b': 3/10},\n",
       "  'accuracy': [{'a': 1/25, 'b': 59/100},\n",
       "   {'a': 81/100, 'b': 24/25},\n",
       "   {'a': 7/20, 'b': 21/25}]}]"
      ]
     },
     "execution_count": 30,
     "metadata": {},
     "output_type": "execute_result"
    }
   ],
   "source": [
    "tvc = TrioVoteCounts(vote_pattern_counts)\n",
    "evaluator = ErrorIndependentEvaluation(tvc)\n",
    "eval_exact = evaluator.evaluation_exact\n",
    "eval_exact"
   ]
  },
  {
   "cell_type": "markdown",
   "id": "03089c99-0458-4b8e-9a4b-bb2eb32ad0f6",
   "metadata": {},
   "source": [
    "Note that the error independent algebraic solution correctly picked up that classifier k (3) is actually below 50%. What does majority voting say?"
   ]
  },
  {
   "cell_type": "code",
   "execution_count": 32,
   "id": "3e04fe9a-d480-456d-85dc-ccc037fe0d9c",
   "metadata": {},
   "outputs": [],
   "source": [
    "from ntqr.r2.evaluators import MajorityVotingEvaluation\n",
    "mv_estimate = MajorityVotingEvaluation(tvc)"
   ]
  },
  {
   "cell_type": "markdown",
   "id": "c790a182-22a5-47d7-a0ff-219865f409f9",
   "metadata": {},
   "source": [
    "How does the MV evaluation do?"
   ]
  },
  {
   "cell_type": "code",
   "execution_count": 34,
   "id": "9facc3bd-14c7-4fbc-a528-cbecfaf16578",
   "metadata": {},
   "outputs": [
    {
     "data": {
      "image/png": "[encoded data removed]",
      "text/plain": [
       "<Figure size 700x600 with 1 Axes>"
      ]
     },
     "metadata": {},
     "output_type": "display_data"
    }
   ],
   "source": [
    "%matplotlib inline\n",
    "from ntqr.r2.plots import plot_evaluations\n",
    "mv_exact = mv_estimate.evaluation_exact\n",
    "size=40\n",
    "plot_evaluations([\n",
    "    [\"algebraic evaluation\",[d['a']*100 for d in eval_exact[0][\"accuracy\"]],\n",
    "    [d['b']*100 for d in eval_exact[0][\"accuracy\"]],\n",
    "    \"^\", \"k\",size],\n",
    "    [\"majority voting\",[d['a']*100 for d in mv_exact[0][\"accuracy\"]],\n",
    "    [d['b']*100 for d in mv_exact[0][\"accuracy\"]],\n",
    "    \"o\", \"g\",size]],\"A comparison of exact algebraic evaluation with MV\",figsize=(7,6),legend_loc=\"best\")"
   ]
  },
  {
   "cell_type": "markdown",
   "id": "c716262e-31d7-4ed0-8c9e-88144dfbe5c2",
   "metadata": {},
   "source": [
    "This figure encapsulates the huge advantage of algebraic evaluation over majority voting when it comes to the problem of AI safety. When things are going well, monitoring is useful but not critical. The most important reason for monitoring is the detection of misaligned or malfunctioning algorithms. We see in the figure above that MV thinks that all is well with classifier 2."
   ]
  }
 ],
 "metadata": {
  "kernelspec": {
   "display_name": "Python 3 (ipykernel)",
   "language": "python",
   "name": "python3"
  },
  "language_info": {
   "codemirror_mode": {
    "name": "ipython",
    "version": 3
   },
   "file_extension": ".py",
   "mimetype": "text/x-python",
   "name": "python",
   "nbconvert_exporter": "python",
   "pygments_lexer": "ipython3",
   "version": "3.11.8"
  },
  "widgets": {
   "application/vnd.jupyter.widget-state+json": {
    "state": {},
    "version_major": 2,
    "version_minor": 0
   }
  }
 },
 "nbformat": 4,
 "nbformat_minor": 5
}
