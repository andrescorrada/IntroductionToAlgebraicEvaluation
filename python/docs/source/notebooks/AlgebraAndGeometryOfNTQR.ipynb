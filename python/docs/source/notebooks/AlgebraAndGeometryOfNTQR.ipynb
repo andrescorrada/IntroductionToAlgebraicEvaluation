{
 "cells": [
  {
   "cell_type": "markdown",
   "id": "3b4c1504-9e29-4d25-a69f-d5f7d00f8a44",
   "metadata": {},
   "source": [
    "# The Algebra and Geometry of the Axioms of Unsupervised Evaluation"
   ]
  },
  {
   "cell_type": "code",
   "execution_count": 2,
   "id": "433ad08d-ec8f-4584-a83b-0d9bb5a68842",
   "metadata": {},
   "outputs": [
    {
     "name": "stdout",
     "output_type": "stream",
     "text": [
      "IPython console for SymPy 1.13.3 (Python 3.11.8-64-bit) (ground types: gmpy)\n",
      "\n",
      "These commands were executed:\n",
      ">>> from sympy import *\n",
      ">>> x, y, z, t = symbols('x y z t')\n",
      ">>> k, m, n = symbols('k m n', integer=True)\n",
      ">>> f, g, h = symbols('f g h', cls=Function)\n",
      ">>> init_printing()\n",
      "\n",
      "Documentation can be found at https://docs.sympy.org/1.13.3/\n",
      "\n"
     ]
    }
   ],
   "source": [
    "import itertools, random\n",
    "import sympy\n",
    "from IPython.display import display,Math,Latex, HTML\n",
    "from IPython.core.interactiveshell import InteractiveShell\n",
    "InteractiveShell.ast_node_interactivity = \"all\"\n",
    "\n",
    "import ntqr\n",
    "import ntqr.raxioms\n",
    "sympy.init_session()\n",
    "sympy.init_printing(latex_mode='equation')"
   ]
  },
  {
   "cell_type": "markdown",
   "id": "7620ac8e-ddbc-4582-9509-2325f6da7579",
   "metadata": {},
   "source": [
    "## Introduction\n",
    "\n",
    "This notebook explains the algebra and geometry of the axioms of unsupervised evaluation for N test-takers that answer Q questions that have R choices. This is done using the terminology of Algebraic Geometry. Every subset of the N test-takers of size M is associated with a polynomial ideal represented by a set of R equations, one for each response label. This is the algebraic side of the logic of unsupervised evaluation. These ideals define a set of evaluation points - called **varieties** - that are logically consistent with how the M-sized subset responded to the test. These evaluation points exist in simplexes of the possible integer values for response tuples by true label. This is the geometric side of the logic of unsupervised evaluation.\n",
    "\n",
    "Explaining the geometry is combinatorially hard but can be understood by focusing on a single \"point\" in the space. The first portion of\n",
    "that space describes the unknown statistics of the test -- mainly how many times do each of the labels appear on the test.\n",
    "\n",
    "## The answer key Q-simplex\n",
    "\n",
    "Any given test exists as a single point in the Q-simplex: all tuples of the form $(Q_{\\ell_1}, Q_{\\ell_2}, \\ldots, Q_{\\ell_R}).$\n",
    "The tuples lie on a simplex in an $R$-dimensional space because they must satisfy the equation,\n",
    "\\begin{equation}\n",
    "\\sum_{\\ell \\in \\mathcal{L}} Q_\\ell = Q.\n",
    "\\end{equation}\n",
    "Denoting the space of the integers from 0 to $Q$ by $\\mathbb{Q}_Q,$ the Q-simplex lies inside the hypercube of integers denoted by $\\mathbb{Q}_Q^R.$\n",
    "\n",
    "All statements about logical consistency between test-taker evaluation occur at a single point in the Q-simplex. It makes no sense to compare evaluations at different values of the Q-simplex since any given test can only occupy one point in the Q-simplex. Consequently,\n",
    "the logic works in a ladder-like manner. Once we pick a value for the Q-tuple, we can find all single classifier evaluations consistent with individual response statistics. These are the $M=1$ evaluation axioms. This is the next step in the ladder of constructing the evaluation space for $N$ test-takers.\n",
    "\n",
    "## The M=1 R-simplexes\n",
    "\n",
    "Given a value of the Q tuple, $(Q_{\\ell_1}, Q_{\\ell_2}, \\ldots, Q_{\\ell_R}),$ we can ask what evaluations for a single test-taker  $i$ are consistent with the observed label responses the test taker. These are denoted by the response variables,\n",
    "\\begin{equation}\n",
    "\\{ R_{\\ell_i} \\}_{\\ell_i \\in \\mathcal{L}}\n",
    "\\end{equation}\n",
    "What we seek are the values of the responses by true label that are consistent with these label responses by the test taker. These are the M-subset label responses variables. In the case of ($M=1$) these are of the form,\n",
    "\\begin{equation}\n",
    "\\{ R_{\\ell_i,\\ell_\\text{true}} \\}_{\\ell_i \\in \\mathcal{L}},\n",
    "\\end{equation}\n",
    "for each of the R labels. These must also live on a simplex since for any $\\ell_{\\text{true}}$ we must have the identity,\n",
    "\\begin{equation}\n",
    "\\sum_{\\ell_i \\in \\mathcal{L}}  R_{\\ell_i,\\ell_\\text{true}} = R_{\\ell_\\text{true}}.\n",
    "\\end{equation}\n",
    "The M=1 simplex for a single test taker is thus in a produc of spaces, one for each label,\n",
    "\\begin{equation}\n",
    "(\\mathbb{R}_{Q_{\\ell_1}}^1) \\otimes (\\mathbb{R}_{Q_{\\ell_2}}^1) \\otimes \\ldots (\\mathbb{R}_{Q_{\\ell_R}}^1).\n",
    "\\end{equation}\n",
    "\n",
    "## The M=2 R-simplexes\n",
    "\n",
    "The M=2 R-simplexes exist for all pairs of N test-takers. These are now using the evidence in how a pair responded jointly to test questions. These are the response variables of the form $R_{\\ell_i, \\ell_j}$. And the unknown label response statistics we seek are of the form,\n",
    "\\begin{equation}\n",
    "\\{ R_{\\ell_i, \\ell_j, \\ell_\\text{true}} \\}_{\\ell_i, \\ell_j \\in \\mathcal{L}},\n",
    "\\end{equation}\n",
    "These also lie on a simplex in a space that can be represented as,\n",
    "\\begin{equation}\n",
    "(\\mathbb{R}_{Q_{\\ell_1}}^2) \\otimes (\\mathbb{R}_{Q_{\\ell_2}}^2) \\otimes \\ldots (\\mathbb{R}_{Q_{\\ell_R}}^2).\n",
    "\\end{equation}\n",
    "## The general M=m R-simplexes\n",
    "\n",
    "In general, for every M-sized subset of N test-takers, we require a response space of the form,\n",
    "\\begin{equation}\n",
    "(\\mathbb{R}_{Q_{\\ell_1}}^M) \\otimes (\\mathbb{R}_{Q_{\\ell_2}}^M) \\otimes \\ldots (\\mathbb{R}_{Q_{\\ell_R}}^M).\n",
    "\\end{equation}\n",
    "## The role of the axioms in defining the variety of logically consistent group evaluations\n",
    "\n",
    "All the M R-simplexes define the set of all possible evaluations for N test takers given its size Q. But once we observe test responses, the set of evaluations logically consistent with those responses is much smaller than the R-simplexes. This is accomplished by filtering out all M-subset evaluations that do not satisfy the evaluation axioms up to M.\n",
    "\n",
    "Restricting ourselves to the space of single test-taker label responses, a space of dimension $R*N,$ the M=1 axioms define the largest variety possible in this space. The M=2 axioms, being additional algebraic constraints, are thus a subset of this variety. This follows from the well-known idea in Algebraic Geometry that the variety of a large polynomial ideal is equal or smaller than the variety associated with a subset of that ideal.\n",
    "\n",
    "## Examples of the M=1 axioms\n",
    "\n",
    "Starting in NTQR v0.5, M=1 axioms for any number of labels, R, are supported. The axioms are of the form,\n",
    "\\begin{equation}\n",
    "Q_{\\ell_{\\text{true}}} \n",
    "- R_{(\\ell_{\\text{true}})_i} \n",
    "- \\sum_{\\ell_e \\in \\text{errors}(\\ell_{\\text{true}})} R_{(\\ell_e)_i, \\ell_{\\text{true}}}\n",
    "+ \\sum_{\\ell_e \\neq \\ell_{\\text{true}}} R_{(\\ell_{\\text{true}})_i, \\ell_e}\n",
    "\\end{equation}\n",
    "for every $\\ell_{\\text{true}} \\in (\\ell_1, \\ell_2, \\ldots, \\ell_r)$ and $i \\in (c_1, c_2, \\ldots, c_N).$"
   ]
  },
  {
   "cell_type": "code",
   "execution_count": 4,
   "id": "287a85e7-93ba-4693-9d86-d63a57c866e0",
   "metadata": {},
   "outputs": [
    {
     "name": "stdout",
     "output_type": "stream",
     "text": [
      "('l',)\n"
     ]
    },
    {
     "data": {
      "image/png": "[encoded data removed]",
      "text/latex": [
       "\\begin{equation}\\left[\\begin{matrix}Q_{a} + R_{a_{l},b} + R_{a_{l},c} - R_{a_{l}} - R_{b_{l},a} - R_{c_{l},a}\\\\Q_{b} - R_{a_{l},b} + R_{b_{l},a} + R_{b_{l},c} - R_{b_{l}} - R_{c_{l},b}\\\\Q_{c} - R_{a_{l},c} - R_{b_{l},c} + R_{c_{l},a} + R_{c_{l},b} - R_{c_{l}}\\end{matrix}\\right]\\end{equation}"
      ],
      "text/plain": [
       "⎡Qₐ + R_{a_{l},b} + R_{a_{l},c} - R_{a_{l}} - R_{b_{l},a} - R_{c_{l},a} ⎤\n",
       "⎢                                                                       ⎥\n",
       "⎢Q_b - R_{a_{l},b} + R_{b_{l},a} + R_{b_{l},c} - R_{b_{l}} - R_{c_{l},b}⎥\n",
       "⎢                                                                       ⎥\n",
       "⎣Q_c - R_{a_{l},c} - R_{b_{l},c} + R_{c_{l},a} + R_{c_{l},b} - R_{c_{l}}⎦"
      ]
     },
     "metadata": {},
     "output_type": "display_data"
    }
   ],
   "source": [
    "N=4\n",
    "labels = ('a','b','c',)\n",
    "classifiers = ('i','j','k','l')\n",
    "m_1_ideals = ntqr.raxioms.MAxiomsIdeal(labels,classifiers,1)\n",
    "any_classifier = random.choice(list(itertools.combinations(classifiers,1)))\n",
    "print(any_classifier)\n",
    "display(Matrix([m_1_ideals.m_complex[any_classifier]['axioms'][label] for label in labels]))"
   ]
  },
  {
   "cell_type": "markdown",
   "id": "fbe4a73d-0e53-4439-a151-8d52e0fe6c66",
   "metadata": {},
   "source": [
    "## Examples of the M=2 axioms\n",
    "\n",
    "Version 0.5 of NTQR also supports the axioms involving pair response variables for the classifiers.\n",
    "\n",
    "\\begin{equation}\n",
    "\\sum_{\\ell_e \\neq \\ell_{\\text{true}}} Q_{\\ell_e}\n",
    "+ \\sum_{(\\ell_i, \\ell_j) \\in notAllCorrect(\\ell_{\\text{true}})} R_{\\ell_i, \\ell_j, \\ell_{\\text{true}}}\n",
    "- \\sum_{e_i \\neq e_j, e_i \\neq \\ell_{\\text{true}}, e_j \\neq \\ell_{\\text{true}}} R_{e_i, e_j, \\ell_{\\text{true}}}\\\\\n",
    "- \\sum_{e \\neq \\ell_{\\text{true}}} \\sum_{c \\in (i,j)} R_{(e)_c} - \\sum_{e \\neq \\ell_{\\text{true}}} \\sum_{c \\in (i,j)} \\sum_{e' \\neq e} R_{(e')_c,e}\\\\\n",
    "+ \\sum_{e \\neq \\ell_{\\text{true}}} R_{e_i,e_j} + \\sum_{e \\neq \\ell_{\\text{true}}} \\left(\\sum_{(e'_i, e'_j) \\in notAllCorrect(e)} R_{e'_i,e'_j,e} \\right)\n",
    "\\end{equation}\n",
    "\n",
    "for every $\\ell_{\\text{true}} \\in (\\ell_1, \\ell_2, \\ldots, \\ell_r)$ and $i,j \\in (c_1, c_2, \\ldots, c_N)$."
   ]
  },
  {
   "cell_type": "code",
   "execution_count": 6,
   "id": "c32fadc2-91c0-480e-9db4-e98d72f954ca",
   "metadata": {},
   "outputs": [
    {
     "name": "stdout",
     "output_type": "stream",
     "text": [
      "('i', 'l')\n"
     ]
    },
    {
     "data": {
      "image/png": "[encoded data removed]",
      "text/latex": [
       "\\begin{equation}\\left[\\begin{matrix}Q_{b} + Q_{c} + R_{a_{i},a_{l},b} + R_{a_{i},a_{l},c} + 2 R_{a_{i},b_{l},a} + R_{a_{i},b_{l},b} + R_{a_{i},b_{l},c} - R_{a_{i},b} + 2 R_{a_{i},c_{l},a} + R_{a_{i},c_{l},b} + R_{a_{i},c_{l},c} - R_{a_{i},c} - R_{a_{l},b} - R_{a_{l},c} + 2 R_{b_{i},a_{l},a} + R_{b_{i},a_{l},b} + R_{b_{i},a_{l},c} + R_{b_{i},b_{l},a} + R_{b_{i},b_{l},c} + R_{b_{i},b_{l}} + 2 R_{b_{i},c_{l},a} + R_{b_{i},c_{l},b} + R_{b_{i},c_{l},c} - R_{b_{i},c} - R_{b_{i}} - R_{b_{l},c} - R_{b_{l}} + 2 R_{c_{i},a_{l},a} + R_{c_{i},a_{l},b} + R_{c_{i},a_{l},c} + 2 R_{c_{i},b_{l},a} + R_{c_{i},b_{l},b} + R_{c_{i},b_{l},c} - R_{c_{i},b} + R_{c_{i},c_{l},a} + R_{c_{i},c_{l},b} + R_{c_{i},c_{l}} - R_{c_{i}} - R_{c_{l},b} - R_{c_{l}}\\\\Q_{a} + Q_{c} + R_{a_{i},a_{l},b} + R_{a_{i},a_{l},c} + R_{a_{i},a_{l}} + R_{a_{i},b_{l},a} + 2 R_{a_{i},b_{l},b} + R_{a_{i},b_{l},c} + R_{a_{i},c_{l},a} + 2 R_{a_{i},c_{l},b} + R_{a_{i},c_{l},c} - R_{a_{i},c} - R_{a_{i}} - R_{a_{l},c} - R_{a_{l}} + R_{b_{i},a_{l},a} + 2 R_{b_{i},a_{l},b} + R_{b_{i},a_{l},c} - R_{b_{i},a} + R_{b_{i},b_{l},a} + R_{b_{i},b_{l},c} + R_{b_{i},c_{l},a} + 2 R_{b_{i},c_{l},b} + R_{b_{i},c_{l},c} - R_{b_{i},c} - R_{b_{l},a} - R_{b_{l},c} + R_{c_{i},a_{l},a} + 2 R_{c_{i},a_{l},b} + R_{c_{i},a_{l},c} - R_{c_{i},a} + R_{c_{i},b_{l},a} + 2 R_{c_{i},b_{l},b} + R_{c_{i},b_{l},c} + R_{c_{i},c_{l},a} + R_{c_{i},c_{l},b} + R_{c_{i},c_{l}} - R_{c_{i}} - R_{c_{l},a} - R_{c_{l}}\\\\Q_{a} + Q_{b} + R_{a_{i},a_{l},b} + R_{a_{i},a_{l},c} + R_{a_{i},a_{l}} + R_{a_{i},b_{l},a} + R_{a_{i},b_{l},b} + 2 R_{a_{i},b_{l},c} - R_{a_{i},b} + R_{a_{i},c_{l},a} + R_{a_{i},c_{l},b} + 2 R_{a_{i},c_{l},c} - R_{a_{i}} - R_{a_{l},b} - R_{a_{l}} + R_{b_{i},a_{l},a} + R_{b_{i},a_{l},b} + 2 R_{b_{i},a_{l},c} - R_{b_{i},a} + R_{b_{i},b_{l},a} + R_{b_{i},b_{l},c} + R_{b_{i},b_{l}} + R_{b_{i},c_{l},a} + R_{b_{i},c_{l},b} + 2 R_{b_{i},c_{l},c} - R_{b_{i}} - R_{b_{l},a} - R_{b_{l}} + R_{c_{i},a_{l},a} + R_{c_{i},a_{l},b} + 2 R_{c_{i},a_{l},c} - R_{c_{i},a} + R_{c_{i},b_{l},a} + R_{c_{i},b_{l},b} + 2 R_{c_{i},b_{l},c} - R_{c_{i},b} + R_{c_{i},c_{l},a} + R_{c_{i},c_{l},b} - R_{c_{l},a} - R_{c_{l},b}\\end{matrix}\\right]\\end{equation}"
      ],
      "text/plain": [
       "⎡Q_b + Q_c + R_{a_{i},a_{l},b} + R_{a_{i},a_{l},c} + 2⋅R_{a_{i},b_{l},a} + R_{ ↪\n",
       "⎢                                                                              ↪\n",
       "⎢Qₐ + Q_c + R_{a_{i},a_{l},b} + R_{a_{i},a_{l},c} + R_{a_{i},a_{l}} + R_{a_{i} ↪\n",
       "⎢                                                                              ↪\n",
       "⎣Qₐ + Q_b + R_{a_{i},a_{l},b} + R_{a_{i},a_{l},c} + R_{a_{i},a_{l}} + R_{a_{i} ↪\n",
       "\n",
       "↪ a_{i},b_{l},b} + R_{a_{i},b_{l},c} - R_{a_{i},b} + 2⋅R_{a_{i},c_{l},a} + R_{ ↪\n",
       "↪                                                                              ↪\n",
       "↪ ,b_{l},a} + 2⋅R_{a_{i},b_{l},b} + R_{a_{i},b_{l},c} + R_{a_{i},c_{l},a} + 2⋅ ↪\n",
       "↪                                                                              ↪\n",
       "↪ ,b_{l},a} + R_{a_{i},b_{l},b} + 2⋅R_{a_{i},b_{l},c} - R_{a_{i},b} + R_{a_{i} ↪\n",
       "\n",
       "↪ a_{i},c_{l},b} + R_{a_{i},c_{l},c} - R_{a_{i},c} - R_{a_{l},b} - R_{a_{l},c} ↪\n",
       "↪                                                                              ↪\n",
       "↪ R_{a_{i},c_{l},b} + R_{a_{i},c_{l},c} - R_{a_{i},c} - R_{a_{i}} - R_{a_{l},c ↪\n",
       "↪                                                                              ↪\n",
       "↪ ,c_{l},a} + R_{a_{i},c_{l},b} + 2⋅R_{a_{i},c_{l},c} - R_{a_{i}} - R_{a_{l},b ↪\n",
       "\n",
       "↪  + 2⋅R_{b_{i},a_{l},a} + R_{b_{i},a_{l},b} + R_{b_{i},a_{l},c} + R_{b_{i},b_ ↪\n",
       "↪                                                                              ↪\n",
       "↪ } - R_{a_{l}} + R_{b_{i},a_{l},a} + 2⋅R_{b_{i},a_{l},b} + R_{b_{i},a_{l},c}  ↪\n",
       "↪                                                                              ↪\n",
       "↪ } - R_{a_{l}} + R_{b_{i},a_{l},a} + R_{b_{i},a_{l},b} + 2⋅R_{b_{i},a_{l},c}  ↪\n",
       "\n",
       "↪ {l},a} + R_{b_{i},b_{l},c} + R_{b_{i},b_{l}} + 2⋅R_{b_{i},c_{l},a} + R_{b_{i ↪\n",
       "↪                                                                              ↪\n",
       "↪ - R_{b_{i},a} + R_{b_{i},b_{l},a} + R_{b_{i},b_{l},c} + R_{b_{i},c_{l},a} +  ↪\n",
       "↪                                                                              ↪\n",
       "↪ - R_{b_{i},a} + R_{b_{i},b_{l},a} + R_{b_{i},b_{l},c} + R_{b_{i},b_{l}} + R_ ↪\n",
       "\n",
       "↪ },c_{l},b} + R_{b_{i},c_{l},c} - R_{b_{i},c} - R_{b_{i}} - R_{b_{l},c} - R_{ ↪\n",
       "↪                                                                              ↪\n",
       "↪ 2⋅R_{b_{i},c_{l},b} + R_{b_{i},c_{l},c} - R_{b_{i},c} - R_{b_{l},a} - R_{b_{ ↪\n",
       "↪                                                                              ↪\n",
       "↪ {b_{i},c_{l},a} + R_{b_{i},c_{l},b} + 2⋅R_{b_{i},c_{l},c} - R_{b_{i}} - R_{b ↪\n",
       "\n",
       "↪ b_{l}} + 2⋅R_{c_{i},a_{l},a} + R_{c_{i},a_{l},b} + R_{c_{i},a_{l},c} + 2⋅R_{ ↪\n",
       "↪                                                                              ↪\n",
       "↪ l},c} + R_{c_{i},a_{l},a} + 2⋅R_{c_{i},a_{l},b} + R_{c_{i},a_{l},c} - R_{c_{ ↪\n",
       "↪                                                                              ↪\n",
       "↪ _{l},a} - R_{b_{l}} + R_{c_{i},a_{l},a} + R_{c_{i},a_{l},b} + 2⋅R_{c_{i},a_{ ↪\n",
       "\n",
       "↪ c_{i},b_{l},a} + R_{c_{i},b_{l},b} + R_{c_{i},b_{l},c} - R_{c_{i},b} + R_{c_ ↪\n",
       "↪                                                                              ↪\n",
       "↪ i},a} + R_{c_{i},b_{l},a} + 2⋅R_{c_{i},b_{l},b} + R_{c_{i},b_{l},c} + R_{c_{ ↪\n",
       "↪                                                                              ↪\n",
       "↪ l},c} - R_{c_{i},a} + R_{c_{i},b_{l},a} + R_{c_{i},b_{l},b} + 2⋅R_{c_{i},b_{ ↪\n",
       "\n",
       "↪ {i},c_{l},a} + R_{c_{i},c_{l},b} + R_{c_{i},c_{l}} - R_{c_{i}} - R_{c_{l},b} ↪\n",
       "↪                                                                              ↪\n",
       "↪ i},c_{l},a} + R_{c_{i},c_{l},b} + R_{c_{i},c_{l}} - R_{c_{i}} - R_{c_{l},a}  ↪\n",
       "↪                                                                              ↪\n",
       "↪ l},c} - R_{c_{i},b} + R_{c_{i},c_{l},a} + R_{c_{i},c_{l},b} - R_{c_{l},a} -  ↪\n",
       "\n",
       "↪  - R_{c_{l}}⎤\n",
       "↪             ⎥\n",
       "↪ - R_{c_{l}} ⎥\n",
       "↪             ⎥\n",
       "↪ R_{c_{l},b} ⎦"
      ]
     },
     "metadata": {},
     "output_type": "display_data"
    }
   ],
   "source": [
    "N=4\n",
    "labels = ('a','b','c',)\n",
    "classifiers = ('i','j','k','l')\n",
    "m_2_ideals = ntqr.raxioms.MAxiomsIdeal(labels,classifiers,2)\n",
    "any_pair = random.choice(list(itertools.combinations(classifiers,2)))\n",
    "print(any_pair)\n",
    "display(Matrix([m_2_ideals.m_complex[any_pair]['axioms'][label] for label in labels]))"
   ]
  },
  {
   "cell_type": "markdown",
   "id": "a1dca0c0-6252-435a-b857-84253ad98df9",
   "metadata": {},
   "source": [
    "### The use of the axioms given test responses\n",
    "\n",
    "The above axioms are 'universal' in the sense that they apply to all multiple choice exams, irrespective of subject or domain. As the equations show, there are no parameters or variables associated with any semantics of the test. All that is required is values for sample statistics of the test. These sample statistics are divided into two parts. The observable agreements and disagreements between the classifiers. There is a combinatorial number of these, one set for each of the $N!/((N-m)!m!)$ $m$-sized subset of N classifiers. Each of those sets has $r^m$ possible question aligned decision tuples.\n",
    "\n",
    "The second part are the unknown test statistics that would allow us to evaluate the classifiers on the test -- the label response variables. These are also combinatorial in number, but now there are {math}`R=r` of them. One for each of the {math}`r` labels for a given test. The logic of unsupervised evaluation is based on the idea that there is a set, a **variety** in the language of algebraic geometry, that satisfies these axioms. So when we have test responses at hand, the logic proceeds by filling in the values for the response variables.\n",
    "\n",
    "But in addition, we must specify at what point in the answer key Q-tuple we are doing the search for the varieties of the axioms ideals. It makes no logical sense to consider varieties across different values of $(Q_{\\ell_1}, Q_{\\ell_2}, \\ldots, Q_{\\ell_r}).$ Statements about logical consistency of evaluations with observed test responses are **always** at a fixed point in the answer key Q-tuple."
   ]
  },
  {
   "cell_type": "code",
   "execution_count": 8,
   "id": "7366aaa1-b368-4c3d-bbd7-3cf39e59bff2",
   "metadata": {},
   "outputs": [
    {
     "name": "stdout",
     "output_type": "stream",
     "text": [
      "The m=1 subset:  ('j',)\n"
     ]
    },
    {
     "data": {
      "image/png": "[encoded data removed]",
      "text/latex": [
       "\\begin{equation}\\left[\\begin{matrix}Q_{a} + R_{a_{j},b} + R_{a_{j},c} - R_{a_{j}} - R_{b_{j},a} - R_{c_{j},a}\\\\Q_{b} - R_{a_{j},b} + R_{b_{j},a} + R_{b_{j},c} - R_{b_{j}} - R_{c_{j},b}\\\\Q_{c} - R_{a_{j},c} - R_{b_{j},c} + R_{c_{j},a} + R_{c_{j},b} - R_{c_{j}}\\end{matrix}\\right]\\end{equation}"
      ],
      "text/plain": [
       "⎡Qₐ + R_{a_{j},b} + R_{a_{j},c} - R_{a_{j}} - R_{b_{j},a} - R_{c_{j},a} ⎤\n",
       "⎢                                                                       ⎥\n",
       "⎢Q_b - R_{a_{j},b} + R_{b_{j},a} + R_{b_{j},c} - R_{b_{j}} - R_{c_{j},b}⎥\n",
       "⎢                                                                       ⎥\n",
       "⎣Q_c - R_{a_{j},c} - R_{b_{j},c} + R_{c_{j},a} + R_{c_{j},b} - R_{c_{j}}⎦"
      ]
     },
     "metadata": {},
     "output_type": "display_data"
    }
   ],
   "source": [
    "# Let's compare the axioms for any m=1 subset of the 4 classifiers\n",
    "N=4\n",
    "labels = ('a','b','c',)\n",
    "classifiers = ('i','j','k')\n",
    "any_m_1_subset = random.choice([m_subset for m_subset in itertools.combinations(classifiers,1)])\n",
    "axioms_before_test = ntqr.raxioms.MAxiomsIdeal(labels,classifiers,1).m_complex[any_m_1_subset][\"axioms\"]\n",
    "print(\"The m=1 subset: \", any_m_1_subset)\n",
    "display(Matrix([axioms_before_test[label] for label in labels]))"
   ]
  },
  {
   "cell_type": "markdown",
   "id": "8fdc5604-a8bb-45c3-a1fe-25955d2defbe",
   "metadata": {},
   "source": [
    "After we have observed the test responses, these axioms are \"localized\" to the test. Note that we are left with only label response variables unresolved. These axioms then act as filters for accepting the possible values for these variables that are logically consistent with the test results."
   ]
  },
  {
   "cell_type": "code",
   "execution_count": 10,
   "id": "89ad10c0-e536-4fe7-94e1-25a04bbf07e8",
   "metadata": {},
   "outputs": [
    {
     "data": {
      "image/png": "[encoded data removed]",
      "text/latex": [
       "\\begin{equation}\\left[\\begin{matrix}a & R_{a_{j},b} + R_{a_{j},c} - R_{b_{j},a} - R_{c_{j},a} - 335\\\\b & - R_{a_{j},b} + R_{b_{j},a} + R_{b_{j},c} - R_{c_{j},b} - 309\\\\c & - R_{a_{j},c} - R_{b_{j},c} + R_{c_{j},a} + R_{c_{j},b} - 439\\end{matrix}\\right]\\end{equation}"
      ],
      "text/plain": [
       "⎡a  R_{a_{j},b} + R_{a_{j},c} - R_{b_{j},a} - R_{c_{j},a} - 335 ⎤\n",
       "⎢                                                               ⎥\n",
       "⎢b  -R_{a_{j},b} + R_{b_{j},a} + R_{b_{j},c} - R_{c_{j},b} - 309⎥\n",
       "⎢                                                               ⎥\n",
       "⎣c  -R_{a_{j},c} - R_{b_{j},c} + R_{c_{j},a} + R_{c_{j},b} - 439⎦"
      ]
     },
     "execution_count": 10,
     "metadata": {},
     "output_type": "execute_result"
    }
   ],
   "source": [
    "import ntqr.evaluations\n",
    "synthetic_responses = {decisions: random.randint(1,100) for decisions in itertools.product(labels,repeat=len(classifiers))}\n",
    "Q = sum(synthetic_responses.values())\n",
    "qs = [random.randint(0,200) for i in range(3)]\n",
    "mVarieties = ntqr.evaluations.MAxiomsVarieties(labels,classifiers,synthetic_responses,(qs[0],qs[1],qs[2],Q-sum(qs)),1)\n",
    "Matrix([(label, test_axiom) for label, test_axiom in mVarieties.test_axioms[any_m_1_subset].items()])"
   ]
  },
  {
   "cell_type": "markdown",
   "id": "858f5ad9-0a21-4b01-b2a5-a5146e614557",
   "metadata": {},
   "source": [
    "Note how the matrix above only has label response variables. We have 'localized' the axioms to the assumed number of labels in the answer key **and** the observed test responses."
   ]
  },
  {
   "cell_type": "markdown",
   "id": "871b2bd9-4fc1-4789-ad84-cf865c7a9aff",
   "metadata": {},
   "source": [
    "#### Looking at the varieties for binary response/classification tests.\n",
    "Although NTQR supports arbitrary number of classifiers ($N=n$) and labels ($R=r$), it is simplest to consider the case of binary classification. We create some synthetic test results and look at one of the M=1 axioms before we observe test results."
   ]
  },
  {
   "cell_type": "code",
   "execution_count": 13,
   "id": "0a38674d-1a51-478a-951d-1eb4ff1085eb",
   "metadata": {},
   "outputs": [
    {
     "name": "stdout",
     "output_type": "stream",
     "text": [
      "Number of questions in the test:  9\n",
      "('j',)   a\n"
     ]
    },
    {
     "data": {
      "image/png": "[encoded data removed]",
      "text/latex": [
       "\\begin{equation}\\left[\\begin{matrix}Q_{a} + R_{a_{j},b} - R_{a_{j}} - R_{b_{j},a}\\end{matrix}\\right]\\end{equation}"
      ],
      "text/plain": [
       "[Qₐ + R_{a_{j},b} - R_{a_{j}} - R_{b_{j},a}]"
      ]
     },
     "execution_count": 13,
     "metadata": {},
     "output_type": "execute_result"
    }
   ],
   "source": [
    "# Let's go back to R=2 tests and create synthetic test responses.\n",
    "labels = ('a','b',)\n",
    "classifiers = ('i', 'j',)\n",
    "synthetic_responses = {decisions: random.randint(1,5) for decisions in itertools.product(labels,repeat=len(classifiers))}\n",
    "Q = sum(val for val in synthetic_responses.values())\n",
    "print(\"Number of questions in the test: \", Q)\n",
    "any_subset = random.choice([m_subset for m_subset in itertools.combinations(classifiers,1)])\n",
    "axioms_before_test = ntqr.raxioms.MAxiomsIdeal(labels,classifiers,1).m_complex[any_subset][\"axioms\"]\n",
    "any_label = random.choice(labels)\n",
    "print(any_subset, \" \", any_label)\n",
    "Matrix([axioms_before_test[any_label]])"
   ]
  },
  {
   "cell_type": "markdown",
   "id": "f519edd0-df49-4377-9201-f7df893759f1",
   "metadata": {},
   "source": [
    "We pick a random point on the answer-key Q-simplex and display the localized test axiom."
   ]
  },
  {
   "cell_type": "code",
   "execution_count": 15,
   "id": "07df1bc1-e9e2-4968-873b-463da9df0a2a",
   "metadata": {},
   "outputs": [
    {
     "name": "stdout",
     "output_type": "stream",
     "text": [
      "Q_a = 5 , Q_b = 4\n"
     ]
    },
    {
     "data": {
      "image/png": "[encoded data removed]",
      "text/latex": [
       "\\begin{equation}\\left[\\begin{matrix}R_{a_{j},b} - R_{b_{j},a} + 1\\end{matrix}\\right]\\end{equation}"
      ],
      "text/plain": [
       "[R_{a_{j},b} - R_{b_{j},a} + 1]"
      ]
     },
     "metadata": {},
     "output_type": "display_data"
    }
   ],
   "source": [
    "# Varieties exist at a fixed point in the answer-key simplex\n",
    "qa = random.randint(1,Q)\n",
    "qb = Q - qa\n",
    "print(\"Q_a =\", qa, \", Q_b =\", Q - qa)\n",
    "mVarieties =ntqr.evaluations.MAxiomsVarieties(labels,classifiers,synthetic_responses,(qa, qb),2)\n",
    "test_axiom = mVarieties.test_axioms[any_subset][any_label]\n",
    "\n",
    "display(Matrix([test_axiom]))"
   ]
  },
  {
   "cell_type": "markdown",
   "id": "07c19184-53b5-4f8c-a394-c20c338a4b94",
   "metadata": {},
   "source": [
    "The variety are all the label response variable values that satisfy the test axioms. It is a geometric set in the space of all possible evaluations. For binary classification, the label response simplex for a single classifier is simple - a line. In the case of binary classification we could go with either the correct or 'error' variable to do all the computations. The default in the NTQR package is to use the 'error' variables since those generalize to any number of labels. Getting the number of correct responses is trivially computed as\n",
    "\\begin{equation}\n",
    "R_{(\\ell_{\\text{true}})_1, (\\ell_{\\text{true}})_2, \\ldots, (\\ell_{\\text{true}})_m; \\ell_{\\text{true}}} = Q_{\\ell_{\\text{true}}} - \\sum_{(l_1,l_2,\\ldots,l_m) \\in errors(\\ell_{\\text{true}})} R_{l_1,l_2,\\ldots,l_m; \\ell_{\\text{true}}},\n",
    "\\end{equation}\n",
    "where the 'errors' are all those decision tuples where not all classifiers are correct - the many ways that a group can disagree and agree and still have at least one member of the ensemble, if not all or many, be wrong."
   ]
  },
  {
   "cell_type": "code",
   "execution_count": 17,
   "id": "6e65a49e-b70a-4380-8003-60a69de19c7f",
   "metadata": {},
   "outputs": [
    {
     "data": {
      "image/png": "[encoded data removed]",
      "text/latex": [
       "\\begin{equation}\\left[\\begin{matrix}R_{b_{j},a} & R_{a_{j},b}\\end{matrix}\\right]\\end{equation}"
      ],
      "text/plain": [
       "[R_{b_{j},a}  R_{a_{j},b}]"
      ]
     },
     "execution_count": 17,
     "metadata": {},
     "output_type": "execute_result"
    }
   ],
   "source": [
    "Matrix([[[var for var in point.keys()] for point in mVarieties.variety(any_subset)][0]])"
   ]
  },
  {
   "cell_type": "code",
   "execution_count": 18,
   "id": "da293c88-15d2-4d96-a0d6-1461a5771ecc",
   "metadata": {},
   "outputs": [
    {
     "data": {
      "image/png": "[encoded data removed]",
      "text/latex": [
       "\\begin{equation}\\left[ \\left[ 1, \\  0\\right], \\  \\left[ 2, \\  1\\right], \\  \\left[ 3, \\  2\\right], \\  \\left[ 4, \\  3\\right], \\  \\left[ 5, \\  4\\right]\\right]\\end{equation}"
      ],
      "text/plain": [
       "[[1, 0], [2, 1], [3, 2], [4, 3], [5, 4]]"
      ]
     },
     "execution_count": 18,
     "metadata": {},
     "output_type": "execute_result"
    }
   ],
   "source": [
    "[[val for val in point.values()] for point in mVarieties.variety(any_subset)]"
   ]
  },
  {
   "cell_type": "code",
   "execution_count": 19,
   "id": "ac69e00d-74e1-408a-9e19-e7c1cb465c95",
   "metadata": {},
   "outputs": [
    {
     "data": {
      "image/png": "[encoded data removed]",
      "text/latex": [
       "\\begin{equation}\\left[ \\left\\{ R_{a_{i},b} : 4, \\  R_{b_{i},a} : 0\\right\\}, \\  \\left\\{ R_{a_{i},b} : 5, \\  R_{b_{i},a} : 1\\right\\}\\right]\\end{equation}"
      ],
      "text/plain": [
       "[{R_{a_{i},b}: 4, R_{b_{i},a}: 0}, {R_{a_{i},b}: 5, R_{b_{i},a}: 1}]"
      ]
     },
     "metadata": {},
     "output_type": "display_data"
    },
    {
     "data": {
      "image/png": "[encoded data removed]",
      "text/latex": [
       "\\begin{equation}\\left[ \\left\\{ R_{a_{j},b} : 3, \\  R_{b_{j},a} : 0\\right\\}, \\  \\left\\{ R_{a_{j},b} : 4, \\  R_{b_{j},a} : 1\\right\\}\\right]\\end{equation}"
      ],
      "text/plain": [
       "[{R_{a_{j},b}: 3, R_{b_{j},a}: 0}, {R_{a_{j},b}: 4, R_{b_{j},a}: 1}]"
      ]
     },
     "metadata": {},
     "output_type": "display_data"
    },
    {
     "name": "stdout",
     "output_type": "stream",
     "text": [
      "12\n"
     ]
    },
    {
     "data": {
      "image/png": "[encoded data removed]",
      "text/latex": [
       "\\begin{equation}\\left\\{ R_{a_{i},a_{j},b} : 3, \\  R_{a_{i},b_{j},a} : 1, \\  R_{a_{i},b_{j},b} : 1, \\  R_{a_{i},b} : 4, \\  R_{a_{j},b} : 4, \\  R_{b_{i},a_{j},a} : 0, \\  R_{b_{i},a_{j},b} : 0, \\  R_{b_{i},a} : 0, \\  R_{b_{i},b_{j},a} : 0, \\  R_{b_{j},a} : 1\\right\\}\\end{equation}"
      ],
      "text/plain": [
       "{R_{a_{i},a_{j},b}: 3, R_{a_{i},b_{j},a}: 1, R_{a_{i},b_{j},b}: 1, R_{a_{i},b} ↪\n",
       "\n",
       "↪ : 4, R_{a_{j},b}: 4, R_{b_{i},a_{j},a}: 0, R_{b_{i},a_{j},b}: 0, R_{b_{i},a} ↪\n",
       "\n",
       "↪ : 0, R_{b_{i},b_{j},a}: 0, R_{b_{j},a}: 1}"
      ]
     },
     "metadata": {},
     "output_type": "display_data"
    }
   ],
   "source": [
    "# Another point in the answer-key Q-simplex yields different evaluations\n",
    "# for the same test results.\n",
    "qa = random.randint(1,Q)\n",
    "qb = Q - qa\n",
    "mVarieties =ntqr.evaluations.MAxiomsVarieties(labels,classifiers,synthetic_responses,(qa,qb),2)\n",
    "display(list(mVarieties.variety(('i',))))\n",
    "display(list(mVarieties.variety(('j',))))\n",
    "m2_points = list(mVarieties.variety(('i','j',)))\n",
    "print(len(m2_points))\n",
    "if len(m2_points) > 0:\n",
    "    display(random.choice(m2_points))"
   ]
  },
  {
   "cell_type": "code",
   "execution_count": 20,
   "id": "951af5d0-9924-436f-8953-a50a711ce6ae",
   "metadata": {},
   "outputs": [
    {
     "data": {
      "image/png": "[encoded data removed]",
      "text/latex": [
       "\\begin{equation}\\left[ \\left\\{ R_{a_{i},b} : 0, \\  R_{b_{i},a} : 4\\right\\}\\right]\\end{equation}"
      ],
      "text/plain": [
       "[{R_{a_{i},b}: 0, R_{b_{i},a}: 4}]"
      ]
     },
     "metadata": {},
     "output_type": "display_data"
    },
    {
     "data": {
      "image/png": "[encoded data removed]",
      "text/latex": [
       "\\begin{equation}\\left[ \\left\\{ R_{a_{j},b} : 0, \\  R_{b_{j},a} : 5\\right\\}\\right]\\end{equation}"
      ],
      "text/plain": [
       "[{R_{a_{j},b}: 0, R_{b_{j},a}: 5}]"
      ]
     },
     "metadata": {},
     "output_type": "display_data"
    },
    {
     "name": "stdout",
     "output_type": "stream",
     "text": [
      "0\n"
     ]
    }
   ],
   "source": [
    "# Some assumed points in the answer-key simplex cannot explain the test results -\n",
    "# There are no pair responses values that satisfy the M=2 axioms.\n",
    "# This tends to happen at the ends of the Q-simplex for binary classification.\n",
    "mVarieties =ntqr.evaluations.MAxiomsVarieties(labels,classifiers,synthetic_responses,(Q,0),2)\n",
    "display(list(mVarieties.variety(('i',))))\n",
    "display(list(mVarieties.variety(('j',))))\n",
    "m2_points = list(mVarieties.variety(('i','j',)))\n",
    "print(len(m2_points))\n",
    "if len(m2_points) > 0:\n",
    "    display(random.choice(m2_points))"
   ]
  },
  {
   "cell_type": "code",
   "execution_count": 21,
   "id": "05586a85-e205-4b8a-a681-49e76df9d330",
   "metadata": {},
   "outputs": [
    {
     "data": {
      "image/png": "[encoded data removed]",
      "text/latex": [
       "\\begin{equation}\\left[ \\left\\{ R_{a_{i},b} : 5, \\  R_{b_{i},a} : 0\\right\\}\\right]\\end{equation}"
      ],
      "text/plain": [
       "[{R_{a_{i},b}: 5, R_{b_{i},a}: 0}]"
      ]
     },
     "metadata": {},
     "output_type": "display_data"
    },
    {
     "data": {
      "image/png": "[encoded data removed]",
      "text/latex": [
       "\\begin{equation}\\left[ \\left\\{ R_{a_{j},b} : 4, \\  R_{b_{j},a} : 0\\right\\}\\right]\\end{equation}"
      ],
      "text/plain": [
       "[{R_{a_{j},b}: 4, R_{b_{j},a}: 0}]"
      ]
     },
     "metadata": {},
     "output_type": "display_data"
    },
    {
     "name": "stdout",
     "output_type": "stream",
     "text": [
      "0\n"
     ]
    }
   ],
   "source": [
    "# Some assumed points in the answer-key simplex cannot explain the test results -\n",
    "# There are no pair responses values that satisfy the M=2 axioms.\n",
    "# This tends to happen at the ends of the Q-simplex for binary classification.\n",
    "mVarieties =ntqr.evaluations.MAxiomsVarieties(labels,classifiers,synthetic_responses,(0,Q),2)\n",
    "display(list(mVarieties.variety(('i',))))\n",
    "display(list(mVarieties.variety(('j',))))\n",
    "m2_points = list(mVarieties.variety(('i','j',)))\n",
    "print(len(m2_points))\n",
    "if len(m2_points) > 0:\n",
    "    display(random.choice(m2_points))"
   ]
  },
  {
   "cell_type": "code",
   "execution_count": 22,
   "id": "ca721896-f973-4d5b-bc85-da384ca286e5",
   "metadata": {},
   "outputs": [
    {
     "data": {
      "image/png": "[encoded data removed]",
      "text/latex": [
       "\\begin{equation}\\left[ \\left\\{ R_{a_{i},b} : 0, \\  R_{b_{i},a} : 2\\right\\}, \\  \\left\\{ R_{a_{i},b} : 1, \\  R_{b_{i},a} : 3\\right\\}, \\  \\left\\{ R_{a_{i},b} : 2, \\  R_{b_{i},a} : 4\\right\\}\\right]\\end{equation}"
      ],
      "text/plain": [
       "[{R_{a_{i},b}: 0, R_{b_{i},a}: 2}, {R_{a_{i},b}: 1, R_{b_{i},a}: 3}, {R_{a_{i} ↪\n",
       "\n",
       "↪ ,b}: 2, R_{b_{i},a}: 4}]"
      ]
     },
     "metadata": {},
     "output_type": "display_data"
    },
    {
     "data": {
      "image/png": "[encoded data removed]",
      "text/latex": [
       "\\begin{equation}\\left[ \\left\\{ R_{a_{j},b} : 0, \\  R_{b_{j},a} : 3\\right\\}, \\  \\left\\{ R_{a_{j},b} : 1, \\  R_{b_{j},a} : 4\\right\\}, \\  \\left\\{ R_{a_{j},b} : 2, \\  R_{b_{j},a} : 5\\right\\}\\right]\\end{equation}"
      ],
      "text/plain": [
       "[{R_{a_{j},b}: 0, R_{b_{j},a}: 3}, {R_{a_{j},b}: 1, R_{b_{j},a}: 4}, {R_{a_{j} ↪\n",
       "\n",
       "↪ ,b}: 2, R_{b_{j},a}: 5}]"
      ]
     },
     "metadata": {},
     "output_type": "display_data"
    },
    {
     "name": "stdout",
     "output_type": "stream",
     "text": [
      "84\n"
     ]
    },
    {
     "data": {
      "image/png": "[encoded data removed]",
      "text/latex": [
       "\\begin{equation}\\left\\{ R_{a_{i},a_{j},b} : 1, \\  R_{a_{i},b_{j},a} : 1, \\  R_{a_{i},b_{j},b} : 1, \\  R_{a_{i},b} : 2, \\  R_{a_{j},b} : 1, \\  R_{b_{i},a_{j},a} : 0, \\  R_{b_{i},a_{j},b} : 0, \\  R_{b_{i},a} : 4, \\  R_{b_{i},b_{j},a} : 3, \\  R_{b_{j},a} : 4\\right\\}\\end{equation}"
      ],
      "text/plain": [
       "{R_{a_{i},a_{j},b}: 1, R_{a_{i},b_{j},a}: 1, R_{a_{i},b_{j},b}: 1, R_{a_{i},b} ↪\n",
       "\n",
       "↪ : 2, R_{a_{j},b}: 1, R_{b_{i},a_{j},a}: 0, R_{b_{i},a_{j},b}: 0, R_{b_{i},a} ↪\n",
       "\n",
       "↪ : 4, R_{b_{i},b_{j},a}: 3, R_{b_{j},a}: 4}"
      ]
     },
     "metadata": {},
     "output_type": "display_data"
    }
   ],
   "source": [
    "# But other answer-key simplex points are consistent with the observed test results. \n",
    "mVarieties =ntqr.evaluations.MAxiomsVarieties(labels,classifiers,synthetic_responses,(Q-2,2),2)\n",
    "display(list(mVarieties.variety(('i',))))\n",
    "display(list(mVarieties.variety(('j',))))\n",
    "m2_points = list(mVarieties.variety(('i','j',)))\n",
    "print(len(m2_points))\n",
    "if len(m2_points) > 0:\n",
    "    display(random.choice(m2_points))"
   ]
  },
  {
   "cell_type": "code",
   "execution_count": null,
   "id": "650e3bc0-9aa5-4069-8a46-b8b124edeca8",
   "metadata": {},
   "outputs": [],
   "source": []
  }
 ],
 "metadata": {
  "kernelspec": {
   "display_name": "Python 3 (ipykernel)",
   "language": "python",
   "name": "python3"
  },
  "language_info": {
   "codemirror_mode": {
    "name": "ipython",
    "version": 3
   },
   "file_extension": ".py",
   "mimetype": "text/x-python",
   "name": "python",
   "nbconvert_exporter": "python",
   "pygments_lexer": "ipython3",
   "version": "3.11.8"
  },
  "widgets": {
   "application/vnd.jupyter.widget-state+json": {
    "state": {},
    "version_major": 2,
    "version_minor": 0
   }
  }
 },
 "nbformat": 4,
 "nbformat_minor": 5
}
