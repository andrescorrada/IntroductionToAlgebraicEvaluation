{
 "cells": [
  {
   "cell_type": "markdown",
   "id": "3b4c1504-9e29-4d25-a69f-d5f7d00f8a44",
   "metadata": {},
   "source": [
    "# The Algebra and Geometry of the Axioms of Unsupervised Evaluation"
   ]
  },
  {
   "cell_type": "code",
   "execution_count": 2,
   "id": "433ad08d-ec8f-4584-a83b-0d9bb5a68842",
   "metadata": {},
   "outputs": [
    {
     "name": "stdout",
     "output_type": "stream",
     "text": [
      "IPython console for SymPy 1.13.2 (Python 3.11.8-64-bit) (ground types: gmpy)\n",
      "\n",
      "These commands were executed:\n",
      ">>> from sympy import *\n",
      ">>> x, y, z, t = symbols('x y z t')\n",
      ">>> k, m, n = symbols('k m n', integer=True)\n",
      ">>> f, g, h = symbols('f g h', cls=Function)\n",
      ">>> init_printing()\n",
      "\n",
      "Documentation can be found at https://docs.sympy.org/1.13.2/\n",
      "\n"
     ]
    }
   ],
   "source": [
    "import itertools, random\n",
    "import sympy\n",
    "from IPython.display import display,Math\n",
    "import ntqr\n",
    "import ntqr.raxioms\n",
    "sympy.init_session(use_unicode=True)\n",
    "init_printing(use_unicode=True)"
   ]
  },
  {
   "cell_type": "markdown",
   "id": "7620ac8e-ddbc-4582-9509-2325f6da7579",
   "metadata": {},
   "source": [
    "## Introduction\n",
    "\n",
    "This notebook explains the algebra and geometry of the axioms of unsupervised evaluation for N test-takers that answer Q questions that have R choices. This is done using the terminology of Algebraic Geometry. Every subset of the N test-takers of size M is associated with a polynomial ideal represented by a set of R equations, one for each response label. This is the algebraic side of the logic of unsupervised evaluation. These ideals define a set of evaluation points - called **varieties** - that are logically consistent with how the M-sized subset responded to the test. These evaluation points exist in simplexes of the possible integer values for response tuples by true label. This is the geometric side of the logic of unsupervised evaluation.\n",
    "\n",
    "Explaining the geometry is combinatorially hard but can be understood by focusing on a single \"point\" in the space. The first portion of\n",
    "that space describes the unknown statistics of the test -- mainly how many times do each of the labels appear on the test.\n",
    "\n",
    "## The answer key Q-simplex\n",
    "\n",
    "Any given test exists as a single point in the Q-simplex: all tuples of the form $(Q_{\\ell_1}, Q_{\\ell_2}, \\ldots, Q_{\\ell_R}).$\n",
    "The tuples lie on a simplex in an $R$-dimensional space because they must satisfy the equation,\n",
    "\\begin{equation}\n",
    "\\sum_{\\ell \\in \\mathcal{L}} Q_\\ell = Q.\n",
    "\\end{equation}\n",
    "Denoting the space of the integers from 0 to $Q$ by $\\mathbb{Q}_Q,$ the Q-simplex lies inside the hypercube of integers denoted by $\\mathbb{Q}_Q^R.$\n",
    "\n",
    "All statements about logical consistency between test-taker evaluation occur at a single point in the Q-simplex. It makes no sense to compare evaluations at different values of the Q-simplex since any given test can only occupy one point in the Q-simplex. Consequently,\n",
    "the logic works in a ladder-like manner. Once we pick a value for the Q-tuple, we can find all single classifier evaluations consistent with individual response statistics. These are the $M=1$ evaluation axioms. This is the next step in the ladder of constructing the evaluation space for $N$ test-takers.\n",
    "\n",
    "## The M=1 R-simplexes\n",
    "\n",
    "Given a value of the Q tuple, $(Q_{\\ell_1}, Q_{\\ell_2}, \\ldots, Q_{\\ell_R}),$ we can ask what evaluations for a single test-taker  $i$ are consistent with the observed label responses the test taker. These are denoted by the response variables,\n",
    "\\begin{equation}\n",
    "\\{ R_{\\ell_i} \\}_{\\ell_i \\in \\mathcal{L}}\n",
    "\\end{equation}\n",
    "What we seek are the values of the responses by true label that are consistent with these label responses by the test taker. These are the M-subset label responses variables. In the case of ($M=1$) these are of the form,\n",
    "\\begin{equation}\n",
    "\\{ R_{\\ell_i,\\ell_\\text{true}} \\}_{\\ell_i \\in \\mathcal{L}},\n",
    "\\end{equation}\n",
    "for each of the R labels. These must also live on a simplex since for any $\\ell_{\\text{true}}$ we must have the identity,\n",
    "\\begin{equation}\n",
    "\\sum_{\\ell_i \\in \\mathcal{L}}  R_{\\ell_i,\\ell_\\text{true}} = R_{\\ell_\\text{true}}.\n",
    "\\end{equation}\n",
    "The M=1 simplex for a single test taker is thus in a produc of spaces, one for each label,\n",
    "\\begin{equation}\n",
    "(\\mathbb{R}_{Q_{\\ell_1}}^1) \\otimes (\\mathbb{R}_{Q_{\\ell_2}}^1) \\otimes \\ldots (\\mathbb{R}_{Q_{\\ell_R}}^1).\n",
    "\\end{equation}\n",
    "\n",
    "## The M=2 R-simplexes\n",
    "\n",
    "The M=2 R-simplexes exist for all pairs of N test-takers. These are now using the evidence in how a pair responded jointly to test questions. These are the response variables of the form $R_{\\ell_i, \\ell_j}$. And the unknown label response statistics we seek are of the form,\n",
    "\\begin{equation}\n",
    "\\{ R_{\\ell_i, \\ell_j, \\ell_\\text{true}} \\}_{\\ell_i, \\ell_j \\in \\mathcal{L}},\n",
    "\\end{equation}\n",
    "These also lie on a simplex in a space that can be represented as,\n",
    "\\begin{equation}\n",
    "(\\mathbb{R}_{Q_{\\ell_1}}^2) \\otimes (\\mathbb{R}_{Q_{\\ell_2}}^2) \\otimes \\ldots (\\mathbb{R}_{Q_{\\ell_R}}^2).\n",
    "\\end{equation}\n",
    "## The general M=m R-simplexes\n",
    "\n",
    "In general, for every M-sized subset of N test-takers, we require a response space of the form,\n",
    "\\begin{equation}\n",
    "(\\mathbb{R}_{Q_{\\ell_1}}^M) \\otimes (\\mathbb{R}_{Q_{\\ell_2}}^M) \\otimes \\ldots (\\mathbb{R}_{Q_{\\ell_R}}^M).\n",
    "\\end{equation}\n",
    "## The role of the axioms in defining the variety of logically consistent group evaluations\n",
    "\n",
    "All the M R-simplexes define the set of all possible evaluations for N test takers given its size Q. But once we observe test responses, the set of evaluations logically consistent with those responses is much smaller than the R-simplexes. This is accomplished by filtering out all M-subset evaluations that do not satisfy the evaluation axioms up to M.\n",
    "\n",
    "Restricting ourselves to the space of single test-taker label responses, a space of dimension $R*N,$ the M=1 axioms define the largest variety possible in this space. The M=2 axioms, being additional algebraic constraints, are thus a subset of this variety. This follows from the well-known idea in Algebraic Geometry that the variety of a large polynomial ideal is equal or smaller than the variety associated with a subset of that ideal.\n",
    "\n",
    "## Examples of the M=1 axioms\n",
    "\n",
    "Starting in NTQR v0.5, M=1 axioms for any number of labels, R, are supported. The axioms are of the form,\n",
    "\\begin{equation}\n",
    "Q_{\\ell_{\\text{true}}} \n",
    "- R_{(\\ell_{\\text{true}})_i} \n",
    "- \\sum_{\\ell_e \\in \\text{errors}(\\ell_{\\text{true}})} R_{(\\ell_e)_i, \\ell_{\\text{true}}}\n",
    "+ \\sum_{\\ell_e \\neq \\ell_{\\text{true}}} R_{(\\ell_{\\text{true}})_i, \\ell_e}\n",
    "\\end{equation}\n",
    "for every $\\ell_{\\text{true}} \\in (\\ell_1, \\ell_2, \\ldots, \\ell_r)$ and $i \\in (c_1, c_2, \\ldots, c_N).$"
   ]
  },
  {
   "cell_type": "code",
   "execution_count": 4,
   "id": "287a85e7-93ba-4693-9d86-d63a57c866e0",
   "metadata": {},
   "outputs": [
    {
     "name": "stdout",
     "output_type": "stream",
     "text": [
      "('j',)\n"
     ]
    },
    {
     "data": {
      "text/latex": [
       "$\\displaystyle Q_{a} + R_{a_{j},b} + R_{a_{j},c} - R_{a_{j}} - R_{b_{j},a} - R_{c_{j},a}$"
      ],
      "text/plain": [
       "<IPython.core.display.Math object>"
      ]
     },
     "metadata": {},
     "output_type": "display_data"
    },
    {
     "data": {
      "text/latex": [
       "$\\displaystyle Q_{b} - R_{a_{j},b} + R_{b_{j},a} + R_{b_{j},c} - R_{b_{j}} - R_{c_{j},b}$"
      ],
      "text/plain": [
       "<IPython.core.display.Math object>"
      ]
     },
     "metadata": {},
     "output_type": "display_data"
    },
    {
     "data": {
      "text/latex": [
       "$\\displaystyle Q_{c} - R_{a_{j},c} - R_{b_{j},c} + R_{c_{j},a} + R_{c_{j},b} - R_{c_{j}}$"
      ],
      "text/plain": [
       "<IPython.core.display.Math object>"
      ]
     },
     "metadata": {},
     "output_type": "display_data"
    }
   ],
   "source": [
    "N=4\n",
    "labels = ('a','b','c',)\n",
    "classifiers = ('i','j','k','l')\n",
    "m_1_ideals = ntqr.raxioms.MAxiomsIdeal(labels,classifiers,1)\n",
    "any_classifier = random.choice(list(itertools.combinations(classifiers,1)))\n",
    "print(any_classifier)\n",
    "for label in labels:\n",
    "    display(Math(latex(m_1_ideals.m_complex[any_classifier]['axioms'][label])))"
   ]
  },
  {
   "cell_type": "markdown",
   "id": "fbe4a73d-0e53-4439-a151-8d52e0fe6c66",
   "metadata": {},
   "source": [
    "## Examples of the M=2 axioms\n",
    "\n",
    "Version 0.5 of NTQR also supports the axioms involving pair response variables for the classifiers.\n",
    "\n",
    "\\begin{split}\n",
    "\\sum_{\\ell_e \\neq \\ell_{\\text{true}}} Q_{\\ell_e}\n",
    "+ \\sum_{(\\ell_i, \\ell_j) \\in notAllCorrect(\\ell_{\\text{true}})} R_{\\ell_i, \\ell_j, \\ell_{\\text{true}}}\n",
    "- \\sum_{e_i \\neq e_j, e_i \\neq \\ell_{\\text{true}}, e_j \\neq \\ell_{\\text{true}}} R_{e_i, e_j, \\ell_{\\text{true}}}\\\\\n",
    "- \\sum_{e \\neq \\ell_{\\text{true}}} \\sum_{c \\in (i,j)} R_{(e)_c} - \\sum_{e \\neq \\ell_{\\text{true}}} \\sum_{c \\in (i,j)} \\sum_{e' \\neq e} R_{(e')_c,e}\\\\\n",
    "+ \\sum_{e \\neq \\ell_{\\text{true}}} R_{e_i,e_j} + \\sum_{e \\neq \\ell_{\\text{true}}} \\left(\\sum_{(e'_i, e'_j) \\in notAllCorrect(e)} R_{e'_i,e'_j,e} \\right)\n",
    "\\end{split}\n",
    "\n",
    "for every $\\ell_{\\text{true}} \\in (\\ell_1, \\ell_2, \\ldots, \\ell_r)$ and $i,j \\in (c_1, c_2, \\ldots, c_N)$."
   ]
  },
  {
   "cell_type": "code",
   "execution_count": 6,
   "id": "c32fadc2-91c0-480e-9db4-e98d72f954ca",
   "metadata": {},
   "outputs": [
    {
     "name": "stdout",
     "output_type": "stream",
     "text": [
      "('i', 'j')\n"
     ]
    },
    {
     "data": {
      "text/latex": [
       "$\\displaystyle Q_{b} + Q_{c} + R_{a_{i},a_{j},b} + R_{a_{i},a_{j},c} + 2 R_{a_{i},b_{j},a} + R_{a_{i},b_{j},b} + R_{a_{i},b_{j},c} - R_{a_{i},b} + 2 R_{a_{i},c_{j},a} + R_{a_{i},c_{j},b} + R_{a_{i},c_{j},c} - R_{a_{i},c} - R_{a_{j},b} - R_{a_{j},c} + 2 R_{b_{i},a_{j},a} + R_{b_{i},a_{j},b} + R_{b_{i},a_{j},c} + R_{b_{i},b_{j},a} + R_{b_{i},b_{j},c} + R_{b_{i},b_{j}} + 2 R_{b_{i},c_{j},a} + R_{b_{i},c_{j},b} + R_{b_{i},c_{j},c} - R_{b_{i},c} - R_{b_{i}} - R_{b_{j},c} - R_{b_{j}} + 2 R_{c_{i},a_{j},a} + R_{c_{i},a_{j},b} + R_{c_{i},a_{j},c} + 2 R_{c_{i},b_{j},a} + R_{c_{i},b_{j},b} + R_{c_{i},b_{j},c} - R_{c_{i},b} + R_{c_{i},c_{j},a} + R_{c_{i},c_{j},b} + R_{c_{i},c_{j}} - R_{c_{i}} - R_{c_{j},b} - R_{c_{j}}$"
      ],
      "text/plain": [
       "<IPython.core.display.Math object>"
      ]
     },
     "metadata": {},
     "output_type": "display_data"
    },
    {
     "data": {
      "text/latex": [
       "$\\displaystyle Q_{a} + Q_{c} + R_{a_{i},a_{j},b} + R_{a_{i},a_{j},c} + R_{a_{i},a_{j}} + R_{a_{i},b_{j},a} + 2 R_{a_{i},b_{j},b} + R_{a_{i},b_{j},c} + R_{a_{i},c_{j},a} + 2 R_{a_{i},c_{j},b} + R_{a_{i},c_{j},c} - R_{a_{i},c} - R_{a_{i}} - R_{a_{j},c} - R_{a_{j}} + R_{b_{i},a_{j},a} + 2 R_{b_{i},a_{j},b} + R_{b_{i},a_{j},c} - R_{b_{i},a} + R_{b_{i},b_{j},a} + R_{b_{i},b_{j},c} + R_{b_{i},c_{j},a} + 2 R_{b_{i},c_{j},b} + R_{b_{i},c_{j},c} - R_{b_{i},c} - R_{b_{j},a} - R_{b_{j},c} + R_{c_{i},a_{j},a} + 2 R_{c_{i},a_{j},b} + R_{c_{i},a_{j},c} - R_{c_{i},a} + R_{c_{i},b_{j},a} + 2 R_{c_{i},b_{j},b} + R_{c_{i},b_{j},c} + R_{c_{i},c_{j},a} + R_{c_{i},c_{j},b} + R_{c_{i},c_{j}} - R_{c_{i}} - R_{c_{j},a} - R_{c_{j}}$"
      ],
      "text/plain": [
       "<IPython.core.display.Math object>"
      ]
     },
     "metadata": {},
     "output_type": "display_data"
    },
    {
     "data": {
      "text/latex": [
       "$\\displaystyle Q_{a} + Q_{b} + R_{a_{i},a_{j},b} + R_{a_{i},a_{j},c} + R_{a_{i},a_{j}} + R_{a_{i},b_{j},a} + R_{a_{i},b_{j},b} + 2 R_{a_{i},b_{j},c} - R_{a_{i},b} + R_{a_{i},c_{j},a} + R_{a_{i},c_{j},b} + 2 R_{a_{i},c_{j},c} - R_{a_{i}} - R_{a_{j},b} - R_{a_{j}} + R_{b_{i},a_{j},a} + R_{b_{i},a_{j},b} + 2 R_{b_{i},a_{j},c} - R_{b_{i},a} + R_{b_{i},b_{j},a} + R_{b_{i},b_{j},c} + R_{b_{i},b_{j}} + R_{b_{i},c_{j},a} + R_{b_{i},c_{j},b} + 2 R_{b_{i},c_{j},c} - R_{b_{i}} - R_{b_{j},a} - R_{b_{j}} + R_{c_{i},a_{j},a} + R_{c_{i},a_{j},b} + 2 R_{c_{i},a_{j},c} - R_{c_{i},a} + R_{c_{i},b_{j},a} + R_{c_{i},b_{j},b} + 2 R_{c_{i},b_{j},c} - R_{c_{i},b} + R_{c_{i},c_{j},a} + R_{c_{i},c_{j},b} - R_{c_{j},a} - R_{c_{j},b}$"
      ],
      "text/plain": [
       "<IPython.core.display.Math object>"
      ]
     },
     "metadata": {},
     "output_type": "display_data"
    }
   ],
   "source": [
    "N=4\n",
    "labels = ('a','b','c',)\n",
    "classifiers = ('i','j','k','l')\n",
    "m_2_ideals = ntqr.raxioms.MAxiomsIdeal(labels,classifiers,2)\n",
    "any_pair = random.choice(list(itertools.combinations(classifiers,2)))\n",
    "print(any_pair)\n",
    "for label in labels:\n",
    "    display(Math(latex(m_2_ideals.m_complex[any_pair]['axioms'][label])))"
   ]
  },
  {
   "cell_type": "markdown",
   "id": "a1dca0c0-6252-435a-b857-84253ad98df9",
   "metadata": {},
   "source": [
    "### The use of the axioms given test responses\n",
    "\n",
    "The above axioms are 'universal' in the sense that they apply to all multiple choice exams, irrespective of subject or domain. As the equations show, there are no parameters or variables associated with any semantics of the test. All that is required is values for sample statistics of the test. These sample statistics are divided into two parts. The observable agreements and disagreements between the classifiers. There is a combinatorial number of these, one set for each of the $N!/(N-m)!m!$ $M=m$-sized subset of N classifiers. Each of those sets has $r^m$ possible question aligned decision tuples.\n",
    "\n",
    "The second part are the unknown test statistics that would allow us to evaluate the classifiers on the test -- the label response variables. These are also combinatorial in number, but now there are {math}`R=r` of them. One for each of the {math}`r` labels for a given test. The logic of unsupervised evaluation is based on the idea that there is a set, a **variety** in the language of algebraic geometry, that satisfies these axioms. So when we have test responses at hand, the logic proceeds by filling in the values for the response variables.\n",
    "\n",
    "But in addition, we must specify at what point in the answer key Q-tuple we are doing the search for the varieties of the axioms ideals. It makes no logical sense to consider varieties across different values of $(Q_{\\ell_1}, Q_{\\ell_2}, \\ldots, Q_{\\ell_r}).$ Statements about logical consistency of evaluations with observed test responses are **always** at a fixed point in the answer key Q-tuple."
   ]
  },
  {
   "cell_type": "code",
   "execution_count": 8,
   "id": "7fcb9479-04d8-43fe-8f07-0198379c062b",
   "metadata": {},
   "outputs": [],
   "source": [
    "# Now we must import the ntqr.evaluations package\n",
    "from ntqr.evaluations import MLabelResponseSimplexes\n",
    "# Let's add more labels\n",
    "labels = ('a','b','c','d')\n",
    "classifiers = ('i', 'j', 'k','l')\n",
    "synthetic_responses = {decisions: random.randint(1,100) for decisions in itertools.product(labels,repeat=len(classifiers))}\n",
    "mVarieties =ntqr.evaluations.MAxiomsVarieties(labels,classifiers,synthetic_responses,(10,20,10,31),1)"
   ]
  },
  {
   "cell_type": "code",
   "execution_count": 9,
   "id": "7366aaa1-b368-4c3d-bbd7-3cf39e59bff2",
   "metadata": {},
   "outputs": [
    {
     "name": "stdout",
     "output_type": "stream",
     "text": [
      "The m=1 subset:  ('i',)\n",
      "a\n"
     ]
    },
    {
     "data": {
      "image/png": "[encoded data removed]",
      "text/latex": [
       "$\\displaystyle Q_{a} + R_{a_{i},b} + R_{a_{i},c} + R_{a_{i},d} - R_{a_{i}} - R_{b_{i},a} - R_{c_{i},a} - R_{d_{i},a}$"
      ],
      "text/plain": [
       "Qₐ + R_{a_{i},b} + R_{a_{i},c} + R_{a_{i},d} - R_{a_{i}} - R_{b_{i},a} - R_{c_ ↪\n",
       "\n",
       "↪ {i},a} - R_{d_{i},a}"
      ]
     },
     "metadata": {},
     "output_type": "display_data"
    },
    {
     "name": "stdout",
     "output_type": "stream",
     "text": [
      "Becomes after test responses:\n"
     ]
    },
    {
     "data": {
      "image/png": "[encoded data removed]",
      "text/latex": [
       "$\\displaystyle R_{a_{i},b} + R_{a_{i},c} + R_{a_{i},d} - R_{b_{i},a} - R_{c_{i},a} - R_{d_{i},a} - 3409$"
      ],
      "text/plain": [
       "R_{a_{i},b} + R_{a_{i},c} + R_{a_{i},d} - R_{b_{i},a} - R_{c_{i},a} - R_{d_{i} ↪\n",
       "\n",
       "↪ ,a} - 3409"
      ]
     },
     "metadata": {},
     "output_type": "display_data"
    },
    {
     "name": "stdout",
     "output_type": "stream",
     "text": [
      "b\n"
     ]
    },
    {
     "data": {
      "image/png": "[encoded data removed]",
      "text/latex": [
       "$\\displaystyle Q_{b} - R_{a_{i},b} + R_{b_{i},a} + R_{b_{i},c} + R_{b_{i},d} - R_{b_{i}} - R_{c_{i},b} - R_{d_{i},b}$"
      ],
      "text/plain": [
       "Q_b - R_{a_{i},b} + R_{b_{i},a} + R_{b_{i},c} + R_{b_{i},d} - R_{b_{i}} - R_{c ↪\n",
       "\n",
       "↪ _{i},b} - R_{d_{i},b}"
      ]
     },
     "metadata": {},
     "output_type": "display_data"
    },
    {
     "name": "stdout",
     "output_type": "stream",
     "text": [
      "Becomes after test responses:\n"
     ]
    },
    {
     "data": {
      "image/png": "[encoded data removed]",
      "text/latex": [
       "$\\displaystyle - R_{a_{i},b} + R_{b_{i},a} + R_{b_{i},c} + R_{b_{i},d} - R_{c_{i},b} - R_{d_{i},b} - 3068$"
      ],
      "text/plain": [
       "-R_{a_{i},b} + R_{b_{i},a} + R_{b_{i},c} + R_{b_{i},d} - R_{c_{i},b} - R_{d_{i ↪\n",
       "\n",
       "↪ },b} - 3068"
      ]
     },
     "metadata": {},
     "output_type": "display_data"
    },
    {
     "name": "stdout",
     "output_type": "stream",
     "text": [
      "c\n"
     ]
    },
    {
     "data": {
      "image/png": "[encoded data removed]",
      "text/latex": [
       "$\\displaystyle Q_{c} - R_{a_{i},c} - R_{b_{i},c} + R_{c_{i},a} + R_{c_{i},b} + R_{c_{i},d} - R_{c_{i}} - R_{d_{i},c}$"
      ],
      "text/plain": [
       "Q_c - R_{a_{i},c} - R_{b_{i},c} + R_{c_{i},a} + R_{c_{i},b} + R_{c_{i},d} - R_ ↪\n",
       "\n",
       "↪ {c_{i}} - R_{d_{i},c}"
      ]
     },
     "metadata": {},
     "output_type": "display_data"
    },
    {
     "name": "stdout",
     "output_type": "stream",
     "text": [
      "Becomes after test responses:\n"
     ]
    },
    {
     "data": {
      "image/png": "[encoded data removed]",
      "text/latex": [
       "$\\displaystyle - R_{a_{i},c} - R_{b_{i},c} + R_{c_{i},a} + R_{c_{i},b} + R_{c_{i},d} - R_{d_{i},c} - 3452$"
      ],
      "text/plain": [
       "-R_{a_{i},c} - R_{b_{i},c} + R_{c_{i},a} + R_{c_{i},b} + R_{c_{i},d} - R_{d_{i ↪\n",
       "\n",
       "↪ },c} - 3452"
      ]
     },
     "metadata": {},
     "output_type": "display_data"
    },
    {
     "name": "stdout",
     "output_type": "stream",
     "text": [
      "d\n"
     ]
    },
    {
     "data": {
      "image/png": "[encoded data removed]",
      "text/latex": [
       "$\\displaystyle Q_{d} - R_{a_{i},d} - R_{b_{i},d} - R_{c_{i},d} + R_{d_{i},a} + R_{d_{i},b} + R_{d_{i},c} - R_{d_{i}}$"
      ],
      "text/plain": [
       "Q_d - R_{a_{i},d} - R_{b_{i},d} - R_{c_{i},d} + R_{d_{i},a} + R_{d_{i},b} + R_ ↪\n",
       "\n",
       "↪ {d_{i},c} - R_{d_{i}}"
      ]
     },
     "metadata": {},
     "output_type": "display_data"
    },
    {
     "name": "stdout",
     "output_type": "stream",
     "text": [
      "Becomes after test responses:\n"
     ]
    },
    {
     "data": {
      "image/png": "[encoded data removed]",
      "text/latex": [
       "$\\displaystyle - R_{a_{i},d} - R_{b_{i},d} - R_{c_{i},d} + R_{d_{i},a} + R_{d_{i},b} + R_{d_{i},c} - 2890$"
      ],
      "text/plain": [
       "-R_{a_{i},d} - R_{b_{i},d} - R_{c_{i},d} + R_{d_{i},a} + R_{d_{i},b} + R_{d_{i ↪\n",
       "\n",
       "↪ },c} - 2890"
      ]
     },
     "metadata": {},
     "output_type": "display_data"
    }
   ],
   "source": [
    "# Let's compare the axioms for any m=1 subset of the 4 classifiers\n",
    "any_m_1_subset = random.choice([m_subset for m_subset in itertools.combinations(classifiers,1)])\n",
    "axioms_before_test = ntqr.raxioms.MAxiomsIdeal(labels,classifiers,1).m_complex[any_m_1_subset][\"axioms\"]\n",
    "print(\"The m=1 subset: \", any_m_1_subset)\n",
    "for label, test_axiom in mVarieties.test_axioms[any_m_1_subset].items():\n",
    "    print(label)\n",
    "    display(axioms_before_test[label])\n",
    "    print(\"Becomes after test responses:\")\n",
    "    display(test_axiom)"
   ]
  },
  {
   "cell_type": "code",
   "execution_count": 10,
   "id": "4b594407-84a8-472d-959b-cbfbb8d8af78",
   "metadata": {},
   "outputs": [
    {
     "name": "stdout",
     "output_type": "stream",
     "text": [
      "('i',)   c\n"
     ]
    },
    {
     "data": {
      "image/png": "[encoded data removed]",
      "text/latex": [
       "$\\displaystyle Q_{c} - R_{a_{i},c} - R_{b_{i},c} + R_{c_{i},a} + R_{c_{i},b} + R_{c_{i},d} - R_{c_{i}} - R_{d_{i},c}$"
      ],
      "text/plain": [
       "Q_c - R_{a_{i},c} - R_{b_{i},c} + R_{c_{i},a} + R_{c_{i},b} + R_{c_{i},d} - R_ ↪\n",
       "\n",
       "↪ {c_{i}} - R_{d_{i},c}"
      ]
     },
     "metadata": {},
     "output_type": "display_data"
    },
    {
     "name": "stdout",
     "output_type": "stream",
     "text": [
      "Becomes after test responses:\n"
     ]
    },
    {
     "data": {
      "image/png": "[encoded data removed]",
      "text/latex": [
       "$\\displaystyle - R_{a_{i},c} - R_{b_{i},c} + R_{c_{i},a} + R_{c_{i},b} + R_{c_{i},d} - R_{d_{i},c} - 3452$"
      ],
      "text/plain": [
       "-R_{a_{i},c} - R_{b_{i},c} + R_{c_{i},a} + R_{c_{i},b} + R_{c_{i},d} - R_{d_{i ↪\n",
       "\n",
       "↪ },c} - 3452"
      ]
     },
     "metadata": {},
     "output_type": "display_data"
    }
   ],
   "source": [
    "# Let's compare the axioms for any m=1 subset of the 4 classifiers\n",
    "any_subset = random.choice([m_subset for m_subset in itertools.combinations(classifiers,1)])\n",
    "axioms_before_test = ntqr.raxioms.MAxiomsIdeal(labels,classifiers,1).m_complex[any_subset][\"axioms\"]\n",
    "any_label = random.choice(labels)\n",
    "print(any_subset, \" \", any_label)\n",
    "test_axiom = mVarieties.test_axioms[any_subset][any_label]\n",
    "display(axioms_before_test[any_label])\n",
    "print(\"Becomes after test responses:\")\n",
    "display(test_axiom)"
   ]
  },
  {
   "cell_type": "code",
   "execution_count": 11,
   "id": "6fcd4ec5-d659-4133-a6c7-7cfa32420eda",
   "metadata": {},
   "outputs": [
    {
     "data": {
      "image/png": "[encoded data removed]",
      "text/latex": [
       "$\\displaystyle - R_{a_{i},c} - R_{b_{i},c} + R_{c_{i},a} + R_{c_{i},b} + R_{c_{i},d} - R_{d_{i},c} - 3452$"
      ],
      "text/plain": [
       "-R_{a_{i},c} - R_{b_{i},c} + R_{c_{i},a} + R_{c_{i},b} + R_{c_{i},d} - R_{d_{i ↪\n",
       "\n",
       "↪ },c} - 3452"
      ]
     },
     "execution_count": 11,
     "metadata": {},
     "output_type": "execute_result"
    }
   ],
   "source": [
    "test_axiom"
   ]
  },
  {
   "cell_type": "code",
   "execution_count": 12,
   "id": "acad6dd2-15f7-4bef-b7d1-c25170f0ab1d",
   "metadata": {},
   "outputs": [
    {
     "data": {
      "text/plain": [
       "sympy.core.expr.UnevaluatedExpr"
      ]
     },
     "execution_count": 12,
     "metadata": {},
     "output_type": "execute_result"
    }
   ],
   "source": [
    "type(test_axiom)"
   ]
  },
  {
   "cell_type": "code",
   "execution_count": 13,
   "id": "26ed9f0f-66af-4196-b853-672b64caac9e",
   "metadata": {},
   "outputs": [
    {
     "data": {
      "text/plain": [
       "sympy.core.expr.UnevaluatedExpr"
      ]
     },
     "execution_count": 13,
     "metadata": {},
     "output_type": "execute_result"
    }
   ],
   "source": [
    "sympy.UnevaluatedExpr"
   ]
  },
  {
   "cell_type": "code",
   "execution_count": 14,
   "id": "93c270de-670e-400a-bbc6-123815a01a37",
   "metadata": {},
   "outputs": [
    {
     "name": "stdout",
     "output_type": "stream",
     "text": [
      "762\n",
      "('l',)   a\n"
     ]
    },
    {
     "data": {
      "image/png": "[encoded data removed]",
      "text/latex": [
       "$\\displaystyle Q_{a} + R_{a_{l},b} + R_{a_{l},c} + R_{a_{l},d} - R_{a_{l}} - R_{b_{l},a} - R_{c_{l},a} - R_{d_{l},a}$"
      ],
      "text/plain": [
       "Qₐ + R_{a_{l},b} + R_{a_{l},c} + R_{a_{l},d} - R_{a_{l}} - R_{b_{l},a} - R_{c_ ↪\n",
       "\n",
       "↪ {l},a} - R_{d_{l},a}"
      ]
     },
     "metadata": {},
     "output_type": "display_data"
    },
    {
     "name": "stdout",
     "output_type": "stream",
     "text": [
      "Becomes after test responses:\n"
     ]
    },
    {
     "data": {
      "image/png": "[encoded data removed]",
      "text/latex": [
       "$\\displaystyle - R_{a_{i},c} - R_{b_{i},c} + R_{c_{i},a} + R_{c_{i},b} + R_{c_{i},d} - R_{d_{i},c} - 3452$"
      ],
      "text/plain": [
       "-R_{a_{i},c} - R_{b_{i},c} + R_{c_{i},a} + R_{c_{i},b} + R_{c_{i},d} - R_{d_{i ↪\n",
       "\n",
       "↪ },c} - 3452"
      ]
     },
     "metadata": {},
     "output_type": "display_data"
    }
   ],
   "source": [
    "# Let's compare the axioms for any m=1 subset of the 4 classifiers\n",
    "labels = ('a','b','c','d')\n",
    "classifiers = ('i', 'j', 'k','l')\n",
    "synthetic_responses = {decisions: random.randint(1,5) for decisions in itertools.product(labels,repeat=len(classifiers))}\n",
    "Q = sum(val for val in synthetic_responses.values())\n",
    "print(Q)\n",
    "any_subset = random.choice([m_subset for m_subset in itertools.combinations(classifiers,1)])\n",
    "axioms_before_test = ntqr.raxioms.MAxiomsIdeal(labels,classifiers,1).m_complex[any_subset][\"axioms\"]\n",
    "any_label = random.choice(labels)\n",
    "print(any_subset, \" \", any_label)\n",
    "#test_axiom = mVarieties.test_axioms[any_subset][any_label]\n",
    "display(axioms_before_test[any_label])\n",
    "print(\"Becomes after test responses:\")\n",
    "display(test_axiom)"
   ]
  },
  {
   "cell_type": "code",
   "execution_count": 73,
   "id": "0a38674d-1a51-478a-951d-1eb4ff1085eb",
   "metadata": {},
   "outputs": [
    {
     "name": "stdout",
     "output_type": "stream",
     "text": [
      "11\n",
      "('i',)   b\n"
     ]
    }
   ],
   "source": [
    "# Let's go back to R=2 tests and create synthetic test responses.\n",
    "labels = ('a','b',)\n",
    "classifiers = ('i', 'j',)\n",
    "synthetic_responses = {decisions: random.randint(1,5) for decisions in itertools.product(labels,repeat=len(classifiers))}\n",
    "Q = sum(val for val in synthetic_responses.values())\n",
    "print(Q)\n",
    "any_subset = random.choice([m_subset for m_subset in itertools.combinations(classifiers,1)])\n",
    "axioms_before_test = ntqr.raxioms.MAxiomsIdeal(labels,classifiers,1).m_complex[any_subset][\"axioms\"]\n",
    "any_label = random.choice(labels)\n",
    "print(any_subset, \" \", any_label)"
   ]
  },
  {
   "cell_type": "code",
   "execution_count": 75,
   "id": "07df1bc1-e9e2-4968-873b-463da9df0a2a",
   "metadata": {},
   "outputs": [
    {
     "name": "stdout",
     "output_type": "stream",
     "text": [
      "Q_a = 1 , Q_b = 10\n"
     ]
    },
    {
     "data": {
      "image/png": "[encoded data removed]",
      "text/latex": [
       "$\\displaystyle Q_{b} - R_{a_{i},b} + R_{b_{i},a} - R_{b_{i}}$"
      ],
      "text/plain": [
       "Q_b - R_{a_{i},b} + R_{b_{i},a} - R_{b_{i}}"
      ]
     },
     "metadata": {},
     "output_type": "display_data"
    },
    {
     "name": "stdout",
     "output_type": "stream",
     "text": [
      "Becomes after test responses:\n"
     ]
    },
    {
     "data": {
      "image/png": "[encoded data removed]",
      "text/latex": [
       "$\\displaystyle - R_{a_{i},b} + R_{b_{i},a} + 6$"
      ],
      "text/plain": [
       "-R_{a_{i},b} + R_{b_{i},a} + 6"
      ]
     },
     "metadata": {},
     "output_type": "display_data"
    }
   ],
   "source": [
    "# Varieties exist at a fixed point in the answer-key simplex\n",
    "qa = random.randint(1,Q)\n",
    "qb = Q - qa\n",
    "print(\"Q_a =\", qa, \", Q_b =\", Q - qa)\n",
    "mVarieties =ntqr.evaluations.MAxiomsVarieties(labels,classifiers,synthetic_responses,(qa, qb),2)\n",
    "test_axiom = mVarieties.test_axioms[any_subset][any_label]\n",
    "display(axioms_before_test[any_label])\n",
    "print(\"Becomes after test responses:\")\n",
    "display(test_axiom)"
   ]
  },
  {
   "cell_type": "code",
   "execution_count": 89,
   "id": "a6ef2591-979a-45ba-8da2-084076f24f5c",
   "metadata": {},
   "outputs": [
    {
     "data": {
      "image/png": "[encoded data removed]",
      "text/latex": [
       "$\\displaystyle \\left[ \\left\\{ R_{a_{i},b} : 6, \\  R_{b_{i},a} : 0\\right\\}, \\  \\left\\{ R_{a_{i},b} : 7, \\  R_{b_{i},a} : 1\\right\\}\\right]$"
      ],
      "text/plain": [
       "[{R_{a_{i},b}: 6, R_{b_{i},a}: 0}, {R_{a_{i},b}: 7, R_{b_{i},a}: 1}]"
      ]
     },
     "execution_count": 89,
     "metadata": {},
     "output_type": "execute_result"
    }
   ],
   "source": [
    "list(mVarieties.variety(('i',)))"
   ]
  },
  {
   "cell_type": "code",
   "execution_count": 198,
   "id": "ac69e00d-74e1-408a-9e19-e7c1cb465c95",
   "metadata": {},
   "outputs": [
    {
     "data": {
      "image/png": "[encoded data removed]",
      "text/latex": [
       "$\\displaystyle \\left[ \\left\\{ R_{a_{i},b} : 0, \\  R_{b_{i},a} : 2\\right\\}, \\  \\left\\{ R_{a_{i},b} : 1, \\  R_{b_{i},a} : 3\\right\\}, \\  \\left\\{ R_{a_{i},b} : 2, \\  R_{b_{i},a} : 4\\right\\}\\right]$"
      ],
      "text/plain": [
       "[{R_{a_{i},b}: 0, R_{b_{i},a}: 2}, {R_{a_{i},b}: 1, R_{b_{i},a}: 3}, {R_{a_{i} ↪\n",
       "\n",
       "↪ ,b}: 2, R_{b_{i},a}: 4}]"
      ]
     },
     "metadata": {},
     "output_type": "display_data"
    },
    {
     "data": {
      "image/png": "[encoded data removed]",
      "text/latex": [
       "$\\displaystyle \\left[ \\left\\{ R_{a_{j},b} : 0, \\  R_{b_{j},a} : 1\\right\\}, \\  \\left\\{ R_{a_{j},b} : 1, \\  R_{b_{j},a} : 2\\right\\}, \\  \\left\\{ R_{a_{j},b} : 2, \\  R_{b_{j},a} : 3\\right\\}\\right]$"
      ],
      "text/plain": [
       "[{R_{a_{j},b}: 0, R_{b_{j},a}: 1}, {R_{a_{j},b}: 1, R_{b_{j},a}: 2}, {R_{a_{j} ↪\n",
       "\n",
       "↪ ,b}: 2, R_{b_{j},a}: 3}]"
      ]
     },
     "metadata": {},
     "output_type": "display_data"
    },
    {
     "name": "stdout",
     "output_type": "stream",
     "text": [
      "61\n"
     ]
    },
    {
     "data": {
      "image/png": "[encoded data removed]",
      "text/latex": [
       "$\\displaystyle \\left\\{ R_{a_{i},a_{j},b} : 1, \\  R_{a_{i},b_{j},a} : 0, \\  R_{a_{i},b_{j},b} : 0, \\  R_{a_{i},b} : 0, \\  R_{a_{j},b} : 0, \\  R_{b_{i},a_{j},a} : 1, \\  R_{b_{i},a_{j},b} : 1, \\  R_{b_{i},a} : 2, \\  R_{b_{i},b_{j},a} : 0, \\  R_{b_{j},a} : 1\\right\\}$"
      ],
      "text/plain": [
       "{R_{a_{i},a_{j},b}: 1, R_{a_{i},b_{j},a}: 0, R_{a_{i},b_{j},b}: 0, R_{a_{i},b} ↪\n",
       "\n",
       "↪ : 0, R_{a_{j},b}: 0, R_{b_{i},a_{j},a}: 1, R_{b_{i},a_{j},b}: 1, R_{b_{i},a} ↪\n",
       "\n",
       "↪ : 2, R_{b_{i},b_{j},a}: 0, R_{b_{j},a}: 1}"
      ]
     },
     "metadata": {},
     "output_type": "display_data"
    },
    {
     "data": {
      "image/png": "[encoded data removed]",
      "text/latex": [
       "$\\displaystyle \\left\\{ R_{a_{i},a_{j},b} : 0, \\  R_{a_{i},b_{j},a} : 0, \\  R_{a_{i},b_{j},b} : 1, \\  R_{a_{i},b} : 2, \\  R_{a_{j},b} : 0, \\  R_{b_{i},a_{j},a} : 2, \\  R_{b_{i},a_{j},b} : 1, \\  R_{b_{i},a} : 4, \\  R_{b_{i},b_{j},a} : 0, \\  R_{b_{j},a} : 1\\right\\}$"
      ],
      "text/plain": [
       "{R_{a_{i},a_{j},b}: 0, R_{a_{i},b_{j},a}: 0, R_{a_{i},b_{j},b}: 1, R_{a_{i},b} ↪\n",
       "\n",
       "↪ : 2, R_{a_{j},b}: 0, R_{b_{i},a_{j},a}: 2, R_{b_{i},a_{j},b}: 1, R_{b_{i},a} ↪\n",
       "\n",
       "↪ : 4, R_{b_{i},b_{j},a}: 0, R_{b_{j},a}: 1}"
      ]
     },
     "metadata": {},
     "output_type": "display_data"
    }
   ],
   "source": [
    "# Another point in the answer-key Q-simplex yields different evaluations\n",
    "# for the same test results.\n",
    "qa = random.randint(1,Q)\n",
    "qb = Q - qa\n",
    "mVarieties =ntqr.evaluations.MAxiomsVarieties(labels,classifiers,synthetic_responses,(qa,qb),2)\n",
    "display(list(mVarieties.variety(('i',))))\n",
    "display(list(mVarieties.variety(('j',))))\n",
    "m2_points = list(mVarieties.variety(('i','j',)))\n",
    "print(len(m2_points))\n",
    "if len(m2_points) > 0:\n",
    "    display(m2_points[0])\n",
    "    display(random.choice(m2_points))"
   ]
  },
  {
   "cell_type": "code",
   "execution_count": 200,
   "id": "951af5d0-9924-436f-8953-a50a711ce6ae",
   "metadata": {},
   "outputs": [
    {
     "data": {
      "image/png": "[encoded data removed]",
      "text/latex": [
       "$\\displaystyle \\left[ \\left\\{ R_{a_{i},b} : 0, \\  R_{b_{i},a} : 4\\right\\}\\right]$"
      ],
      "text/plain": [
       "[{R_{a_{i},b}: 0, R_{b_{i},a}: 4}]"
      ]
     },
     "metadata": {},
     "output_type": "display_data"
    },
    {
     "data": {
      "image/png": "[encoded data removed]",
      "text/latex": [
       "$\\displaystyle \\left[ \\left\\{ R_{a_{j},b} : 0, \\  R_{b_{j},a} : 3\\right\\}\\right]$"
      ],
      "text/plain": [
       "[{R_{a_{j},b}: 0, R_{b_{j},a}: 3}]"
      ]
     },
     "metadata": {},
     "output_type": "display_data"
    },
    {
     "name": "stdout",
     "output_type": "stream",
     "text": [
      "0\n"
     ]
    }
   ],
   "source": [
    "# Some assumed points in the answer-key simplex cannot explain the test results -\n",
    "# There are no pair responses values that satisfy the M=2 axioms.\n",
    "# This tends to happen at the ends of the Q-simplex for binary classification.\n",
    "mVarieties =ntqr.evaluations.MAxiomsVarieties(labels,classifiers,synthetic_responses,(Q,0),2)\n",
    "display(list(mVarieties.variety(('i',))))\n",
    "display(list(mVarieties.variety(('j',))))\n",
    "m2_points = list(mVarieties.variety(('i','j',)))\n",
    "print(len(m2_points))\n",
    "if len(m2_points) > 0:\n",
    "    display(m2_points[0])\n",
    "    display(random.choice(m2_points))"
   ]
  },
  {
   "cell_type": "code",
   "execution_count": 202,
   "id": "05586a85-e205-4b8a-a681-49e76df9d330",
   "metadata": {},
   "outputs": [
    {
     "data": {
      "image/png": "[encoded data removed]",
      "text/latex": [
       "$\\displaystyle \\left[ \\left\\{ R_{a_{i},b} : 7, \\  R_{b_{i},a} : 0\\right\\}\\right]$"
      ],
      "text/plain": [
       "[{R_{a_{i},b}: 7, R_{b_{i},a}: 0}]"
      ]
     },
     "metadata": {},
     "output_type": "display_data"
    },
    {
     "data": {
      "image/png": "[encoded data removed]",
      "text/latex": [
       "$\\displaystyle \\left[ \\left\\{ R_{a_{j},b} : 8, \\  R_{b_{j},a} : 0\\right\\}\\right]$"
      ],
      "text/plain": [
       "[{R_{a_{j},b}: 8, R_{b_{j},a}: 0}]"
      ]
     },
     "metadata": {},
     "output_type": "display_data"
    },
    {
     "name": "stdout",
     "output_type": "stream",
     "text": [
      "0\n"
     ]
    }
   ],
   "source": [
    "# Some assumed points in the answer-key simplex cannot explain the test results -\n",
    "# There are no pair responses values that satisfy the M=2 axioms.\n",
    "# This tends to happen at the ends of the Q-simplex for binary classification.\n",
    "mVarieties =ntqr.evaluations.MAxiomsVarieties(labels,classifiers,synthetic_responses,(0,Q),2)\n",
    "display(list(mVarieties.variety(('i',))))\n",
    "display(list(mVarieties.variety(('j',))))\n",
    "m2_points = list(mVarieties.variety(('i','j',)))\n",
    "print(len(m2_points))\n",
    "if len(m2_points) > 0:\n",
    "    display(m2_points[0])\n",
    "    display(random.choice(m2_points))"
   ]
  },
  {
   "cell_type": "code",
   "execution_count": 204,
   "id": "ca721896-f973-4d5b-bc85-da384ca286e5",
   "metadata": {},
   "outputs": [
    {
     "data": {
      "image/png": "[encoded data removed]",
      "text/latex": [
       "$\\displaystyle \\left[ \\left\\{ R_{a_{i},b} : 0, \\  R_{b_{i},a} : 2\\right\\}, \\  \\left\\{ R_{a_{i},b} : 1, \\  R_{b_{i},a} : 3\\right\\}, \\  \\left\\{ R_{a_{i},b} : 2, \\  R_{b_{i},a} : 4\\right\\}\\right]$"
      ],
      "text/plain": [
       "[{R_{a_{i},b}: 0, R_{b_{i},a}: 2}, {R_{a_{i},b}: 1, R_{b_{i},a}: 3}, {R_{a_{i} ↪\n",
       "\n",
       "↪ ,b}: 2, R_{b_{i},a}: 4}]"
      ]
     },
     "metadata": {},
     "output_type": "display_data"
    },
    {
     "data": {
      "image/png": "[encoded data removed]",
      "text/latex": [
       "$\\displaystyle \\left[ \\left\\{ R_{a_{j},b} : 0, \\  R_{b_{j},a} : 1\\right\\}, \\  \\left\\{ R_{a_{j},b} : 1, \\  R_{b_{j},a} : 2\\right\\}, \\  \\left\\{ R_{a_{j},b} : 2, \\  R_{b_{j},a} : 3\\right\\}\\right]$"
      ],
      "text/plain": [
       "[{R_{a_{j},b}: 0, R_{b_{j},a}: 1}, {R_{a_{j},b}: 1, R_{b_{j},a}: 2}, {R_{a_{j} ↪\n",
       "\n",
       "↪ ,b}: 2, R_{b_{j},a}: 3}]"
      ]
     },
     "metadata": {},
     "output_type": "display_data"
    },
    {
     "name": "stdout",
     "output_type": "stream",
     "text": [
      "61\n"
     ]
    },
    {
     "data": {
      "image/png": "[encoded data removed]",
      "text/latex": [
       "$\\displaystyle \\left\\{ R_{a_{i},a_{j},b} : 1, \\  R_{a_{i},b_{j},a} : 0, \\  R_{a_{i},b_{j},b} : 0, \\  R_{a_{i},b} : 0, \\  R_{a_{j},b} : 0, \\  R_{b_{i},a_{j},a} : 1, \\  R_{b_{i},a_{j},b} : 1, \\  R_{b_{i},a} : 2, \\  R_{b_{i},b_{j},a} : 0, \\  R_{b_{j},a} : 1\\right\\}$"
      ],
      "text/plain": [
       "{R_{a_{i},a_{j},b}: 1, R_{a_{i},b_{j},a}: 0, R_{a_{i},b_{j},b}: 0, R_{a_{i},b} ↪\n",
       "\n",
       "↪ : 0, R_{a_{j},b}: 0, R_{b_{i},a_{j},a}: 1, R_{b_{i},a_{j},b}: 1, R_{b_{i},a} ↪\n",
       "\n",
       "↪ : 2, R_{b_{i},b_{j},a}: 0, R_{b_{j},a}: 1}"
      ]
     },
     "metadata": {},
     "output_type": "display_data"
    },
    {
     "data": {
      "image/png": "[encoded data removed]",
      "text/latex": [
       "$\\displaystyle \\left\\{ R_{a_{i},a_{j},b} : 0, \\  R_{a_{i},b_{j},a} : 0, \\  R_{a_{i},b_{j},b} : 1, \\  R_{a_{i},b} : 2, \\  R_{a_{j},b} : 1, \\  R_{b_{i},a_{j},a} : 2, \\  R_{b_{i},a_{j},b} : 1, \\  R_{b_{i},a} : 4, \\  R_{b_{i},b_{j},a} : 1, \\  R_{b_{j},a} : 2\\right\\}$"
      ],
      "text/plain": [
       "{R_{a_{i},a_{j},b}: 0, R_{a_{i},b_{j},a}: 0, R_{a_{i},b_{j},b}: 1, R_{a_{i},b} ↪\n",
       "\n",
       "↪ : 2, R_{a_{j},b}: 1, R_{b_{i},a_{j},a}: 2, R_{b_{i},a_{j},b}: 1, R_{b_{i},a} ↪\n",
       "\n",
       "↪ : 4, R_{b_{i},b_{j},a}: 1, R_{b_{j},a}: 2}"
      ]
     },
     "metadata": {},
     "output_type": "display_data"
    }
   ],
   "source": [
    "# But other answer-key simplex points are consistent with the observed test results. \n",
    "mVarieties =ntqr.evaluations.MAxiomsVarieties(labels,classifiers,synthetic_responses,(Q-2,2),2)\n",
    "display(list(mVarieties.variety(('i',))))\n",
    "display(list(mVarieties.variety(('j',))))\n",
    "m2_points = list(mVarieties.variety(('i','j',)))\n",
    "print(len(m2_points))\n",
    "if len(m2_points) > 0:\n",
    "    display(m2_points[0])\n",
    "    display(random.choice(m2_points))"
   ]
  },
  {
   "cell_type": "code",
   "execution_count": null,
   "id": "cc1f753e-ed7d-42b9-8f72-312948661467",
   "metadata": {},
   "outputs": [],
   "source": []
  }
 ],
 "metadata": {
  "kernelspec": {
   "display_name": "Python 3 (ipykernel)",
   "language": "python",
   "name": "python3"
  },
  "language_info": {
   "codemirror_mode": {
    "name": "ipython",
    "version": 3
   },
   "file_extension": ".py",
   "mimetype": "text/x-python",
   "name": "python",
   "nbconvert_exporter": "python",
   "pygments_lexer": "ipython3",
   "version": "3.11.8"
  },
  "widgets": {
   "application/vnd.jupyter.widget-state+json": {
    "state": {},
    "version_major": 2,
    "version_minor": 0
   }
  }
 },
 "nbformat": 4,
 "nbformat_minor": 5
}
