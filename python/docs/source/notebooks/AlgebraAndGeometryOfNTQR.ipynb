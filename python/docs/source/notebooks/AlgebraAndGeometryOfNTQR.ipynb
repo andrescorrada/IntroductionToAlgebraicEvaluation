{
 "cells": [
  {
   "cell_type": "markdown",
   "id": "3b4c1504-9e29-4d25-a69f-d5f7d00f8a44",
   "metadata": {},
   "source": [
    "# The Algebra and Geometry of the Axioms of Unsupervised Evaluation"
   ]
  },
  {
   "cell_type": "markdown",
   "id": "7620ac8e-ddbc-4582-9509-2325f6da7579",
   "metadata": {},
   "source": [
    "## Introduction\n",
    "\n",
    "This notebook explains the algebra and geometry of the axioms of unsupervised evaluation for N test-takers that answer Q questions that have R choices. This is done using the terminology of Algebraic Geometry. Every subset of the N test-takers of size M is associated with a polynomial ideal represented by a set of R equations, one for each response label. This is the algebraic side of the logic of unsupervised evaluation. These ideals define a set of evaluation points - called **varieties** - that are logically consistent with how the M-sized subset responded to the test. These evaluation points exist in simplexes of the possible integer values for response tuples by true label. This is the geometric side of the logic of unsupervised evaluation.\n",
    "\n",
    "Starting in version 0.5, ntqr, now supports constructing the $M=1$ axiom ideals for any number of labels, $R.$ Consequently, logical alarms for tests with any number of $R$ responses are now supported."
   ]
  },
  {
   "cell_type": "code",
   "execution_count": 1,
   "id": "433ad08d-ec8f-4584-a83b-0d9bb5a68842",
   "metadata": {},
   "outputs": [
    {
     "name": "stdout",
     "output_type": "stream",
     "text": [
      "IPython console for SymPy 1.12 (Python 3.11.8-64-bit) (ground types: gmpy)\n",
      "\n",
      "These commands were executed:\n",
      ">>> from sympy import *\n",
      ">>> x, y, z, t = symbols('x y z t')\n",
      ">>> k, m, n = symbols('k m n', integer=True)\n",
      ">>> f, g, h = symbols('f g h', cls=Function)\n",
      ">>> init_printing()\n",
      "\n",
      "Documentation can be found at https://docs.sympy.org/1.12/\n",
      "\n"
     ]
    }
   ],
   "source": [
    "import sympy\n",
    "from IPython.display import Math\n",
    "import ntqr\n",
    "import ntqr.raxioms\n",
    "sympy.init_session()"
   ]
  },
  {
   "cell_type": "code",
   "execution_count": 20,
   "id": "287a85e7-93ba-4693-9d86-d63a57c866e0",
   "metadata": {},
   "outputs": [
    {
     "data": {
      "image/png": "[encoded data removed]",
      "text/latex": [
       "$\\displaystyle \\left[\\begin{matrix}- Q_{a} - R_{a_{1},b} - R_{a_{1},c} + R_{a_{1}} + R_{b_{1},a} + R_{c_{1},a} & - Q_{b} + R_{a_{1},b} - R_{b_{1},a} - R_{b_{1},c} + R_{b_{1}} + R_{c_{1},b} & - Q_{c} + R_{a_{1},c} + R_{b_{1},c} - R_{c_{1},a} - R_{c_{1},b} + R_{c_{1}}\\\\- Q_{a} - R_{a_{2},b} - R_{a_{2},c} + R_{a_{2}} + R_{b_{2},a} + R_{c_{2},a} & - Q_{b} + R_{a_{2},b} - R_{b_{2},a} - R_{b_{2},c} + R_{b_{2}} + R_{c_{2},b} & - Q_{c} + R_{a_{2},c} + R_{b_{2},c} - R_{c_{2},a} - R_{c_{2},b} + R_{c_{2}}\\\\- Q_{a} - R_{a_{3},b} - R_{a_{3},c} + R_{a_{3}} + R_{b_{3},a} + R_{c_{3},a} & - Q_{b} + R_{a_{3},b} - R_{b_{3},a} - R_{b_{3},c} + R_{b_{3}} + R_{c_{3},b} & - Q_{c} + R_{a_{3},c} + R_{b_{3},c} - R_{c_{3},a} - R_{c_{3},b} + R_{c_{3}}\\\\- Q_{a} - R_{a_{4},b} - R_{a_{4},c} + R_{a_{4}} + R_{b_{4},a} + R_{c_{4},a} & - Q_{b} + R_{a_{4},b} - R_{b_{4},a} - R_{b_{4},c} + R_{b_{4}} + R_{c_{4},b} & - Q_{c} + R_{a_{4},c} + R_{b_{4},c} - R_{c_{4},a} - R_{c_{4},b} + R_{c_{4}}\\end{matrix}\\right]$"
      ],
      "text/plain": [
       "⎡-Qₐ - R_{a_{1},b} - R_{a_{1},c} + R_{a_{1}} + R_{b_{1},a} + R_{c_{1},a\n",
       "⎢                                                                      \n",
       "⎢-Qₐ - R_{a_{2},b} - R_{a_{2},c} + R_{a_{2}} + R_{b_{2},a} + R_{c_{2},a\n",
       "⎢                                                                      \n",
       "⎢-Qₐ - R_{a_{3},b} - R_{a_{3},c} + R_{a_{3}} + R_{b_{3},a} + R_{c_{3},a\n",
       "⎢                                                                      \n",
       "⎣-Qₐ - R_{a_{4},b} - R_{a_{4},c} + R_{a_{4}} + R_{b_{4},a} + R_{c_{4},a\n",
       "\n",
       "}  -Q_b + R_{a_{1},b} - R_{b_{1},a} - R_{b_{1},c} + R_{b_{1}} + R_{c_{1\n",
       "                                                                       \n",
       "}  -Q_b + R_{a_{2},b} - R_{b_{2},a} - R_{b_{2},c} + R_{b_{2}} + R_{c_{2\n",
       "                                                                       \n",
       "}  -Q_b + R_{a_{3},b} - R_{b_{3},a} - R_{b_{3},c} + R_{b_{3}} + R_{c_{3\n",
       "                                                                       \n",
       "}  -Q_b + R_{a_{4},b} - R_{b_{4},a} - R_{b_{4},c} + R_{b_{4}} + R_{c_{4\n",
       "\n",
       "},b}  -Q_c + R_{a_{1},c} + R_{b_{1},c} - R_{c_{1},a} - R_{c_{1},b} + R_\n",
       "                                                                       \n",
       "},b}  -Q_c + R_{a_{2},c} + R_{b_{2},c} - R_{c_{2},a} - R_{c_{2},b} + R_\n",
       "                                                                       \n",
       "},b}  -Q_c + R_{a_{3},c} + R_{b_{3},c} - R_{c_{3},a} - R_{c_{3},b} + R_\n",
       "                                                                       \n",
       "},b}  -Q_c + R_{a_{4},c} + R_{b_{4},c} - R_{c_{4},a} - R_{c_{4},b} + R_\n",
       "\n",
       "{c_{1}}⎤\n",
       "       ⎥\n",
       "{c_{2}}⎥\n",
       "       ⎥\n",
       "{c_{3}}⎥\n",
       "       ⎥\n",
       "{c_{4}}⎦"
      ]
     },
     "execution_count": 20,
     "metadata": {},
     "output_type": "execute_result"
    }
   ],
   "source": [
    "N=4\n",
    "labels = ('a','b','c',)\n",
    "m1axioms = ntqr.raxioms.MAxiomIdeals(labels,range(1,N+1))\n",
    "Matrix(\n",
    "   [\n",
    "       [ m1axioms.m_complex[(classifier,)]['axioms'][label]\n",
    "            for label in labels]\n",
    "    for classifier in range(1,N+1)]\n",
    ")"
   ]
  },
  {
   "cell_type": "code",
   "execution_count": null,
   "id": "7b77fe1d-079e-42ab-b0fe-c14d50820bb5",
   "metadata": {},
   "outputs": [],
   "source": []
  }
 ],
 "metadata": {
  "kernelspec": {
   "display_name": "Python 3 (ipykernel)",
   "language": "python",
   "name": "python3"
  },
  "language_info": {
   "codemirror_mode": {
    "name": "ipython",
    "version": 3
   },
   "file_extension": ".py",
   "mimetype": "text/x-python",
   "name": "python",
   "nbconvert_exporter": "python",
   "pygments_lexer": "ipython3",
   "version": "3.11.8"
  },
  "widgets": {
   "application/vnd.jupyter.widget-state+json": {
    "state": {},
    "version_major": 2,
    "version_minor": 0
   }
  }
 },
 "nbformat": 4,
 "nbformat_minor": 5
}
