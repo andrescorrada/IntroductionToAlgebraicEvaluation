{
 "cells": [
  {
   "cell_type": "markdown",
   "id": "3b4c1504-9e29-4d25-a69f-d5f7d00f8a44",
   "metadata": {},
   "source": [
    "# The Algebra and Geometry of the Axioms of Unsupervised Evaluation"
   ]
  },
  {
   "cell_type": "code",
   "execution_count": 1,
   "id": "433ad08d-ec8f-4584-a83b-0d9bb5a68842",
   "metadata": {},
   "outputs": [
    {
     "name": "stdout",
     "output_type": "stream",
     "text": [
      "IPython console for SymPy 1.12 (Python 3.11.8-64-bit) (ground types: gmpy)\n",
      "\n",
      "These commands were executed:\n",
      ">>> from sympy import *\n",
      ">>> x, y, z, t = symbols('x y z t')\n",
      ">>> k, m, n = symbols('k m n', integer=True)\n",
      ">>> f, g, h = symbols('f g h', cls=Function)\n",
      ">>> init_printing()\n",
      "\n",
      "Documentation can be found at https://docs.sympy.org/1.12/\n",
      "\n"
     ]
    }
   ],
   "source": [
    "import itertools\n",
    "import sympy\n",
    "from IPython.display import display,Math\n",
    "import ntqr\n",
    "import ntqr.raxioms\n",
    "sympy.init_session()"
   ]
  },
  {
   "cell_type": "markdown",
   "id": "7620ac8e-ddbc-4582-9509-2325f6da7579",
   "metadata": {},
   "source": [
    "## Introduction\n",
    "\n",
    "This notebook explains the algebra and geometry of the axioms of unsupervised evaluation for N test-takers that answer Q questions that have R choices. This is done using the terminology of Algebraic Geometry. Every subset of the N test-takers of size M is associated with a polynomial ideal represented by a set of R equations, one for each response label. This is the algebraic side of the logic of unsupervised evaluation. These ideals define a set of evaluation points - called **varieties** - that are logically consistent with how the M-sized subset responded to the test. These evaluation points exist in simplexes of the possible integer values for response tuples by true label. This is the geometric side of the logic of unsupervised evaluation.\n",
    "\n",
    "Explaining the geometry is combinatorially hard but can be understood by focusing on a single \"point\" in the space. The first portion of\n",
    "that space describes the unknown statistics of the test -- mainly how many times do each of the labels appear on the test.\n",
    "\n",
    "## The answer key Q-simplex\n",
    "\n",
    "Any given test exists as a single point in the Q-simplex: all tuples of the form {math}`(Q_{\\ell_1}, Q_{\\ell_2}, \\ldots, Q_{\\ell_R}).`\n",
    "The tuples lie on a simplex in an {math}`R`-dimensional space because they must satisfy the equation,\n",
    "```{math}\n",
    ":label: q-simplex\n",
    "\\sum_{\\ell \\in \\mathcal{L}} Q_\\ell = Q.\n",
    "```\n",
    "Denoting the space of the integers from 0 to {math}`Q` by {math}`\\mathbb{Q}_Q,` the Q-simplex lies inside the hypercube of integers denoted by {math}`\\mathbb{Q}_Q^R.`\n",
    "\n",
    "All statements about logical consistency between test-taker evaluation occur at a single point in the Q-simplex. It makes no sense to compare evaluations at different values of the Q-simplex since any given test can only occupy one point in the Q-simplex. Consequently,\n",
    "the logic works in a ladder-like manner. Once we pick a value for the Q-tuple, we can find all single classifier evaluations consistent with individual response statistics. These are the {math}`M=1` evaluation axioms. This is the next step in the ladder of constructing the evaluation space for {math}`N` test-takers.\n",
    "\n",
    "## The M=1 R-simplexes\n",
    "\n",
    "Given a value of the Q tuple, {math}`(Q_{\\ell_1}, Q_{\\ell_2}, \\ldots, Q_{\\ell_R}),` we can ask what evaluations for a single test-taker  {math}`i` are consistent with the observed label responses the test taker. These are denoted by the response variables,\n",
    "```{math}\n",
    "\\{ R_{\\ell_i} \\}_{\\ell_i \\in \\mathcal{L}}\n",
    "```\n",
    "What we seek are the values of the responses by true label that are consistent with these label responses by the test taker. These are the M-subset label responses variables. In the case of ({math}`M=1`) these are of the form,\n",
    "```{math}\n",
    "\\{ R_{\\ell_i,\\ell_\\text{true}} \\}_{\\ell_i \\in \\mathcal{L}},\n",
    "```\n",
    "for each of the R labels. These must also live on a simplex since for any {math}`\\ell_{\\text{true}}` we must have the identity,\n",
    "```{math}\n",
    ":label: m-1-simplex\n",
    "\\sum_{\\ell_i \\in \\mathcal{L}}  R_{\\ell_i,\\ell_\\text{true}} = R_{\\ell_\\text{true}}.\n",
    "```\n",
    "The M=1 simplex for a single test taker is thus in a produc of spaces, one for each label,\n",
    "```{math}\n",
    "(\\mathbb{R}_{Q_{\\ell_1}}^1) \\otimes (\\mathbb{R}_{Q_{\\ell_2}}^1) \\otimes \\ldots (\\mathbb{R}_{Q_{\\ell_R}}^1).\n",
    "```\n",
    "\n",
    "## The M=2 R-simplexes\n",
    "\n",
    "The M=2 R-simplexes exist for all pairs of N test-takers. These are now using the evidence in how a pair responded jointly to test questions. These are the response variables of the form {math}`R_{\\ell_i, \\ell_j}`. And the unknown label response statistics we seek are of the form,\n",
    "```{math}\n",
    "\\{ R_{\\ell_i, \\ell_j, \\ell_\\text{true}} \\}_{\\ell_i, \\ell_j \\in \\mathcal{L}},\n",
    "```\n",
    "These also lie on a simplex in a space that can be represented as,\n",
    "```{math}\n",
    "(\\mathbb{R}_{Q_{\\ell_1}}^2) \\otimes (\\mathbb{R}_{Q_{\\ell_2}}^2) \\otimes \\ldots (\\mathbb{R}_{Q_{\\ell_R}}^2).\n",
    "```\n",
    "## The general M=m R-simplexes\n",
    "\n",
    "In general, for every M-sized subset of N test-takers, we require a response space of the form,\n",
    "```{math}\n",
    "(\\mathbb{R}_{Q_{\\ell_1}}^M) \\otimes (\\mathbb{R}_{Q_{\\ell_2}}^M) \\otimes \\ldots (\\mathbb{R}_{Q_{\\ell_R}}^M).\n",
    "```\n",
    "## The role of the axioms in defining the variety of logically consistent group evaluations\n",
    "\n",
    "All the M R-simplexes define the set of all possible evaluations for N test takers given its size Q. But once we observe test responses, the set of evaluations logically consistent with those responses is much smaller than the R-simplexes. This is accomplished by filtering out all M-subset evaluations that do not satisfy the evaluation axioms up to M.\n",
    "\n",
    "Restricting ourselves to the space of single test-taker label responses, a space of dimension {math}`R*N,` the M=1 axioms define the largest variety possible in this space. The M=2 axioms, being additional algebraic constraints, are thus a subset of this variety. This follows from the well-known idea in Algebraic Geometry that the variety of a large polynomial ideal is equal or smaller than the variety associated with a subset of that ideal.\n",
    "\n",
    "## Examples of the M=1 axioms\n",
    "\n",
    "Starting in NTQR v0.5, M=1 axioms for any number of labels, R, are supported. The axioms are of the form,\n",
    "```{math}\n",
    "Q_{\\ell_{\\text{true}}} \n",
    "- R_{(\\ell_{\\text{true}})_i} \n",
    "- \\sum_{\\ell_e \\in \\text{errors}(\\ell_{\\text{true}})} R_{(\\ell_e)_i, \\ell_{\\text{true}}}\n",
    "+ \\sum_{\\ell_e \\neq \\ell_{\\text{true}}} R_{(\\ell_{\\text{true}})_i, \\ell_e}\n",
    "```\n",
    "for every {math}`\\ell_{\\text{true}} \\in (\\ell_1, \\ell_2, \\ldots, \\ell_r)` and {math}`i \\in (c_1, c_2, \\ldots, c_N)`."
   ]
  },
  {
   "cell_type": "code",
   "execution_count": 2,
   "id": "287a85e7-93ba-4693-9d86-d63a57c866e0",
   "metadata": {},
   "outputs": [
    {
     "data": {
      "text/latex": [
       "$\\displaystyle Q_{a} + R_{a_{i},b} + R_{a_{i},c} - R_{a_{i}} - R_{b_{i},a} - R_{c_{i},a}$"
      ],
      "text/plain": [
       "<IPython.core.display.Math object>"
      ]
     },
     "metadata": {},
     "output_type": "display_data"
    },
    {
     "data": {
      "text/latex": [
       "$\\displaystyle Q_{b} - R_{a_{i},b} + R_{b_{i},a} + R_{b_{i},c} - R_{b_{i}} - R_{c_{i},b}$"
      ],
      "text/plain": [
       "<IPython.core.display.Math object>"
      ]
     },
     "metadata": {},
     "output_type": "display_data"
    },
    {
     "data": {
      "text/latex": [
       "$\\displaystyle Q_{c} - R_{a_{i},c} - R_{b_{i},c} + R_{c_{i},a} + R_{c_{i},b} - R_{c_{i}}$"
      ],
      "text/plain": [
       "<IPython.core.display.Math object>"
      ]
     },
     "metadata": {},
     "output_type": "display_data"
    },
    {
     "name": "stdout",
     "output_type": "stream",
     "text": [
      "\n"
     ]
    },
    {
     "data": {
      "text/latex": [
       "$\\displaystyle Q_{a} + R_{a_{j},b} + R_{a_{j},c} - R_{a_{j}} - R_{b_{j},a} - R_{c_{j},a}$"
      ],
      "text/plain": [
       "<IPython.core.display.Math object>"
      ]
     },
     "metadata": {},
     "output_type": "display_data"
    },
    {
     "data": {
      "text/latex": [
       "$\\displaystyle Q_{b} - R_{a_{j},b} + R_{b_{j},a} + R_{b_{j},c} - R_{b_{j}} - R_{c_{j},b}$"
      ],
      "text/plain": [
       "<IPython.core.display.Math object>"
      ]
     },
     "metadata": {},
     "output_type": "display_data"
    },
    {
     "data": {
      "text/latex": [
       "$\\displaystyle Q_{c} - R_{a_{j},c} - R_{b_{j},c} + R_{c_{j},a} + R_{c_{j},b} - R_{c_{j}}$"
      ],
      "text/plain": [
       "<IPython.core.display.Math object>"
      ]
     },
     "metadata": {},
     "output_type": "display_data"
    },
    {
     "name": "stdout",
     "output_type": "stream",
     "text": [
      "\n"
     ]
    },
    {
     "data": {
      "text/latex": [
       "$\\displaystyle Q_{a} + R_{a_{k},b} + R_{a_{k},c} - R_{a_{k}} - R_{b_{k},a} - R_{c_{k},a}$"
      ],
      "text/plain": [
       "<IPython.core.display.Math object>"
      ]
     },
     "metadata": {},
     "output_type": "display_data"
    },
    {
     "data": {
      "text/latex": [
       "$\\displaystyle Q_{b} - R_{a_{k},b} + R_{b_{k},a} + R_{b_{k},c} - R_{b_{k}} - R_{c_{k},b}$"
      ],
      "text/plain": [
       "<IPython.core.display.Math object>"
      ]
     },
     "metadata": {},
     "output_type": "display_data"
    },
    {
     "data": {
      "text/latex": [
       "$\\displaystyle Q_{c} - R_{a_{k},c} - R_{b_{k},c} + R_{c_{k},a} + R_{c_{k},b} - R_{c_{k}}$"
      ],
      "text/plain": [
       "<IPython.core.display.Math object>"
      ]
     },
     "metadata": {},
     "output_type": "display_data"
    },
    {
     "name": "stdout",
     "output_type": "stream",
     "text": [
      "\n"
     ]
    },
    {
     "data": {
      "text/latex": [
       "$\\displaystyle Q_{a} + R_{a_{l},b} + R_{a_{l},c} - R_{a_{l}} - R_{b_{l},a} - R_{c_{l},a}$"
      ],
      "text/plain": [
       "<IPython.core.display.Math object>"
      ]
     },
     "metadata": {},
     "output_type": "display_data"
    },
    {
     "data": {
      "text/latex": [
       "$\\displaystyle Q_{b} - R_{a_{l},b} + R_{b_{l},a} + R_{b_{l},c} - R_{b_{l}} - R_{c_{l},b}$"
      ],
      "text/plain": [
       "<IPython.core.display.Math object>"
      ]
     },
     "metadata": {},
     "output_type": "display_data"
    },
    {
     "data": {
      "text/latex": [
       "$\\displaystyle Q_{c} - R_{a_{l},c} - R_{b_{l},c} + R_{c_{l},a} + R_{c_{l},b} - R_{c_{l}}$"
      ],
      "text/plain": [
       "<IPython.core.display.Math object>"
      ]
     },
     "metadata": {},
     "output_type": "display_data"
    },
    {
     "name": "stdout",
     "output_type": "stream",
     "text": [
      "\n"
     ]
    }
   ],
   "source": [
    "N=4\n",
    "labels = ('a','b','c',)\n",
    "classifiers = ('i','j','k','l')\n",
    "m_ideals = ntqr.raxioms.MAxiomsIdeal(labels,classifiers,1)\n",
    "for classifier in itertools.combinations(classifiers,1):\n",
    "    for label in labels:\n",
    "        display(Math(latex(m_ideals.m_complex[classifier]['axioms'][label])))\n",
    "    print()"
   ]
  },
  {
   "cell_type": "markdown",
   "id": "fbe4a73d-0e53-4439-a151-8d52e0fe6c66",
   "metadata": {},
   "source": [
    "## Examples of the M=2 axioms\n",
    "\n",
    "Version 0.5 of NTQR also supports the axioms involving pair response variables for the classifiers.\n",
    "```{math}\n",
    "\\sum_{\\ell_e \\neq \\ell_{\\text{true}}} Q_{\\ell_e}\n",
    "&+ \\sum_{(\\ell_i, \\ell_j) \\in \\text{not_all_correct}(\\ell_{\\text{true}})} R_{\\ell_i, \\ell_j, \\ell_{\\text{true}}}\n",
    "- \\sum_{e_i \\neq e_j, e_i \\neq \\ell_{\\text{true}}, e_j \\neq \\ell_{\\text{true}}} R_{e_i, e_j, \\ell_{\\text{true}}}\\\\\n",
    "&- \\sum_{e \\neq \\ell_{\\text{true}}} \\sum_{c \\in (i,j)} R_{(e)_c} - \\sum_{e \\neq \\ell_{\\text{true}}} \\sum_{c \\in (i,j)} \\sum_{e' \\neq e} R_{(e')_c,e}\\\\\n",
    "&+ \\sum_{e \\neq \\ell_{\\text{true}}} R_{e_i,e_j} + \\sum_{e \\neq \\ell_{\\text{true}}} \\left(\\sum_{(e'_i, e'_j) \\in \\text{not_all_correct}(e)} R_{e'_i,e'_j,e} \\right)\n",
    "```\n",
    "for every {math}`\\ell_{\\text{true}} \\in (\\ell_1, \\ell_2, \\ldots, \\ell_r)` and {math}`i,j \\in (c_1, c_2, \\ldots, c_N)`."
   ]
  },
  {
   "cell_type": "code",
   "execution_count": 3,
   "id": "c32fadc2-91c0-480e-9db4-e98d72f954ca",
   "metadata": {},
   "outputs": [
    {
     "data": {
      "text/latex": [
       "$\\displaystyle Q_{b} + Q_{c} + R_{a_{i},a_{j},b} + R_{a_{i},a_{j},c} + 2 R_{a_{i},b_{j},a} + R_{a_{i},b_{j},b} + R_{a_{i},b_{j},c} - R_{a_{i},b} + 2 R_{a_{i},c_{j},a} + R_{a_{i},c_{j},b} + R_{a_{i},c_{j},c} - R_{a_{i},c} - R_{a_{j},b} - R_{a_{j},c} + 2 R_{b_{i},a_{j},a} + R_{b_{i},a_{j},b} + R_{b_{i},a_{j},c} + R_{b_{i},b_{j},a} + R_{b_{i},b_{j},c} + R_{b_{i},b_{j}} + 2 R_{b_{i},c_{j},a} + R_{b_{i},c_{j},b} + R_{b_{i},c_{j},c} - R_{b_{i},c} - R_{b_{i}} - R_{b_{j},c} - R_{b_{j}} + 2 R_{c_{i},a_{j},a} + R_{c_{i},a_{j},b} + R_{c_{i},a_{j},c} + 2 R_{c_{i},b_{j},a} + R_{c_{i},b_{j},b} + R_{c_{i},b_{j},c} - R_{c_{i},b} + R_{c_{i},c_{j},a} + R_{c_{i},c_{j},b} + R_{c_{i},c_{j}} - R_{c_{i}} - R_{c_{j},b} - R_{c_{j}}$"
      ],
      "text/plain": [
       "<IPython.core.display.Math object>"
      ]
     },
     "metadata": {},
     "output_type": "display_data"
    },
    {
     "data": {
      "text/latex": [
       "$\\displaystyle Q_{a} + Q_{c} + R_{a_{i},a_{j},b} + R_{a_{i},a_{j},c} + R_{a_{i},a_{j}} + R_{a_{i},b_{j},a} + 2 R_{a_{i},b_{j},b} + R_{a_{i},b_{j},c} + R_{a_{i},c_{j},a} + 2 R_{a_{i},c_{j},b} + R_{a_{i},c_{j},c} - R_{a_{i},c} - R_{a_{i}} - R_{a_{j},c} - R_{a_{j}} + R_{b_{i},a_{j},a} + 2 R_{b_{i},a_{j},b} + R_{b_{i},a_{j},c} - R_{b_{i},a} + R_{b_{i},b_{j},a} + R_{b_{i},b_{j},c} + R_{b_{i},c_{j},a} + 2 R_{b_{i},c_{j},b} + R_{b_{i},c_{j},c} - R_{b_{i},c} - R_{b_{j},a} - R_{b_{j},c} + R_{c_{i},a_{j},a} + 2 R_{c_{i},a_{j},b} + R_{c_{i},a_{j},c} - R_{c_{i},a} + R_{c_{i},b_{j},a} + 2 R_{c_{i},b_{j},b} + R_{c_{i},b_{j},c} + R_{c_{i},c_{j},a} + R_{c_{i},c_{j},b} + R_{c_{i},c_{j}} - R_{c_{i}} - R_{c_{j},a} - R_{c_{j}}$"
      ],
      "text/plain": [
       "<IPython.core.display.Math object>"
      ]
     },
     "metadata": {},
     "output_type": "display_data"
    },
    {
     "data": {
      "text/latex": [
       "$\\displaystyle Q_{a} + Q_{b} + R_{a_{i},a_{j},b} + R_{a_{i},a_{j},c} + R_{a_{i},a_{j}} + R_{a_{i},b_{j},a} + R_{a_{i},b_{j},b} + 2 R_{a_{i},b_{j},c} - R_{a_{i},b} + R_{a_{i},c_{j},a} + R_{a_{i},c_{j},b} + 2 R_{a_{i},c_{j},c} - R_{a_{i}} - R_{a_{j},b} - R_{a_{j}} + R_{b_{i},a_{j},a} + R_{b_{i},a_{j},b} + 2 R_{b_{i},a_{j},c} - R_{b_{i},a} + R_{b_{i},b_{j},a} + R_{b_{i},b_{j},c} + R_{b_{i},b_{j}} + R_{b_{i},c_{j},a} + R_{b_{i},c_{j},b} + 2 R_{b_{i},c_{j},c} - R_{b_{i}} - R_{b_{j},a} - R_{b_{j}} + R_{c_{i},a_{j},a} + R_{c_{i},a_{j},b} + 2 R_{c_{i},a_{j},c} - R_{c_{i},a} + R_{c_{i},b_{j},a} + R_{c_{i},b_{j},b} + 2 R_{c_{i},b_{j},c} - R_{c_{i},b} + R_{c_{i},c_{j},a} + R_{c_{i},c_{j},b} - R_{c_{j},a} - R_{c_{j},b}$"
      ],
      "text/plain": [
       "<IPython.core.display.Math object>"
      ]
     },
     "metadata": {},
     "output_type": "display_data"
    },
    {
     "name": "stdout",
     "output_type": "stream",
     "text": [
      "\n"
     ]
    },
    {
     "data": {
      "text/latex": [
       "$\\displaystyle Q_{b} + Q_{c} + R_{a_{i},a_{k},b} + R_{a_{i},a_{k},c} + 2 R_{a_{i},b_{k},a} + R_{a_{i},b_{k},b} + R_{a_{i},b_{k},c} - R_{a_{i},b} + 2 R_{a_{i},c_{k},a} + R_{a_{i},c_{k},b} + R_{a_{i},c_{k},c} - R_{a_{i},c} - R_{a_{k},b} - R_{a_{k},c} + 2 R_{b_{i},a_{k},a} + R_{b_{i},a_{k},b} + R_{b_{i},a_{k},c} + R_{b_{i},b_{k},a} + R_{b_{i},b_{k},c} + R_{b_{i},b_{k}} + 2 R_{b_{i},c_{k},a} + R_{b_{i},c_{k},b} + R_{b_{i},c_{k},c} - R_{b_{i},c} - R_{b_{i}} - R_{b_{k},c} - R_{b_{k}} + 2 R_{c_{i},a_{k},a} + R_{c_{i},a_{k},b} + R_{c_{i},a_{k},c} + 2 R_{c_{i},b_{k},a} + R_{c_{i},b_{k},b} + R_{c_{i},b_{k},c} - R_{c_{i},b} + R_{c_{i},c_{k},a} + R_{c_{i},c_{k},b} + R_{c_{i},c_{k}} - R_{c_{i}} - R_{c_{k},b} - R_{c_{k}}$"
      ],
      "text/plain": [
       "<IPython.core.display.Math object>"
      ]
     },
     "metadata": {},
     "output_type": "display_data"
    },
    {
     "data": {
      "text/latex": [
       "$\\displaystyle Q_{a} + Q_{c} + R_{a_{i},a_{k},b} + R_{a_{i},a_{k},c} + R_{a_{i},a_{k}} + R_{a_{i},b_{k},a} + 2 R_{a_{i},b_{k},b} + R_{a_{i},b_{k},c} + R_{a_{i},c_{k},a} + 2 R_{a_{i},c_{k},b} + R_{a_{i},c_{k},c} - R_{a_{i},c} - R_{a_{i}} - R_{a_{k},c} - R_{a_{k}} + R_{b_{i},a_{k},a} + 2 R_{b_{i},a_{k},b} + R_{b_{i},a_{k},c} - R_{b_{i},a} + R_{b_{i},b_{k},a} + R_{b_{i},b_{k},c} + R_{b_{i},c_{k},a} + 2 R_{b_{i},c_{k},b} + R_{b_{i},c_{k},c} - R_{b_{i},c} - R_{b_{k},a} - R_{b_{k},c} + R_{c_{i},a_{k},a} + 2 R_{c_{i},a_{k},b} + R_{c_{i},a_{k},c} - R_{c_{i},a} + R_{c_{i},b_{k},a} + 2 R_{c_{i},b_{k},b} + R_{c_{i},b_{k},c} + R_{c_{i},c_{k},a} + R_{c_{i},c_{k},b} + R_{c_{i},c_{k}} - R_{c_{i}} - R_{c_{k},a} - R_{c_{k}}$"
      ],
      "text/plain": [
       "<IPython.core.display.Math object>"
      ]
     },
     "metadata": {},
     "output_type": "display_data"
    },
    {
     "data": {
      "text/latex": [
       "$\\displaystyle Q_{a} + Q_{b} + R_{a_{i},a_{k},b} + R_{a_{i},a_{k},c} + R_{a_{i},a_{k}} + R_{a_{i},b_{k},a} + R_{a_{i},b_{k},b} + 2 R_{a_{i},b_{k},c} - R_{a_{i},b} + R_{a_{i},c_{k},a} + R_{a_{i},c_{k},b} + 2 R_{a_{i},c_{k},c} - R_{a_{i}} - R_{a_{k},b} - R_{a_{k}} + R_{b_{i},a_{k},a} + R_{b_{i},a_{k},b} + 2 R_{b_{i},a_{k},c} - R_{b_{i},a} + R_{b_{i},b_{k},a} + R_{b_{i},b_{k},c} + R_{b_{i},b_{k}} + R_{b_{i},c_{k},a} + R_{b_{i},c_{k},b} + 2 R_{b_{i},c_{k},c} - R_{b_{i}} - R_{b_{k},a} - R_{b_{k}} + R_{c_{i},a_{k},a} + R_{c_{i},a_{k},b} + 2 R_{c_{i},a_{k},c} - R_{c_{i},a} + R_{c_{i},b_{k},a} + R_{c_{i},b_{k},b} + 2 R_{c_{i},b_{k},c} - R_{c_{i},b} + R_{c_{i},c_{k},a} + R_{c_{i},c_{k},b} - R_{c_{k},a} - R_{c_{k},b}$"
      ],
      "text/plain": [
       "<IPython.core.display.Math object>"
      ]
     },
     "metadata": {},
     "output_type": "display_data"
    },
    {
     "name": "stdout",
     "output_type": "stream",
     "text": [
      "\n"
     ]
    },
    {
     "data": {
      "text/latex": [
       "$\\displaystyle Q_{b} + Q_{c} + R_{a_{i},a_{l},b} + R_{a_{i},a_{l},c} + 2 R_{a_{i},b_{l},a} + R_{a_{i},b_{l},b} + R_{a_{i},b_{l},c} - R_{a_{i},b} + 2 R_{a_{i},c_{l},a} + R_{a_{i},c_{l},b} + R_{a_{i},c_{l},c} - R_{a_{i},c} - R_{a_{l},b} - R_{a_{l},c} + 2 R_{b_{i},a_{l},a} + R_{b_{i},a_{l},b} + R_{b_{i},a_{l},c} + R_{b_{i},b_{l},a} + R_{b_{i},b_{l},c} + R_{b_{i},b_{l}} + 2 R_{b_{i},c_{l},a} + R_{b_{i},c_{l},b} + R_{b_{i},c_{l},c} - R_{b_{i},c} - R_{b_{i}} - R_{b_{l},c} - R_{b_{l}} + 2 R_{c_{i},a_{l},a} + R_{c_{i},a_{l},b} + R_{c_{i},a_{l},c} + 2 R_{c_{i},b_{l},a} + R_{c_{i},b_{l},b} + R_{c_{i},b_{l},c} - R_{c_{i},b} + R_{c_{i},c_{l},a} + R_{c_{i},c_{l},b} + R_{c_{i},c_{l}} - R_{c_{i}} - R_{c_{l},b} - R_{c_{l}}$"
      ],
      "text/plain": [
       "<IPython.core.display.Math object>"
      ]
     },
     "metadata": {},
     "output_type": "display_data"
    },
    {
     "data": {
      "text/latex": [
       "$\\displaystyle Q_{a} + Q_{c} + R_{a_{i},a_{l},b} + R_{a_{i},a_{l},c} + R_{a_{i},a_{l}} + R_{a_{i},b_{l},a} + 2 R_{a_{i},b_{l},b} + R_{a_{i},b_{l},c} + R_{a_{i},c_{l},a} + 2 R_{a_{i},c_{l},b} + R_{a_{i},c_{l},c} - R_{a_{i},c} - R_{a_{i}} - R_{a_{l},c} - R_{a_{l}} + R_{b_{i},a_{l},a} + 2 R_{b_{i},a_{l},b} + R_{b_{i},a_{l},c} - R_{b_{i},a} + R_{b_{i},b_{l},a} + R_{b_{i},b_{l},c} + R_{b_{i},c_{l},a} + 2 R_{b_{i},c_{l},b} + R_{b_{i},c_{l},c} - R_{b_{i},c} - R_{b_{l},a} - R_{b_{l},c} + R_{c_{i},a_{l},a} + 2 R_{c_{i},a_{l},b} + R_{c_{i},a_{l},c} - R_{c_{i},a} + R_{c_{i},b_{l},a} + 2 R_{c_{i},b_{l},b} + R_{c_{i},b_{l},c} + R_{c_{i},c_{l},a} + R_{c_{i},c_{l},b} + R_{c_{i},c_{l}} - R_{c_{i}} - R_{c_{l},a} - R_{c_{l}}$"
      ],
      "text/plain": [
       "<IPython.core.display.Math object>"
      ]
     },
     "metadata": {},
     "output_type": "display_data"
    },
    {
     "data": {
      "text/latex": [
       "$\\displaystyle Q_{a} + Q_{b} + R_{a_{i},a_{l},b} + R_{a_{i},a_{l},c} + R_{a_{i},a_{l}} + R_{a_{i},b_{l},a} + R_{a_{i},b_{l},b} + 2 R_{a_{i},b_{l},c} - R_{a_{i},b} + R_{a_{i},c_{l},a} + R_{a_{i},c_{l},b} + 2 R_{a_{i},c_{l},c} - R_{a_{i}} - R_{a_{l},b} - R_{a_{l}} + R_{b_{i},a_{l},a} + R_{b_{i},a_{l},b} + 2 R_{b_{i},a_{l},c} - R_{b_{i},a} + R_{b_{i},b_{l},a} + R_{b_{i},b_{l},c} + R_{b_{i},b_{l}} + R_{b_{i},c_{l},a} + R_{b_{i},c_{l},b} + 2 R_{b_{i},c_{l},c} - R_{b_{i}} - R_{b_{l},a} - R_{b_{l}} + R_{c_{i},a_{l},a} + R_{c_{i},a_{l},b} + 2 R_{c_{i},a_{l},c} - R_{c_{i},a} + R_{c_{i},b_{l},a} + R_{c_{i},b_{l},b} + 2 R_{c_{i},b_{l},c} - R_{c_{i},b} + R_{c_{i},c_{l},a} + R_{c_{i},c_{l},b} - R_{c_{l},a} - R_{c_{l},b}$"
      ],
      "text/plain": [
       "<IPython.core.display.Math object>"
      ]
     },
     "metadata": {},
     "output_type": "display_data"
    },
    {
     "name": "stdout",
     "output_type": "stream",
     "text": [
      "\n"
     ]
    },
    {
     "data": {
      "text/latex": [
       "$\\displaystyle Q_{b} + Q_{c} + R_{a_{j},a_{k},b} + R_{a_{j},a_{k},c} + 2 R_{a_{j},b_{k},a} + R_{a_{j},b_{k},b} + R_{a_{j},b_{k},c} - R_{a_{j},b} + 2 R_{a_{j},c_{k},a} + R_{a_{j},c_{k},b} + R_{a_{j},c_{k},c} - R_{a_{j},c} - R_{a_{k},b} - R_{a_{k},c} + 2 R_{b_{j},a_{k},a} + R_{b_{j},a_{k},b} + R_{b_{j},a_{k},c} + R_{b_{j},b_{k},a} + R_{b_{j},b_{k},c} + R_{b_{j},b_{k}} + 2 R_{b_{j},c_{k},a} + R_{b_{j},c_{k},b} + R_{b_{j},c_{k},c} - R_{b_{j},c} - R_{b_{j}} - R_{b_{k},c} - R_{b_{k}} + 2 R_{c_{j},a_{k},a} + R_{c_{j},a_{k},b} + R_{c_{j},a_{k},c} + 2 R_{c_{j},b_{k},a} + R_{c_{j},b_{k},b} + R_{c_{j},b_{k},c} - R_{c_{j},b} + R_{c_{j},c_{k},a} + R_{c_{j},c_{k},b} + R_{c_{j},c_{k}} - R_{c_{j}} - R_{c_{k},b} - R_{c_{k}}$"
      ],
      "text/plain": [
       "<IPython.core.display.Math object>"
      ]
     },
     "metadata": {},
     "output_type": "display_data"
    },
    {
     "data": {
      "text/latex": [
       "$\\displaystyle Q_{a} + Q_{c} + R_{a_{j},a_{k},b} + R_{a_{j},a_{k},c} + R_{a_{j},a_{k}} + R_{a_{j},b_{k},a} + 2 R_{a_{j},b_{k},b} + R_{a_{j},b_{k},c} + R_{a_{j},c_{k},a} + 2 R_{a_{j},c_{k},b} + R_{a_{j},c_{k},c} - R_{a_{j},c} - R_{a_{j}} - R_{a_{k},c} - R_{a_{k}} + R_{b_{j},a_{k},a} + 2 R_{b_{j},a_{k},b} + R_{b_{j},a_{k},c} - R_{b_{j},a} + R_{b_{j},b_{k},a} + R_{b_{j},b_{k},c} + R_{b_{j},c_{k},a} + 2 R_{b_{j},c_{k},b} + R_{b_{j},c_{k},c} - R_{b_{j},c} - R_{b_{k},a} - R_{b_{k},c} + R_{c_{j},a_{k},a} + 2 R_{c_{j},a_{k},b} + R_{c_{j},a_{k},c} - R_{c_{j},a} + R_{c_{j},b_{k},a} + 2 R_{c_{j},b_{k},b} + R_{c_{j},b_{k},c} + R_{c_{j},c_{k},a} + R_{c_{j},c_{k},b} + R_{c_{j},c_{k}} - R_{c_{j}} - R_{c_{k},a} - R_{c_{k}}$"
      ],
      "text/plain": [
       "<IPython.core.display.Math object>"
      ]
     },
     "metadata": {},
     "output_type": "display_data"
    },
    {
     "data": {
      "text/latex": [
       "$\\displaystyle Q_{a} + Q_{b} + R_{a_{j},a_{k},b} + R_{a_{j},a_{k},c} + R_{a_{j},a_{k}} + R_{a_{j},b_{k},a} + R_{a_{j},b_{k},b} + 2 R_{a_{j},b_{k},c} - R_{a_{j},b} + R_{a_{j},c_{k},a} + R_{a_{j},c_{k},b} + 2 R_{a_{j},c_{k},c} - R_{a_{j}} - R_{a_{k},b} - R_{a_{k}} + R_{b_{j},a_{k},a} + R_{b_{j},a_{k},b} + 2 R_{b_{j},a_{k},c} - R_{b_{j},a} + R_{b_{j},b_{k},a} + R_{b_{j},b_{k},c} + R_{b_{j},b_{k}} + R_{b_{j},c_{k},a} + R_{b_{j},c_{k},b} + 2 R_{b_{j},c_{k},c} - R_{b_{j}} - R_{b_{k},a} - R_{b_{k}} + R_{c_{j},a_{k},a} + R_{c_{j},a_{k},b} + 2 R_{c_{j},a_{k},c} - R_{c_{j},a} + R_{c_{j},b_{k},a} + R_{c_{j},b_{k},b} + 2 R_{c_{j},b_{k},c} - R_{c_{j},b} + R_{c_{j},c_{k},a} + R_{c_{j},c_{k},b} - R_{c_{k},a} - R_{c_{k},b}$"
      ],
      "text/plain": [
       "<IPython.core.display.Math object>"
      ]
     },
     "metadata": {},
     "output_type": "display_data"
    },
    {
     "name": "stdout",
     "output_type": "stream",
     "text": [
      "\n"
     ]
    },
    {
     "data": {
      "text/latex": [
       "$\\displaystyle Q_{b} + Q_{c} + R_{a_{j},a_{l},b} + R_{a_{j},a_{l},c} + 2 R_{a_{j},b_{l},a} + R_{a_{j},b_{l},b} + R_{a_{j},b_{l},c} - R_{a_{j},b} + 2 R_{a_{j},c_{l},a} + R_{a_{j},c_{l},b} + R_{a_{j},c_{l},c} - R_{a_{j},c} - R_{a_{l},b} - R_{a_{l},c} + 2 R_{b_{j},a_{l},a} + R_{b_{j},a_{l},b} + R_{b_{j},a_{l},c} + R_{b_{j},b_{l},a} + R_{b_{j},b_{l},c} + R_{b_{j},b_{l}} + 2 R_{b_{j},c_{l},a} + R_{b_{j},c_{l},b} + R_{b_{j},c_{l},c} - R_{b_{j},c} - R_{b_{j}} - R_{b_{l},c} - R_{b_{l}} + 2 R_{c_{j},a_{l},a} + R_{c_{j},a_{l},b} + R_{c_{j},a_{l},c} + 2 R_{c_{j},b_{l},a} + R_{c_{j},b_{l},b} + R_{c_{j},b_{l},c} - R_{c_{j},b} + R_{c_{j},c_{l},a} + R_{c_{j},c_{l},b} + R_{c_{j},c_{l}} - R_{c_{j}} - R_{c_{l},b} - R_{c_{l}}$"
      ],
      "text/plain": [
       "<IPython.core.display.Math object>"
      ]
     },
     "metadata": {},
     "output_type": "display_data"
    },
    {
     "data": {
      "text/latex": [
       "$\\displaystyle Q_{a} + Q_{c} + R_{a_{j},a_{l},b} + R_{a_{j},a_{l},c} + R_{a_{j},a_{l}} + R_{a_{j},b_{l},a} + 2 R_{a_{j},b_{l},b} + R_{a_{j},b_{l},c} + R_{a_{j},c_{l},a} + 2 R_{a_{j},c_{l},b} + R_{a_{j},c_{l},c} - R_{a_{j},c} - R_{a_{j}} - R_{a_{l},c} - R_{a_{l}} + R_{b_{j},a_{l},a} + 2 R_{b_{j},a_{l},b} + R_{b_{j},a_{l},c} - R_{b_{j},a} + R_{b_{j},b_{l},a} + R_{b_{j},b_{l},c} + R_{b_{j},c_{l},a} + 2 R_{b_{j},c_{l},b} + R_{b_{j},c_{l},c} - R_{b_{j},c} - R_{b_{l},a} - R_{b_{l},c} + R_{c_{j},a_{l},a} + 2 R_{c_{j},a_{l},b} + R_{c_{j},a_{l},c} - R_{c_{j},a} + R_{c_{j},b_{l},a} + 2 R_{c_{j},b_{l},b} + R_{c_{j},b_{l},c} + R_{c_{j},c_{l},a} + R_{c_{j},c_{l},b} + R_{c_{j},c_{l}} - R_{c_{j}} - R_{c_{l},a} - R_{c_{l}}$"
      ],
      "text/plain": [
       "<IPython.core.display.Math object>"
      ]
     },
     "metadata": {},
     "output_type": "display_data"
    },
    {
     "data": {
      "text/latex": [
       "$\\displaystyle Q_{a} + Q_{b} + R_{a_{j},a_{l},b} + R_{a_{j},a_{l},c} + R_{a_{j},a_{l}} + R_{a_{j},b_{l},a} + R_{a_{j},b_{l},b} + 2 R_{a_{j},b_{l},c} - R_{a_{j},b} + R_{a_{j},c_{l},a} + R_{a_{j},c_{l},b} + 2 R_{a_{j},c_{l},c} - R_{a_{j}} - R_{a_{l},b} - R_{a_{l}} + R_{b_{j},a_{l},a} + R_{b_{j},a_{l},b} + 2 R_{b_{j},a_{l},c} - R_{b_{j},a} + R_{b_{j},b_{l},a} + R_{b_{j},b_{l},c} + R_{b_{j},b_{l}} + R_{b_{j},c_{l},a} + R_{b_{j},c_{l},b} + 2 R_{b_{j},c_{l},c} - R_{b_{j}} - R_{b_{l},a} - R_{b_{l}} + R_{c_{j},a_{l},a} + R_{c_{j},a_{l},b} + 2 R_{c_{j},a_{l},c} - R_{c_{j},a} + R_{c_{j},b_{l},a} + R_{c_{j},b_{l},b} + 2 R_{c_{j},b_{l},c} - R_{c_{j},b} + R_{c_{j},c_{l},a} + R_{c_{j},c_{l},b} - R_{c_{l},a} - R_{c_{l},b}$"
      ],
      "text/plain": [
       "<IPython.core.display.Math object>"
      ]
     },
     "metadata": {},
     "output_type": "display_data"
    },
    {
     "name": "stdout",
     "output_type": "stream",
     "text": [
      "\n"
     ]
    },
    {
     "data": {
      "text/latex": [
       "$\\displaystyle Q_{b} + Q_{c} + R_{a_{k},a_{l},b} + R_{a_{k},a_{l},c} + 2 R_{a_{k},b_{l},a} + R_{a_{k},b_{l},b} + R_{a_{k},b_{l},c} - R_{a_{k},b} + 2 R_{a_{k},c_{l},a} + R_{a_{k},c_{l},b} + R_{a_{k},c_{l},c} - R_{a_{k},c} - R_{a_{l},b} - R_{a_{l},c} + 2 R_{b_{k},a_{l},a} + R_{b_{k},a_{l},b} + R_{b_{k},a_{l},c} + R_{b_{k},b_{l},a} + R_{b_{k},b_{l},c} + R_{b_{k},b_{l}} + 2 R_{b_{k},c_{l},a} + R_{b_{k},c_{l},b} + R_{b_{k},c_{l},c} - R_{b_{k},c} - R_{b_{k}} - R_{b_{l},c} - R_{b_{l}} + 2 R_{c_{k},a_{l},a} + R_{c_{k},a_{l},b} + R_{c_{k},a_{l},c} + 2 R_{c_{k},b_{l},a} + R_{c_{k},b_{l},b} + R_{c_{k},b_{l},c} - R_{c_{k},b} + R_{c_{k},c_{l},a} + R_{c_{k},c_{l},b} + R_{c_{k},c_{l}} - R_{c_{k}} - R_{c_{l},b} - R_{c_{l}}$"
      ],
      "text/plain": [
       "<IPython.core.display.Math object>"
      ]
     },
     "metadata": {},
     "output_type": "display_data"
    },
    {
     "data": {
      "text/latex": [
       "$\\displaystyle Q_{a} + Q_{c} + R_{a_{k},a_{l},b} + R_{a_{k},a_{l},c} + R_{a_{k},a_{l}} + R_{a_{k},b_{l},a} + 2 R_{a_{k},b_{l},b} + R_{a_{k},b_{l},c} + R_{a_{k},c_{l},a} + 2 R_{a_{k},c_{l},b} + R_{a_{k},c_{l},c} - R_{a_{k},c} - R_{a_{k}} - R_{a_{l},c} - R_{a_{l}} + R_{b_{k},a_{l},a} + 2 R_{b_{k},a_{l},b} + R_{b_{k},a_{l},c} - R_{b_{k},a} + R_{b_{k},b_{l},a} + R_{b_{k},b_{l},c} + R_{b_{k},c_{l},a} + 2 R_{b_{k},c_{l},b} + R_{b_{k},c_{l},c} - R_{b_{k},c} - R_{b_{l},a} - R_{b_{l},c} + R_{c_{k},a_{l},a} + 2 R_{c_{k},a_{l},b} + R_{c_{k},a_{l},c} - R_{c_{k},a} + R_{c_{k},b_{l},a} + 2 R_{c_{k},b_{l},b} + R_{c_{k},b_{l},c} + R_{c_{k},c_{l},a} + R_{c_{k},c_{l},b} + R_{c_{k},c_{l}} - R_{c_{k}} - R_{c_{l},a} - R_{c_{l}}$"
      ],
      "text/plain": [
       "<IPython.core.display.Math object>"
      ]
     },
     "metadata": {},
     "output_type": "display_data"
    },
    {
     "data": {
      "text/latex": [
       "$\\displaystyle Q_{a} + Q_{b} + R_{a_{k},a_{l},b} + R_{a_{k},a_{l},c} + R_{a_{k},a_{l}} + R_{a_{k},b_{l},a} + R_{a_{k},b_{l},b} + 2 R_{a_{k},b_{l},c} - R_{a_{k},b} + R_{a_{k},c_{l},a} + R_{a_{k},c_{l},b} + 2 R_{a_{k},c_{l},c} - R_{a_{k}} - R_{a_{l},b} - R_{a_{l}} + R_{b_{k},a_{l},a} + R_{b_{k},a_{l},b} + 2 R_{b_{k},a_{l},c} - R_{b_{k},a} + R_{b_{k},b_{l},a} + R_{b_{k},b_{l},c} + R_{b_{k},b_{l}} + R_{b_{k},c_{l},a} + R_{b_{k},c_{l},b} + 2 R_{b_{k},c_{l},c} - R_{b_{k}} - R_{b_{l},a} - R_{b_{l}} + R_{c_{k},a_{l},a} + R_{c_{k},a_{l},b} + 2 R_{c_{k},a_{l},c} - R_{c_{k},a} + R_{c_{k},b_{l},a} + R_{c_{k},b_{l},b} + 2 R_{c_{k},b_{l},c} - R_{c_{k},b} + R_{c_{k},c_{l},a} + R_{c_{k},c_{l},b} - R_{c_{l},a} - R_{c_{l},b}$"
      ],
      "text/plain": [
       "<IPython.core.display.Math object>"
      ]
     },
     "metadata": {},
     "output_type": "display_data"
    },
    {
     "name": "stdout",
     "output_type": "stream",
     "text": [
      "\n"
     ]
    }
   ],
   "source": [
    "N=4\n",
    "labels = ('a','b','c',)\n",
    "classifiers = ('i','j','k','l')\n",
    "m_ideals = ntqr.raxioms.MAxiomsIdeal(labels,classifiers,2)\n",
    "for pair in itertools.combinations(classifiers,2):\n",
    "    for label in labels:\n",
    "        display(Math(latex(m_ideals.m_complex[pair]['axioms'][label])))\n",
    "    print()"
   ]
  },
  {
   "cell_type": "code",
   "execution_count": null,
   "id": "7366aaa1-b368-4c3d-bbd7-3cf39e59bff2",
   "metadata": {},
   "outputs": [],
   "source": []
  }
 ],
 "metadata": {
  "kernelspec": {
   "display_name": "Python 3 (ipykernel)",
   "language": "python",
   "name": "python3"
  },
  "language_info": {
   "codemirror_mode": {
    "name": "ipython",
    "version": 3
   },
   "file_extension": ".py",
   "mimetype": "text/x-python",
   "name": "python",
   "nbconvert_exporter": "python",
   "pygments_lexer": "ipython3",
   "version": "3.11.8"
  },
  "widgets": {
   "application/vnd.jupyter.widget-state+json": {
    "state": {},
    "version_major": 2,
    "version_minor": 0
   }
  }
 },
 "nbformat": 4,
 "nbformat_minor": 5
}
