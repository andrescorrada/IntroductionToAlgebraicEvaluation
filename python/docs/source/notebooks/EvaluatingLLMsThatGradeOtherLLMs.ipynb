{
 "cells": [
  {
   "cell_type": "markdown",
   "id": "168ce35a-6e1e-4ae1-be74-a8d46c6088ad",
   "metadata": {},
   "source": [
    "# Evaluating LLMs that grade other LLMs"
   ]
  },
  {
   "cell_type": "markdown",
   "id": "8056546e-b4e2-415e-a43b-eec5a0af2091",
   "metadata": {},
   "source": []
  }
 ],
 "metadata": {
  "kernelspec": {
   "display_name": "Python 3 (ipykernel)",
   "language": "python",
   "name": "python3"
  },
  "language_info": {
   "codemirror_mode": {
    "name": "ipython",
    "version": 3
   },
   "file_extension": ".py",
   "mimetype": "text/x-python",
   "name": "python",
   "nbconvert_exporter": "python",
   "pygments_lexer": "ipython3",
   "version": "3.11.5"
  }
 },
 "nbformat": 4,
 "nbformat_minor": 5
}
