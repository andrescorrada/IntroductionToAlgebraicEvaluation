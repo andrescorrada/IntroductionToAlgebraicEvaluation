{
 "cells": [
  {
   "cell_type": "markdown",
   "id": "a9ccc343-0de7-430e-9c2c-9a77de944618",
   "metadata": {},
   "source": [
    "# Tutorial - evaluate three binary classifiers on a test from the UCI Adult dataset"
   ]
  },
  {
   "cell_type": "markdown",
   "id": "b83591f8-6965-4ff6-b7c3-b5525f99e8b7",
   "metadata": {},
   "source": [
    "This tutorial is going to walk through a single evaluation that was carried out on three binary classifiers trained and tested on the UCI Adult dataset. Two algebraic evaluators will be used. The first is the one you may be familiar with - using majority voting to impute the missing answer key to the unlabeled test. The second is hardly known to the ML/AI community - the exact, algebraic solution for error-independent ensembles and the basis of Data Engine's 2010 patent."
   ]
  },
  {
   "cell_type": "markdown",
   "id": "ad1d0884-32ac-4b82-a842-1691c0435df0",
   "metadata": {},
   "source": [
    "![table](../../../img/uciAdultEvalPrevalenceGauges.png)"
   ]
  },
  {
   "cell_type": "markdown",
   "id": "71c51489-8ba9-49e5-b58e-6daa2b3bf6fa",
   "metadata": {},
   "source": [
    "The gauges above show that, for this particular test, the error-independent algebraic evaluator (AE) gets better estimates than the one obtained using majority voting (assuming the crowd is always right)."
   ]
  },
  {
   "cell_type": "markdown",
   "id": "18ac0e01-b02b-421e-9b3f-0bc65dc14c65",
   "metadata": {},
   "source": [
    "When you look at the estimated label accuracies for the three members of the ensemble in this test, the advantages of algebraic evaluation over majority voting become apparent."
   ]
  },
  {
   "cell_type": "markdown",
   "id": "70a3ef2c-1eca-4bfe-87ad-7a585be063bd",
   "metadata": {},
   "source": [
    "![table](../../../img/uciAdultEvalPiaGauges.png)"
   ]
  },
  {
   "cell_type": "markdown",
   "id": "db5daab2-f7d5-4262-8abc-60c2fb1263d6",
   "metadata": {},
   "source": [
    "The majority voting evaluation is terrible. It incorrectly asserts that all three classifiers are worse than average on the \"a\" label, whereas, in reality, the problematic classifier here is the second one.\n",
    "\n",
    "This problematic evaluation by majority voting can be traced back to the assumption that underlies using the crowd to impute the missing answer key to any test - the crowd is always right. This not true in general - the classifiers could all be better than random guessers and they would **still** make wrong decisions as a group."
   ]
  },
  {
   "cell_type": "markdown",
   "id": "732744df-d76c-4cff-9f48-adc305ea1ccf",
   "metadata": {},
   "source": [
    "## Walking through estimating the label prevalences in the test"
   ]
  },
  {
   "cell_type": "code",
   "execution_count": 1,
   "id": "cf1de6dd-fffc-49a4-8283-9810484cacda",
   "metadata": {},
   "outputs": [],
   "source": [
    "from pprint import pprint, pp\n",
    "import ntqr"
   ]
  },
  {
   "cell_type": "markdown",
   "id": "43d329c7-1b5b-47c5-b143-b9b02cb2a7c8",
   "metadata": {},
   "source": [
    "There is a data sketch of a test using the UCI Adult dataset that contains the by-label voting counts of three binary classifiers."
   ]
  },
  {
   "cell_type": "code",
   "execution_count": 2,
   "id": "4222eebc-c683-41aa-a73c-a27d4db166b4",
   "metadata": {},
   "outputs": [],
   "source": [
    "labeled_counts = ntqr.uciadult_label_counts"
   ]
  },
  {
   "cell_type": "code",
   "execution_count": 3,
   "id": "41cfb173-2a82-4f20-b969-13bcbb32c0cb",
   "metadata": {},
   "outputs": [
    {
     "name": "stdout",
     "output_type": "stream",
     "text": [
      "{'a': {('a', 'a', 'a'): 715,\n",
      "       ('a', 'a', 'b'): 161,\n",
      "       ('a', 'b', 'a'): 2406,\n",
      "       ('a', 'b', 'b'): 455,\n",
      "       ('b', 'a', 'a'): 290,\n",
      "       ('b', 'a', 'b'): 94,\n",
      "       ('b', 'b', 'a'): 1335,\n",
      "       ('b', 'b', 'b'): 231},\n",
      " 'b': {('a', 'a', 'a'): 271,\n",
      "       ('a', 'a', 'b'): 469,\n",
      "       ('a', 'b', 'a'): 3395,\n",
      "       ('a', 'b', 'b'): 7517,\n",
      "       ('b', 'a', 'a'): 272,\n",
      "       ('b', 'a', 'b'): 399,\n",
      "       ('b', 'b', 'a'): 6377,\n",
      "       ('b', 'b', 'b'): 12455}}\n"
     ]
    }
   ],
   "source": [
    "pprint(labeled_counts)"
   ]
  },
  {
   "cell_type": "markdown",
   "id": "d69ffdd7-f3d8-45b8-a0a3-f292fdecbbc9",
   "metadata": {},
   "source": [
    "In an unsupervised setting, we do not know the true label for any item. All we get to see are the decisions the classifiers made. These are in effect, the sum of the above counts across the different labels. There is a class for operating on the labeled counts that can give us the projected counts."
   ]
  },
  {
   "cell_type": "code",
   "execution_count": 4,
   "id": "4d2ceb8b-cab0-4c2c-90b7-9fe3da9f7071",
   "metadata": {},
   "outputs": [
    {
     "name": "stdout",
     "output_type": "stream",
     "text": [
      "TrioLabelVoteCounts(label_vote_counts={'a': {('a', 'a', 'a'): 715,\n",
      "                                             ('a', 'a', 'b'): 161,\n",
      "                                             ('a', 'b', 'a'): 2406,\n",
      "                                             ('a', 'b', 'b'): 455,\n",
      "                                             ('b', 'a', 'a'): 290,\n",
      "                                             ('b', 'a', 'b'): 94,\n",
      "                                             ('b', 'b', 'a'): 1335,\n",
      "                                             ('b', 'b', 'b'): 231},\n",
      "                                       'b': {('a', 'a', 'a'): 271,\n",
      "                                             ('a', 'a', 'b'): 469,\n",
      "                                             ('a', 'b', 'a'): 3395,\n",
      "                                             ('a', 'b', 'b'): 7517,\n",
      "                                             ('b', 'a', 'a'): 272,\n",
      "                                             ('b', 'a', 'b'): 399,\n",
      "                                             ('b', 'b', 'a'): 6377,\n",
      "                                             ('b', 'b', 'b'): 12455}})\n"
     ]
    }
   ],
   "source": [
    "trio_labeled_counts = ntqr.TrioLabelVoteCounts(labeled_counts)\n",
    "pprint(trio_labeled_counts)"
   ]
  },
  {
   "cell_type": "markdown",
   "id": "0827a776-cbde-4679-b9eb-7c2762c673f8",
   "metadata": {},
   "source": [
    "The class TrioLabelVoteCounts can project the counts across labels for us and give us only the vote pattern counts."
   ]
  },
  {
   "cell_type": "code",
   "execution_count": 5,
   "id": "b8dcb119-0e5e-4217-8806-c42f6dc9a1c8",
   "metadata": {},
   "outputs": [
    {
     "name": "stdout",
     "output_type": "stream",
     "text": [
      "TrioVoteCounts(vote_counts={('a', 'a', 'a'): 986,\n",
      "                            ('a', 'a', 'b'): 630,\n",
      "                            ('a', 'b', 'a'): 5801,\n",
      "                            ('a', 'b', 'b'): 7972,\n",
      "                            ('b', 'a', 'a'): 562,\n",
      "                            ('b', 'a', 'b'): 493,\n",
      "                            ('b', 'b', 'a'): 7712,\n",
      "                            ('b', 'b', 'b'): 12686})\n"
     ]
    }
   ],
   "source": [
    "trio_vote_counts = trio_labeled_counts.to_TrioVoteCounts()\n",
    "pprint(trio_vote_counts)"
   ]
  },
  {
   "cell_type": "markdown",
   "id": "451fd84b-b102-40f7-b967-1fe15c323ba8",
   "metadata": {},
   "source": [
    "The challenge in unsupervised evaluation is to go from these counts back to the by-label counts. Let's see what happens when you use an algebraic evaluation that assumes that the classifiers were error independent on this test."
   ]
  },
  {
   "cell_type": "code",
   "execution_count": 6,
   "id": "cd7f951c-e0d8-490d-b35f-17012f826d8d",
   "metadata": {},
   "outputs": [],
   "source": [
    "algebraic_eval = ntqr.ErrorIndependentEvaluation(trio_vote_counts)"
   ]
  },
  {
   "cell_type": "code",
   "execution_count": 7,
   "id": "bc811dbf-46f5-45fb-b3e1-3d1d062b5024",
   "metadata": {},
   "outputs": [
    {
     "name": "stdout",
     "output_type": "stream",
     "text": [
      "{'a': 1/2 - 11187722681*sqrt(3328641826009)/61316911076911789,\n",
      " 'b': 11187722681*sqrt(3328641826009)/61316911076911789 + 1/2}\n"
     ]
    }
   ],
   "source": [
    "ae_eval = algebraic_eval.evaluation_exact\n",
    "pprint(ae_eval[0][\"prevalence\"])"
   ]
  },
  {
   "cell_type": "markdown",
   "id": "7a63d610-8760-4080-8d87-e9be50907d50",
   "metadata": {},
   "source": [
    "The two possible solutions for the 'a' label prevalence contain an unresolved square root. This means that the error independence assumption is wrong! The three classifiers in the test have non-zero error correlations. But let us see how close this irrational number is to the actual value."
   ]
  },
  {
   "cell_type": "code",
   "execution_count": 8,
   "id": "44ad7515-a433-4d14-900b-d699d36deb04",
   "metadata": {},
   "outputs": [
    {
     "name": "stdout",
     "output_type": "stream",
     "text": [
      "{'a': 0.16711443965305095, 'b': 0.832885560346949}\n"
     ]
    }
   ],
   "source": [
    "ae_evalf = algebraic_eval.evaluation_float\n",
    "pprint(ae_evalf[0][\"prevalence\"])"
   ]
  },
  {
   "cell_type": "markdown",
   "id": "8c85e67b-7584-4a90-88f3-9d9760fc8afc",
   "metadata": {},
   "source": [
    "The correct evaluation can be computed with the labeled counts."
   ]
  },
  {
   "cell_type": "code",
   "execution_count": 9,
   "id": "004dd070-e66e-406f-81ee-5029387e123f",
   "metadata": {},
   "outputs": [],
   "source": [
    "supervised_eval = ntqr.SupervisedEvaluation(trio_labeled_counts)\n",
    "seval_exact = supervised_eval.evaluation_exact\n",
    "seval_float = supervised_eval.evaluation_float"
   ]
  },
  {
   "cell_type": "code",
   "execution_count": 10,
   "id": "3d8678ba-9329-45c1-a0ac-c75e775f4bc9",
   "metadata": {},
   "outputs": [
    {
     "data": {
      "text/plain": [
       "{'a': 0.15436186960534173, 'b': 0.8456381303946583}"
      ]
     },
     "execution_count": 10,
     "metadata": {},
     "output_type": "execute_result"
    }
   ],
   "source": [
    "seval_float[\"prevalence\"]"
   ]
  },
  {
   "cell_type": "markdown",
   "id": "ec646576-5e6e-4af5-8855-aeede121d70a",
   "metadata": {},
   "source": [
    "So the error independent algebraic evaluation is 16.7% and the true 'a' label prevalence is 15.4%. Not bad. How does majority voting do on this test as an evaluator?"
   ]
  },
  {
   "cell_type": "code",
   "execution_count": 11,
   "id": "61ec73ca-fdf5-4cb6-9bbe-d9bbbfc817e3",
   "metadata": {},
   "outputs": [],
   "source": [
    "majority_voting_eval = ntqr.MajorityVotingEvaluation(trio_vote_counts)\n",
    "mv_eval_exact = majority_voting_eval.evaluation_exact\n",
    "mv_eval_float = majority_voting_eval.evaluation_float"
   ]
  },
  {
   "cell_type": "markdown",
   "id": "57ca97ab-7077-40e7-aea9-94243afa9776",
   "metadata": {},
   "source": [
    "Majority voting does not warn you that the classifiers are actually error correlated since it can only produce rational estimates."
   ]
  },
  {
   "cell_type": "code",
   "execution_count": 12,
   "id": "dd0fa17b-a634-49ad-a291-9f1bb7c23365",
   "metadata": {},
   "outputs": [
    {
     "data": {
      "text/plain": [
       "{'a': Fraction(7979, 36842), 'b': Fraction(28863, 36842)}"
      ]
     },
     "execution_count": 12,
     "metadata": {},
     "output_type": "execute_result"
    }
   ],
   "source": [
    "mv_eval_exact[0][\"prevalence\"]"
   ]
  },
  {
   "cell_type": "code",
   "execution_count": 13,
   "id": "dc872949-ac44-496b-a9d2-b3a6f9a7e0bf",
   "metadata": {},
   "outputs": [
    {
     "data": {
      "text/plain": [
       "{'a': 0.2165734759242169, 'b': 0.7834265240757831}"
      ]
     },
     "execution_count": 13,
     "metadata": {},
     "output_type": "execute_result"
    }
   ],
   "source": [
    "mv_eval_float[0][\"prevalence\"]"
   ]
  },
  {
   "cell_type": "markdown",
   "id": "644276ef-3401-4136-812e-073d055d4755",
   "metadata": {},
   "source": [
    "To summarize - the true 'a' label prevalence is 15.4%, algebraic evaluation estimates 16.7%, and majority voting 21.7%"
   ]
  },
  {
   "cell_type": "markdown",
   "id": "ef51d773-0748-490b-a4d8-ddd88d4cbff4",
   "metadata": {},
   "source": [
    "## The label accuracies"
   ]
  },
  {
   "cell_type": "code",
   "execution_count": 14,
   "id": "23ffb4b4-0b1a-4e85-aa88-97c85e420960",
   "metadata": {},
   "outputs": [
    {
     "data": {
      "application/vnd.jupyter.widget-view+json": {
       "model_id": "5fdec95c39d94bf6a4196b353bc06866",
       "version_major": 2,
       "version_minor": 0
      },
      "image/png": "[encoded data removed]",
      "text/html": [
       "\n",
       "            <div style=\"display: inline-block;\">\n",
       "                <div class=\"jupyter-widgets widget-label\" style=\"text-align: center;\">\n",
       "                    Figure\n",
       "                </div>\n",
       "                <img src='data:image/png;base64,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' width=1000.0/>\n",
       "            </div>\n",
       "        "
      ],
      "text/plain": [
       "Canvas(toolbar=Toolbar(toolitems=[('Home', 'Reset original view', 'home', 'home'), ('Back', 'Back to previous …"
      ]
     },
     "metadata": {},
     "output_type": "display_data"
    }
   ],
   "source": [
    "%matplotlib widget\n",
    "from ntqr.r2.plots import compare_evaluations\n",
    "mv_exact = majority_voting_eval.evaluation_exact\n",
    "size=40\n",
    "compare_evaluations([\n",
    "    [\"ground truth\", \n",
    "     [d['a']*100 for d in seval_exact[\"accuracy\"]],\n",
    "     [d['b']*100 for d in seval_exact[\"accuracy\"]],\n",
    "      \"x\",\"b\",size],\n",
    "    [\"algebraic evaluation\",\n",
    "     [d['a']*100 for d in ae_eval[0][\"accuracy\"]],\n",
    "     [d['b']*100 for d in ae_eval[0][\"accuracy\"]],\n",
    "      \"^\", \"k\",size],\n",
    "    [\"majority voting\",\n",
    "     [d['a']*100 for d in mv_exact[0][\"accuracy\"]],\n",
    "    [d['b']*100 for d in mv_exact[0][\"accuracy\"]],\n",
    "    \"o\", \"g\",size]],0,\n",
    "    titles=[\"GT\",\"AE\",\"MV\"],figsize=(10,5),legend_loc=\"best\")"
   ]
  },
  {
   "cell_type": "markdown",
   "id": "42049e3b-3d1f-405d-8478-28477959d5c2",
   "metadata": {},
   "source": [
    "The results for algebraic evaluation look sort of okay. Can we do better? Yes. The next section explains how we can by looking for the nearest logically possible evaluations."
   ]
  },
  {
   "cell_type": "markdown",
   "id": "b2fd9d5b-1c95-44e3-96fb-f53550636310",
   "metadata": {},
   "source": [
    "## Correcting the logically inconsistent error-independent solution for dependent classifiers"
   ]
  },
  {
   "cell_type": "markdown",
   "id": "8c262fee-087c-45d4-9554-ec7adfea23dc",
   "metadata": {},
   "source": [
    "There is a theorem confirming that an unresolved square root means the classifiers are not error-independent on the given data sketch. We will deal later with the case of highly correlated classifiers. For now we will focus on the case of **nearly independent** classifiers. This applies in the UCI Adult example we have been using throughout this notebook. The pair correlations are less than 1% on all pairs.\n",
    "\n",
    "Since there is an unresolved square root in the prevalence estimate, we know that the \"raw\" algebraic evaluation we did with the error-independent is not logically consistent not with the axioms themselves - the independent solution solves them - but because of the semantics of taking a finite test - only rationals are possible evaluations.\n",
    "\n",
    "This section will use this idea to find the nearest logically consistent **rational** solution. To do this we access some Python classes that implement the computations needed to find the only possible evaluations consistent with the observed responses of the classifiers."
   ]
  },
  {
   "cell_type": "code",
   "execution_count": 15,
   "id": "c9340da1-aeda-4689-a4dc-a6c602b4d3b0",
   "metadata": {},
   "outputs": [
    {
     "data": {
      "text/plain": [
       "36842"
      ]
     },
     "execution_count": 15,
     "metadata": {},
     "output_type": "execute_result"
    }
   ],
   "source": [
    "from ntqr.r2.evaluations import PosteriorSingleEvaluations\n",
    "\n",
    "# We now move to the space of integer responses\n",
    "# The solutions are going to be parametrized by the size of the test\n",
    "trio_vote_counts.test_size"
   ]
  },
  {
   "cell_type": "code",
   "execution_count": 16,
   "id": "b7942d6c-c9ed-48fd-bf8a-c1dcbe518b6c",
   "metadata": {},
   "outputs": [],
   "source": [
    "poss_evals = PosteriorSingleEvaluations(trio_vote_counts)"
   ]
  },
  {
   "cell_type": "code",
   "execution_count": 23,
   "id": "2f151732-e4c5-418d-accf-e6e1b59864e4",
   "metadata": {},
   "outputs": [
    {
     "data": {
      "text/latex": [
       "$\\displaystyle \\frac{1}{2} - \\frac{11187722681 \\sqrt{3328641826009}}{61316911076911789}$"
      ],
      "text/plain": [
       "1/2 - 11187722681*sqrt(3328641826009)/61316911076911789"
      ]
     },
     "execution_count": 23,
     "metadata": {},
     "output_type": "execute_result"
    }
   ],
   "source": [
    "# Let's move all our evaluation values to integer space\n",
    "# TODO: Create class that does this from the integer data sketch\n",
    "aprev = ae_eval[0][\"prevalence\"][\"a\"]\n",
    "aprev"
   ]
  },
  {
   "cell_type": "code",
   "execution_count": 26,
   "id": "4094686f-f958-4fec-bd07-ef155ea16cec",
   "metadata": {},
   "outputs": [
    {
     "data": {
      "text/plain": [
       "6156.830185697703"
      ]
     },
     "execution_count": 26,
     "metadata": {},
     "output_type": "execute_result"
    }
   ],
   "source": [
    "aprevf = float(aprev*trio_vote_counts.test_size)\n",
    "aprevf"
   ]
  },
  {
   "cell_type": "code",
   "execution_count": 32,
   "id": "d05fdd86-b0c8-401a-88cb-d462b07ca3f4",
   "metadata": {},
   "outputs": [
    {
     "name": "stdout",
     "output_type": "stream",
     "text": [
      "{'a': Fraction(5687, 36842), 'b': Fraction(31155, 36842)}\n",
      "{'a': Fraction(7979, 36842), 'b': Fraction(28863, 36842)}\n"
     ]
    }
   ],
   "source": [
    "pp(supervised_eval.evaluation_exact[\"prevalence\"])\n",
    "pp(majority_voting_eval.evaluation_exact[0][\"prevalence\"])"
   ]
  },
  {
   "cell_type": "code",
   "execution_count": null,
   "id": "aab8c52d-1b30-4e9b-8aca-8e0554e6f0c7",
   "metadata": {},
   "outputs": [],
   "source": []
  }
 ],
 "metadata": {
  "kernelspec": {
   "display_name": "Python 3 (ipykernel)",
   "language": "python",
   "name": "python3"
  },
  "language_info": {
   "codemirror_mode": {
    "name": "ipython",
    "version": 3
   },
   "file_extension": ".py",
   "mimetype": "text/x-python",
   "name": "python",
   "nbconvert_exporter": "python",
   "pygments_lexer": "ipython3",
   "version": "3.11.5"
  }
 },
 "nbformat": 4,
 "nbformat_minor": 5
}
