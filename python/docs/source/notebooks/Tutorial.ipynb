{
 "cells": [
  {
   "cell_type": "markdown",
   "id": "a9ccc343-0de7-430e-9c2c-9a77de944618",
   "metadata": {},
   "source": [
    "# Tutorial - evaluate three binary classifiers on a test from the UCI Adult dataset"
   ]
  },
  {
   "cell_type": "markdown",
   "id": "b83591f8-6965-4ff6-b7c3-b5525f99e8b7",
   "metadata": {},
   "source": [
    "This tutorial is going to walk through a single evaluation that was carried out on three binary classifiers trained and tested on the UCI Adult dataset. Two algebraic evaluators will be used. The first is the one you may be familiar with - using majority voting to impute the missing answer key to the unlabeled test. The second is hardly known to the ML/AI community - the exact, algebraic solution for error-independent ensembles and the basis of Data Engine's 2010 patent."
   ]
  },
  {
   "cell_type": "markdown",
   "id": "ad1d0884-32ac-4b82-a842-1691c0435df0",
   "metadata": {},
   "source": [
    "![table](../../../img/uciAdultEvalPrevalenceGauges.png)"
   ]
  },
  {
   "cell_type": "markdown",
   "id": "71c51489-8ba9-49e5-b58e-6daa2b3bf6fa",
   "metadata": {},
   "source": [
    "The gauges above show that, for this particular test, the error-independent algebraic evaluator (AE) gets better estimates than the one obtained using majority voting (assuming the crowd is always right)."
   ]
  },
  {
   "cell_type": "markdown",
   "id": "18ac0e01-b02b-421e-9b3f-0bc65dc14c65",
   "metadata": {},
   "source": [
    "When you look at the estimated label accuracies for the three members of the ensemble in this test, the advantages of algebraic evaluation over majority voting become apparent."
   ]
  },
  {
   "cell_type": "markdown",
   "id": "70a3ef2c-1eca-4bfe-87ad-7a585be063bd",
   "metadata": {},
   "source": [
    "![table](../../../img/uciAdultEvalPiaGauges.png)"
   ]
  },
  {
   "cell_type": "markdown",
   "id": "db5daab2-f7d5-4262-8abc-60c2fb1263d6",
   "metadata": {},
   "source": [
    "The majority voting evaluation is terrible. It incorrectly asserts that all three classifiers are worse than average on the \"a\" label, whereas, in reality, the problematic classifier here is the second one.\n",
    "\n",
    "This problematic evaluation by majority voting can be traced back to the assumption that underlies using the crowd to impute the missing answer key to any test - the crowd is always right. This not true in general - the classifiers could all be better than random guessers and they would **still** make wrong decisions as a group."
   ]
  },
  {
   "cell_type": "markdown",
   "id": "732744df-d76c-4cff-9f48-adc305ea1ccf",
   "metadata": {},
   "source": [
    "## Walking through estimating the label prevalences in the test"
   ]
  },
  {
   "cell_type": "code",
   "execution_count": 1,
   "id": "cf1de6dd-fffc-49a4-8283-9810484cacda",
   "metadata": {},
   "outputs": [],
   "source": [
    "from pprint import pprint, pp\n",
    "import ntqr"
   ]
  },
  {
   "cell_type": "markdown",
   "id": "43d329c7-1b5b-47c5-b143-b9b02cb2a7c8",
   "metadata": {},
   "source": [
    "There are data sketches available for 3 Neural Networks classifying the UCI Adult dataset"
   ]
  },
  {
   "cell_type": "code",
   "execution_count": 2,
   "id": "4222eebc-c683-41aa-a73c-a27d4db166b4",
   "metadata": {},
   "outputs": [
    {
     "data": {
      "text/plain": [
       "100"
      ]
     },
     "execution_count": 2,
     "metadata": {},
     "output_type": "execute_result"
    }
   ],
   "source": [
    "from ntqr.r2.uci_adult_20240415 import data_sketches\n",
    "len(data_sketches)"
   ]
  },
  {
   "cell_type": "code",
   "execution_count": 3,
   "id": "41cfb173-2a82-4f20-b969-13bcbb32c0cb",
   "metadata": {},
   "outputs": [
    {
     "name": "stdout",
     "output_type": "stream",
     "text": [
      "{'a': {('a', 'a', 'a'): 943,\n",
      "       ('a', 'a', 'b'): 393,\n",
      "       ('a', 'b', 'a'): 198,\n",
      "       ('a', 'b', 'b'): 62,\n",
      "       ('b', 'a', 'a'): 306,\n",
      "       ('b', 'a', 'b'): 124,\n",
      "       ('b', 'b', 'a'): 52,\n",
      "       ('b', 'b', 'b'): 29},\n",
      " 'b': {('a', 'a', 'a'): 774,\n",
      "       ('a', 'a', 'b'): 1585,\n",
      "       ('a', 'b', 'a'): 1611,\n",
      "       ('a', 'b', 'b'): 3505,\n",
      "       ('b', 'a', 'a'): 1270,\n",
      "       ('b', 'a', 'b'): 2876,\n",
      "       ('b', 'b', 'a'): 2661,\n",
      "       ('b', 'b', 'b'): 5984}}\n"
     ]
    }
   ],
   "source": [
    "# We know run 93 was particularly good\n",
    "labeled_counts = data_sketches[93]\n",
    "pprint(labeled_counts)"
   ]
  },
  {
   "cell_type": "markdown",
   "id": "d69ffdd7-f3d8-45b8-a0a3-f292fdecbbc9",
   "metadata": {},
   "source": [
    "In an unsupervised setting, we do not know the true label for any item. All we get to see are the decisions the classifiers made. These are in effect, the sum of the above counts across the different labels. There is a class for operating on the labeled counts that can give us the projected counts."
   ]
  },
  {
   "cell_type": "code",
   "execution_count": 4,
   "id": "4d2ceb8b-cab0-4c2c-90b7-9fe3da9f7071",
   "metadata": {},
   "outputs": [
    {
     "name": "stdout",
     "output_type": "stream",
     "text": [
      "TrioLabelVoteCounts(label_vote_counts={'a': {('a', 'a', 'a'): 943,\n",
      "                                             ('a', 'a', 'b'): 393,\n",
      "                                             ('a', 'b', 'a'): 198,\n",
      "                                             ('a', 'b', 'b'): 62,\n",
      "                                             ('b', 'a', 'a'): 306,\n",
      "                                             ('b', 'a', 'b'): 124,\n",
      "                                             ('b', 'b', 'a'): 52,\n",
      "                                             ('b', 'b', 'b'): 29},\n",
      "                                       'b': {('a', 'a', 'a'): 774,\n",
      "                                             ('a', 'a', 'b'): 1585,\n",
      "                                             ('a', 'b', 'a'): 1611,\n",
      "                                             ('a', 'b', 'b'): 3505,\n",
      "                                             ('b', 'a', 'a'): 1270,\n",
      "                                             ('b', 'a', 'b'): 2876,\n",
      "                                             ('b', 'b', 'a'): 2661,\n",
      "                                             ('b', 'b', 'b'): 5984}})\n"
     ]
    }
   ],
   "source": [
    "trio_labeled_counts = ntqr.TrioLabelVoteCounts(labeled_counts)\n",
    "pprint(trio_labeled_counts)"
   ]
  },
  {
   "cell_type": "markdown",
   "id": "0827a776-cbde-4679-b9eb-7c2762c673f8",
   "metadata": {},
   "source": [
    "The class TrioLabelVoteCounts can project the counts across labels for us and give us only the vote pattern counts."
   ]
  },
  {
   "cell_type": "code",
   "execution_count": 5,
   "id": "b8dcb119-0e5e-4217-8806-c42f6dc9a1c8",
   "metadata": {},
   "outputs": [
    {
     "name": "stdout",
     "output_type": "stream",
     "text": [
      "TrioVoteCounts(vote_counts={('a', 'a', 'a'): 1717,\n",
      "                            ('a', 'a', 'b'): 1978,\n",
      "                            ('a', 'b', 'a'): 1809,\n",
      "                            ('a', 'b', 'b'): 3567,\n",
      "                            ('b', 'a', 'a'): 1576,\n",
      "                            ('b', 'a', 'b'): 3000,\n",
      "                            ('b', 'b', 'a'): 2713,\n",
      "                            ('b', 'b', 'b'): 6013})\n"
     ]
    }
   ],
   "source": [
    "trio_vote_counts = trio_labeled_counts.to_TrioVoteCounts()\n",
    "pprint(trio_vote_counts)"
   ]
  },
  {
   "cell_type": "markdown",
   "id": "451fd84b-b102-40f7-b967-1fe15c323ba8",
   "metadata": {},
   "source": [
    "The challenge in unsupervised evaluation is to go from these counts back to the by-label counts. Let's see what happens when you use an algebraic evaluation that assumes that the classifiers were error independent on this test."
   ]
  },
  {
   "cell_type": "code",
   "execution_count": 6,
   "id": "cd7f951c-e0d8-490d-b35f-17012f826d8d",
   "metadata": {},
   "outputs": [],
   "source": [
    "algebraic_eval = ntqr.ErrorIndependentEvaluation(trio_vote_counts)"
   ]
  },
  {
   "cell_type": "code",
   "execution_count": 7,
   "id": "bc811dbf-46f5-45fb-b3e1-3d1d062b5024",
   "metadata": {},
   "outputs": [
    {
     "name": "stdout",
     "output_type": "stream",
     "text": [
      "{'a': 1/2 - 65278688621*sqrt(12926495728977)/578408977888804842,\n",
      " 'b': 65278688621*sqrt(12926495728977)/578408977888804842 + 1/2}\n"
     ]
    }
   ],
   "source": [
    "ae_eval = algebraic_eval.evaluation_exact\n",
    "pprint(ae_eval[0][\"prevalence\"])"
   ]
  },
  {
   "cell_type": "markdown",
   "id": "7a63d610-8760-4080-8d87-e9be50907d50",
   "metadata": {},
   "source": [
    "The two possible solutions for the 'a' label prevalence contain an unresolved square root. This means that the error independence assumption is wrong! The three classifiers in the test have non-zero error correlations. But let us see how close this irrational number is to the actual value."
   ]
  },
  {
   "cell_type": "code",
   "execution_count": 8,
   "id": "44ad7515-a433-4d14-900b-d699d36deb04",
   "metadata": {},
   "outputs": [
    {
     "name": "stdout",
     "output_type": "stream",
     "text": [
      "{'a': 0.09423292951169045, 'b': 0.9057670704883095}\n"
     ]
    }
   ],
   "source": [
    "ae_evalf = algebraic_eval.evaluation_float\n",
    "pprint(ae_evalf[0][\"prevalence\"])"
   ]
  },
  {
   "cell_type": "markdown",
   "id": "8c85e67b-7584-4a90-88f3-9d9760fc8afc",
   "metadata": {},
   "source": [
    "The correct evaluation can be computed with the labeled counts."
   ]
  },
  {
   "cell_type": "code",
   "execution_count": 9,
   "id": "004dd070-e66e-406f-81ee-5029387e123f",
   "metadata": {},
   "outputs": [],
   "source": [
    "supervised_eval = ntqr.SupervisedEvaluation(trio_labeled_counts)\n",
    "seval_exact = supervised_eval.evaluation_exact\n",
    "seval_float = supervised_eval.evaluation_float"
   ]
  },
  {
   "cell_type": "code",
   "execution_count": 10,
   "id": "3d8678ba-9329-45c1-a0ac-c75e775f4bc9",
   "metadata": {},
   "outputs": [
    {
     "data": {
      "text/plain": [
       "{'a': 0.0941760157332499, 'b': 0.9058239842667501}"
      ]
     },
     "execution_count": 10,
     "metadata": {},
     "output_type": "execute_result"
    }
   ],
   "source": [
    "seval_float[\"prevalence\"]"
   ]
  },
  {
   "cell_type": "markdown",
   "id": "ec646576-5e6e-4af5-8855-aeede121d70a",
   "metadata": {},
   "source": [
    "So the error independent estimate is 9.423% and the true 'a' label prevalence is 9.418%. Really good. But sometimes it veers. We'll show that later. Let's continue with this data sketch to see what Majority Voting estimates."
   ]
  },
  {
   "cell_type": "code",
   "execution_count": 11,
   "id": "61ec73ca-fdf5-4cb6-9bbe-d9bbbfc817e3",
   "metadata": {},
   "outputs": [],
   "source": [
    "majority_voting_eval = ntqr.MajorityVotingEvaluation(trio_vote_counts)\n",
    "mv_eval_exact = majority_voting_eval.evaluation_exact\n",
    "mv_eval_float = majority_voting_eval.evaluation_float"
   ]
  },
  {
   "cell_type": "markdown",
   "id": "57ca97ab-7077-40e7-aea9-94243afa9776",
   "metadata": {},
   "source": [
    "Majority voting does not warn you that the classifiers are actually error correlated since it can only produce rational estimates."
   ]
  },
  {
   "cell_type": "code",
   "execution_count": 12,
   "id": "dd0fa17b-a634-49ad-a291-9f1bb7c23365",
   "metadata": {},
   "outputs": [
    {
     "data": {
      "text/plain": [
       "{'a': Fraction(7080, 22373), 'b': Fraction(15293, 22373)}"
      ]
     },
     "execution_count": 12,
     "metadata": {},
     "output_type": "execute_result"
    }
   ],
   "source": [
    "mv_eval_exact[0][\"prevalence\"]"
   ]
  },
  {
   "cell_type": "code",
   "execution_count": 13,
   "id": "dc872949-ac44-496b-a9d2-b3a6f9a7e0bf",
   "metadata": {},
   "outputs": [
    {
     "data": {
      "text/plain": [
       "{'a': 0.31645286729540073, 'b': 0.6835471327045993}"
      ]
     },
     "execution_count": 13,
     "metadata": {},
     "output_type": "execute_result"
    }
   ],
   "source": [
    "mv_eval_float[0][\"prevalence\"]"
   ]
  },
  {
   "cell_type": "markdown",
   "id": "644276ef-3401-4136-812e-073d055d4755",
   "metadata": {},
   "source": [
    "To summarize - the true 'a' label prevalence is 9.4%, algebraic evaluation estimates 9.4%, and majority voting 31.6%"
   ]
  },
  {
   "cell_type": "markdown",
   "id": "ef51d773-0748-490b-a4d8-ddd88d4cbff4",
   "metadata": {},
   "source": [
    "## The label accuracies"
   ]
  },
  {
   "cell_type": "code",
   "execution_count": 14,
   "id": "23ffb4b4-0b1a-4e85-aa88-97c85e420960",
   "metadata": {},
   "outputs": [
    {
     "data": {
      "image/png": "[encoded data removed]",
      "text/plain": [
       "<Figure size 1000x500 with 2 Axes>"
      ]
     },
     "metadata": {},
     "output_type": "display_data"
    }
   ],
   "source": [
    "%matplotlib inline\n",
    "from ntqr.r2.plots import compare_evaluations, plot_evaluations\n",
    "mv_exact = majority_voting_eval.evaluation_exact\n",
    "size=40\n",
    "compare_evaluations([\n",
    "    [\"ground truth\", \n",
    "     [d['a']*100 for d in seval_exact[\"accuracy\"]],\n",
    "     [d['b']*100 for d in seval_exact[\"accuracy\"]],\n",
    "      \"x\",\"b\",size],\n",
    "    [\"error independent\",\n",
    "     [d['a']*100 for d in ae_eval[0][\"accuracy\"]],\n",
    "     [d['b']*100 for d in ae_eval[0][\"accuracy\"]],\n",
    "      \"^\", \"k\",size],\n",
    "    [\"majority voting\",\n",
    "     [d['a']*100 for d in mv_eval_exact[0][\"accuracy\"]],\n",
    "     [d['b']*100 for d in mv_eval_exact[0][\"accuracy\"]],\n",
    "      \"o\", \"k\",size],],0,\n",
    "    titles=[\"Ground Truth\",\"Error Independent\", \"Majority Voting\"],figsize=(10,5),legend_loc=\"best\",withArrows=False)"
   ]
  },
  {
   "cell_type": "markdown",
   "id": "42049e3b-3d1f-405d-8478-28477959d5c2",
   "metadata": {},
   "source": [
    "The results for the error-independent solution are better than majority voting. But let's take a look "
   ]
  },
  {
   "cell_type": "markdown",
   "id": "14e60757-1526-413e-b1c1-3b164abf6aa5",
   "metadata": {},
   "source": [
    "## Histogram of data sketch evaluations\n",
    "\n",
    "Let's take a look at the prevalence estimates for these data sketches. The ground truth for the 'a' label is 9.2%."
   ]
  },
  {
   "cell_type": "code",
   "execution_count": 15,
   "id": "cdd91833-6944-46d7-89b4-78e54d8172bd",
   "metadata": {},
   "outputs": [],
   "source": [
    "# Let's collect all the evaluations using the error-independent evaluator\n",
    "ae_estimates = [ntqr.ErrorIndependentEvaluation(ntqr.TrioLabelVoteCounts(ds).to_TrioVoteCounts()) for ds in data_sketches]\n",
    "# And the majority voting estimates also\n",
    "mv_estimates = [ntqr.MajorityVotingEvaluation(ntqr.TrioLabelVoteCounts(ds).to_TrioVoteCounts()) for ds in data_sketches]"
   ]
  },
  {
   "cell_type": "code",
   "execution_count": 16,
   "id": "3c5d51c2-b3a9-4c98-a89e-1cd2a04ff047",
   "metadata": {},
   "outputs": [],
   "source": [
    "import matplotlib.pyplot as plt\n",
    "# We are picking out the lowest prevalence solution for the 'a' label\n",
    "prev_ae_estimates = [float(eval.evaluation_exact[0][\"prevalence\"][\"a\"]) for eval in ae_estimates]\n",
    "prev_mv_estimates = [float(eval.evaluation_exact[0][\"prevalence\"][\"a\"]) for eval in mv_estimates]"
   ]
  },
  {
   "cell_type": "code",
   "execution_count": 17,
   "id": "666f701a-9f5a-48b6-a5ca-24359c80af4e",
   "metadata": {},
   "outputs": [
    {
     "data": {
      "image/png": "[encoded data removed]",
      "text/plain": [
       "<Figure size 1000x500 with 2 Axes>"
      ]
     },
     "metadata": {},
     "output_type": "display_data"
    }
   ],
   "source": [
    "%matplotlib inline\n",
    "from matplotlib.ticker import PercentFormatter\n",
    "fig, axs = plt.subplots(1, 2, sharey=True, sharex=True, tight_layout=True,figsize=(10,5))\n",
    "n_bins = 20\n",
    "axs[0].hist(prev_ae_estimates, bins=n_bins)\n",
    "axs[0].set_title(\"Error Independent Estimates\")\n",
    "axs[1].xaxis.set_major_formatter(PercentFormatter(xmax=1))\n",
    "axs[1].hist(prev_mv_estimates, bins=n_bins)\n",
    "axs[1].set_title(\"Majority Voting Estimates\")\n",
    "plt.show()\n"
   ]
  },
  {
   "cell_type": "code",
   "execution_count": null,
   "id": "53d865e5-21ea-4eb3-a5ac-af61b4c93d3d",
   "metadata": {},
   "outputs": [],
   "source": []
  }
 ],
 "metadata": {
  "kernelspec": {
   "display_name": "Python 3 (ipykernel)",
   "language": "python",
   "name": "python3"
  },
  "language_info": {
   "codemirror_mode": {
    "name": "ipython",
    "version": 3
   },
   "file_extension": ".py",
   "mimetype": "text/x-python",
   "name": "python",
   "nbconvert_exporter": "python",
   "pygments_lexer": "ipython3",
   "version": "3.11.5"
  }
 },
 "nbformat": 4,
 "nbformat_minor": 5
}
