{
 "cells": [
  {
   "cell_type": "markdown",
   "id": "057fb512-ad3a-4e3f-a746-ccdc02e856c7",
   "metadata": {},
   "source": [
    "# Logical Alarms for Misaligned \n",
    "\n",
    "The power of logic alone as an aid for AI safety is demonstrated by the algorithms in the `ntqr.alams` module. This notebook provides some examples demonstrating their use.\n",
    "\n",
    "## Binary classification, the R=2 case"
   ]
  },
  {
   "cell_type": "code",
   "execution_count": 15,
   "id": "28fe8a9d-5956-4d3c-b432-185e4f56c800",
   "metadata": {},
   "outputs": [
    {
     "name": "stdout",
     "output_type": "stream",
     "text": [
      "IPython console for SymPy 1.13.2 (Python 3.11.8-64-bit) (ground types: gmpy)\n",
      "\n",
      "These commands were executed:\n",
      ">>> from sympy import *\n",
      ">>> x, y, z, t = symbols('x y z t')\n",
      ">>> k, m, n = symbols('k m n', integer=True)\n",
      ">>> f, g, h = symbols('f g h', cls=Function)\n",
      ">>> init_printing()\n",
      "\n",
      "Documentation can be found at https://docs.sympy.org/1.13.2/\n",
      "\n"
     ]
    }
   ],
   "source": [
    "import ntqr.alarms, ntqr.r2\n",
    "import matplotlib.pyplot as plt\n",
    "import sympy, random\n",
    "sympy.init_session()"
   ]
  },
  {
   "cell_type": "code",
   "execution_count": null,
   "id": "718530dd-5742-4365-a6f6-079216b2ab5c",
   "metadata": {},
   "outputs": [],
   "source": []
  }
 ],
 "metadata": {
  "kernelspec": {
   "display_name": "Python 3 (ipykernel)",
   "language": "python",
   "name": "python3"
  },
  "language_info": {
   "codemirror_mode": {
    "name": "ipython",
    "version": 3
   },
   "file_extension": ".py",
   "mimetype": "text/x-python",
   "name": "python",
   "nbconvert_exporter": "python",
   "pygments_lexer": "ipython3",
   "version": "3.11.8"
  },
  "widgets": {
   "application/vnd.jupyter.widget-state+json": {
    "state": {},
    "version_major": 2,
    "version_minor": 0
   }
  }
 },
 "nbformat": 4,
 "nbformat_minor": 5
}
