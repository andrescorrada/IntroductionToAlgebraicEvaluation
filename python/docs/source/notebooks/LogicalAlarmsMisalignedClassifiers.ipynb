{
 "cells": [
  {
   "cell_type": "markdown",
   "id": "057fb512-ad3a-4e3f-a746-ccdc02e856c7",
   "metadata": {},
   "source": [
    "# Logical Alarms for Misaligned Classifiers\n",
    "\n",
    "The power of logic alone as an aid for AI safety is demonstrated by the algorithms in the `ntqr.alams` module. This notebook provides some examples demonstrating their use."
   ]
  },
  {
   "cell_type": "code",
   "execution_count": 3,
   "id": "28fe8a9d-5956-4d3c-b432-185e4f56c800",
   "metadata": {},
   "outputs": [
    {
     "name": "stdout",
     "output_type": "stream",
     "text": [
      "IPython console for SymPy 1.13.2 (Python 3.11.8-64-bit) (ground types: gmpy)\n",
      "\n",
      "These commands were executed:\n",
      ">>> from sympy import *\n",
      ">>> x, y, z, t = symbols('x y z t')\n",
      ">>> k, m, n = symbols('k m n', integer=True)\n",
      ">>> f, g, h = symbols('f g h', cls=Function)\n",
      ">>> init_printing()\n",
      "\n",
      "Documentation can be found at https://docs.sympy.org/1.13.2/\n",
      "\n"
     ]
    }
   ],
   "source": [
    "import ntqr.alarms, ntqr.plots\n",
    "import ntqr.r2.raxioms, ntqr.r2.evaluations\n",
    "import ntqr.r3.raxioms, ntqr.r3.evaluations\n",
    "import matplotlib.pyplot as plt\n",
    "import sympy, random\n",
    "sympy.init_session()"
   ]
  },
  {
   "cell_type": "markdown",
   "id": "c3c5d534-0548-418b-a10e-20384c3b2f1b",
   "metadata": {},
   "source": [
    "## Binary classification, the R=2 case"
   ]
  },
  {
   "cell_type": "code",
   "execution_count": 5,
   "id": "718530dd-5742-4365-a6f6-079216b2ab5c",
   "metadata": {},
   "outputs": [],
   "source": [
    "# The basic unit of the alarms are comparisons between pairs of classifiers in an ensemble\n",
    "# For each classifier we create its individual axioms\n",
    "labels = ['a', 'b']\n",
    "c1axioms = ntqr.r2.raxioms.SingleClassifierAxioms(labels, 'i')\n",
    "c2axioms = ntqr.r2.raxioms.SingleClassifierAxioms(labels, 'j')\n",
    "# Let's make an alarm for a small test, Q=10 questions.\n",
    "alarm = ntqr.alarms.SingleClassifierAxiomAlarm(10,(c1axioms, c2axioms), ntqr.r2.evaluations.SingleClassifierEvaluations)\n",
    "# We want the classifiers to be better than 1/2 for both labels\n",
    "alarm.set_safety_specification([2,2])"
   ]
  },
  {
   "cell_type": "code",
   "execution_count": 6,
   "id": "4e1261a5-b413-4802-832c-b90d24e8d71e",
   "metadata": {},
   "outputs": [
    {
     "data": {
      "text/plain": [
       "{((0, 10), True),\n",
       " ((1, 9), True),\n",
       " ((2, 8), True),\n",
       " ((3, 7), True),\n",
       " ((4, 6), True),\n",
       " ((5, 5), True),\n",
       " ((6, 4), True),\n",
       " ((7, 3), True),\n",
       " ((8, 2), True),\n",
       " ((9, 1), True),\n",
       " ((10, 0), True)}"
      ]
     },
     "execution_count": 6,
     "metadata": {},
     "output_type": "execute_result"
    }
   ],
   "source": [
    "# Let's first look at a test where these two pairs are misaligned. The misalignment trace\n",
    "# gives us the number of question types and whether one or more of the classifiers fail\n",
    "# the safety specification (> 50%) at the assumed number of question types.\n",
    "alarm.misalignment_trace([(2,8),(8,2)])"
   ]
  },
  {
   "cell_type": "code",
   "execution_count": 7,
   "id": "0b4c5e0b-5454-447d-8df1-5a58a1571e01",
   "metadata": {},
   "outputs": [
    {
     "data": {
      "image/png": "[encoded data removed]",
      "text/plain": [
       "<Figure size 640x480 with 2 Axes>"
      ]
     },
     "metadata": {},
     "output_type": "display_data"
    }
   ],
   "source": [
    "# We can check visually for the misalignment\n",
    "ntqr.plots.plot_pair_logical_alarm_at_qs(labels, ['i','j'], (6,4), [(2,8),(8,2)], plt=plt)"
   ]
  },
  {
   "cell_type": "markdown",
   "id": "ac9d3523-34a6-4b6b-a258-d0435ef54c27",
   "metadata": {},
   "source": [
    "At the assumed number of questions (Q_a = 6, Q_b = 4), there are not evaluations for either of these classifiers that have both of them hitting the green cross points - the points that satisfy the safety specification."
   ]
  },
  {
   "cell_type": "code",
   "execution_count": 9,
   "id": "f0553caa-0491-4cdb-b0f3-eafc8ba28b7a",
   "metadata": {},
   "outputs": [
    {
     "data": {
      "text/plain": [
       "{((0, 10), False),\n",
       " ((1, 9), False),\n",
       " ((2, 8), False),\n",
       " ((3, 7), False),\n",
       " ((4, 6), True),\n",
       " ((5, 5), True),\n",
       " ((6, 4), True),\n",
       " ((7, 3), True),\n",
       " ((8, 2), True),\n",
       " ((9, 1), True),\n",
       " ((10, 0), True)}"
      ]
     },
     "execution_count": 9,
     "metadata": {},
     "output_type": "execute_result"
    }
   ],
   "source": [
    "# Let's now try pair responses that cannot conclusively prove the pair is misaligned.\n",
    "alarm.misalignment_trace([(2,8),(3,7)])"
   ]
  },
  {
   "cell_type": "markdown",
   "id": "6b92c47c-a3cd-454a-9db9-68168349d6bb",
   "metadata": {},
   "source": [
    "These classifier responses have question settings (e.g. (2,8)) where the pair has evaluations that are logically consistent with how they responded **and** satisfy the safety specification. And there are also question number settings that do not satisfy the safety specification."
   ]
  },
  {
   "cell_type": "code",
   "execution_count": 11,
   "id": "abfb9bdc-36ac-4039-990f-acf283e5acba",
   "metadata": {},
   "outputs": [
    {
     "data": {
      "image/png": "[encoded data removed]",
      "text/plain": [
       "<Figure size 640x480 with 2 Axes>"
      ]
     },
     "metadata": {},
     "output_type": "display_data"
    }
   ],
   "source": [
    "# The question numbers that has group evaluations that satisfy the safety specification\n",
    "ntqr.plots.plot_pair_logical_alarm_at_qs(labels, ['i','j'], (2,8),[(2,8),(3,7)], plt=plt)"
   ]
  },
  {
   "cell_type": "markdown",
   "id": "c67090c9-246a-4d29-aa95-6ee2fbc522c4",
   "metadata": {},
   "source": [
    "At Q_a = 2 and Q_b = 8 there are group evaluations for both labels that satisfy the safety specification."
   ]
  },
  {
   "cell_type": "code",
   "execution_count": 13,
   "id": "a2184bfc-b3f6-4492-830c-902264dde3f6",
   "metadata": {},
   "outputs": [
    {
     "data": {
      "image/png": "[encoded data removed]",
      "text/plain": [
       "<Figure size 640x480 with 2 Axes>"
      ]
     },
     "metadata": {},
     "output_type": "display_data"
    }
   ],
   "source": [
    "# The question numbers that has group evaluations that DO NOT satisfy the safety specification\n",
    "ntqr.plots.plot_pair_logical_alarm_at_qs(labels, ['i','j'], (7,3),[(2,8),(3,7)], plt=plt)"
   ]
  },
  {
   "cell_type": "markdown",
   "id": "b4611e7d-92bf-4900-9e71-14e0f338aec4",
   "metadata": {},
   "source": [
    "Here we can see that the 'a' label has to group evaluation with question numbers (Q_a = 7, Q_b = 3) where both classifiers are better than 50% for **both** labels."
   ]
  },
  {
   "cell_type": "markdown",
   "id": "3a635ffc-5fb6-4c32-8d19-551eae6dad07",
   "metadata": {},
   "source": [
    "## Three class classification, the R=3 case"
   ]
  },
  {
   "cell_type": "code",
   "execution_count": 16,
   "id": "57b4a2ac-e2bb-42ea-a59c-a1a8fb70d47a",
   "metadata": {},
   "outputs": [],
   "source": [
    "# The basic unit of the alarms are comparisons between pairs of classifiers in an ensemble\n",
    "# For each classifier we create its individual axioms\n",
    "# We now have three labels for two classifiers\n",
    "labels = ['a', 'b', 'c']\n",
    "c1axioms = ntqr.r3.raxioms.SingleClassifierAxioms(labels, 'i')\n",
    "c2axioms = ntqr.r3.raxioms.SingleClassifierAxioms(labels, 'j')\n",
    "# Let's make an alarm for a small test, Q=10 questions.\n",
    "alarm = ntqr.alarms.SingleClassifierAxiomAlarm(10,(c1axioms, c2axioms), ntqr.r3.evaluations.SingleClassifierEvaluations)\n",
    "# We want the classifiers to be better than 1/2 for both labels\n",
    "alarm.set_safety_specification([2,2,2])"
   ]
  },
  {
   "cell_type": "code",
   "execution_count": 17,
   "id": "8d3623a1-ec5f-489c-bd23-0ae57c2f5dae",
   "metadata": {},
   "outputs": [
    {
     "data": {
      "text/plain": [
       "{((0, 0, 10), True),\n",
       " ((0, 1, 9), True),\n",
       " ((0, 2, 8), True),\n",
       " ((0, 3, 7), True),\n",
       " ((0, 4, 6), True),\n",
       " ((0, 5, 5), True),\n",
       " ((0, 6, 4), True),\n",
       " ((0, 7, 3), True),\n",
       " ((0, 8, 2), True),\n",
       " ((0, 9, 1), True),\n",
       " ((0, 10, 0), True),\n",
       " ((1, 0, 9), True),\n",
       " ((1, 1, 8), True),\n",
       " ((1, 2, 7), True),\n",
       " ((1, 3, 6), True),\n",
       " ((1, 4, 5), True),\n",
       " ((1, 5, 4), True),\n",
       " ((1, 6, 3), True),\n",
       " ((1, 7, 2), True),\n",
       " ((1, 8, 1), True),\n",
       " ((1, 9, 0), True),\n",
       " ((2, 0, 8), True),\n",
       " ((2, 1, 7), True),\n",
       " ((2, 2, 6), True),\n",
       " ((2, 3, 5), True),\n",
       " ((2, 4, 4), True),\n",
       " ((2, 5, 3), False),\n",
       " ((2, 6, 2), True),\n",
       " ((2, 7, 1), True),\n",
       " ((2, 8, 0), True),\n",
       " ((3, 0, 7), True),\n",
       " ((3, 1, 6), True),\n",
       " ((3, 2, 5), True),\n",
       " ((3, 3, 4), True),\n",
       " ((3, 4, 3), False),\n",
       " ((3, 5, 2), False),\n",
       " ((3, 6, 1), True),\n",
       " ((3, 7, 0), True),\n",
       " ((4, 0, 6), True),\n",
       " ((4, 1, 5), True),\n",
       " ((4, 2, 4), True),\n",
       " ((4, 3, 3), True),\n",
       " ((4, 4, 2), True),\n",
       " ((4, 5, 1), True),\n",
       " ((4, 6, 0), True),\n",
       " ((5, 0, 5), True),\n",
       " ((5, 1, 4), True),\n",
       " ((5, 2, 3), True),\n",
       " ((5, 3, 2), True),\n",
       " ((5, 4, 1), True),\n",
       " ((5, 5, 0), True),\n",
       " ((6, 0, 4), True),\n",
       " ((6, 1, 3), True),\n",
       " ((6, 2, 2), True),\n",
       " ((6, 3, 1), True),\n",
       " ((6, 4, 0), True),\n",
       " ((7, 0, 3), True),\n",
       " ((7, 1, 2), True),\n",
       " ((7, 2, 1), True),\n",
       " ((7, 3, 0), True),\n",
       " ((8, 0, 2), True),\n",
       " ((8, 1, 1), True),\n",
       " ((8, 2, 0), True),\n",
       " ((9, 0, 1), True),\n",
       " ((9, 1, 0), True),\n",
       " ((10, 0, 0), True)}"
      ]
     },
     "execution_count": 17,
     "metadata": {},
     "output_type": "execute_result"
    }
   ],
   "source": [
    "# We look at responses that make the pair misaligned\n",
    "# This computation will take a while\n",
    "alarm.misalignment_trace([(5,3,2),(2,3,5)])"
   ]
  },
  {
   "cell_type": "code",
   "execution_count": 18,
   "id": "571a1c81-7999-4f7f-8c91-6eda6c8da5cf",
   "metadata": {},
   "outputs": [
    {
     "data": {
      "image/png": "[encoded data removed]",
      "text/plain": [
       "<Figure size 640x480 with 3 Axes>"
      ]
     },
     "metadata": {},
     "output_type": "display_data"
    }
   ],
   "source": [
    "# The question numbers that has group evaluations that does not satisfy the safety specification\n",
    "ntqr.plots.plot_pair_logical_alarm_at_qs(labels, ['i','j'], (3,1,6),[(5,3,2),(2,3,5)], plt=plt)"
   ]
  },
  {
   "cell_type": "code",
   "execution_count": 19,
   "id": "c935d65a-a8b5-4f57-96aa-8c6075595a22",
   "metadata": {},
   "outputs": [
    {
     "data": {
      "text/plain": [
       "{((0, 0, 10), True),\n",
       " ((0, 1, 9), True),\n",
       " ((0, 2, 8), True),\n",
       " ((0, 3, 7), True),\n",
       " ((0, 4, 6), True),\n",
       " ((0, 5, 5), True),\n",
       " ((0, 6, 4), True),\n",
       " ((0, 7, 3), True),\n",
       " ((0, 8, 2), True),\n",
       " ((0, 9, 1), True),\n",
       " ((0, 10, 0), True),\n",
       " ((1, 0, 9), True),\n",
       " ((1, 1, 8), True),\n",
       " ((1, 2, 7), True),\n",
       " ((1, 3, 6), True),\n",
       " ((1, 4, 5), True),\n",
       " ((1, 5, 4), True),\n",
       " ((1, 6, 3), True),\n",
       " ((1, 7, 2), True),\n",
       " ((1, 8, 1), True),\n",
       " ((1, 9, 0), True),\n",
       " ((2, 0, 8), True),\n",
       " ((2, 1, 7), True),\n",
       " ((2, 2, 6), True),\n",
       " ((2, 3, 5), True),\n",
       " ((2, 4, 4), True),\n",
       " ((2, 5, 3), False),\n",
       " ((2, 6, 2), True),\n",
       " ((2, 7, 1), True),\n",
       " ((2, 8, 0), True),\n",
       " ((3, 0, 7), True),\n",
       " ((3, 1, 6), True),\n",
       " ((3, 2, 5), True),\n",
       " ((3, 3, 4), True),\n",
       " ((3, 4, 3), False),\n",
       " ((3, 5, 2), False),\n",
       " ((3, 6, 1), True),\n",
       " ((3, 7, 0), True),\n",
       " ((4, 0, 6), True),\n",
       " ((4, 1, 5), True),\n",
       " ((4, 2, 4), True),\n",
       " ((4, 3, 3), False),\n",
       " ((4, 4, 2), False),\n",
       " ((4, 5, 1), False),\n",
       " ((4, 6, 0), True),\n",
       " ((5, 0, 5), True),\n",
       " ((5, 1, 4), True),\n",
       " ((5, 2, 3), False),\n",
       " ((5, 3, 2), False),\n",
       " ((5, 4, 1), False),\n",
       " ((5, 5, 0), False),\n",
       " ((6, 0, 4), True),\n",
       " ((6, 1, 3), False),\n",
       " ((6, 2, 2), False),\n",
       " ((6, 3, 1), False),\n",
       " ((6, 4, 0), False),\n",
       " ((7, 0, 3), False),\n",
       " ((7, 1, 2), False),\n",
       " ((7, 2, 1), False),\n",
       " ((7, 3, 0), False),\n",
       " ((8, 0, 2), True),\n",
       " ((8, 1, 1), True),\n",
       " ((8, 2, 0), True),\n",
       " ((9, 0, 1), True),\n",
       " ((9, 1, 0), True),\n",
       " ((10, 0, 0), True)}"
      ]
     },
     "execution_count": 19,
     "metadata": {},
     "output_type": "execute_result"
    }
   ],
   "source": [
    "# Now a pair that is not logically misaligned (i.e. there exist questions numbers that satisfy the safety specification)\n",
    "# We look at responses that make the pair misaligned\n",
    "# This computation will take a while\n",
    "alarm.misalignment_trace([(5,3,2),(4,3,3)])"
   ]
  },
  {
   "cell_type": "code",
   "execution_count": 20,
   "id": "1e321ec3-52f5-482f-8004-12eab06272e6",
   "metadata": {},
   "outputs": [
    {
     "data": {
      "image/png": "[encoded data removed]",
      "text/plain": [
       "<Figure size 640x480 with 3 Axes>"
      ]
     },
     "metadata": {},
     "output_type": "display_data"
    }
   ],
   "source": [
    "# The question numbers that has group evaluations that satisfy the safety specification\n",
    "ntqr.plots.plot_pair_logical_alarm_at_qs(labels, ['i','j'], (3,4,3),[(5,3,2),(4,3,3)], plt=plt)"
   ]
  },
  {
   "cell_type": "code",
   "execution_count": 21,
   "id": "41d3bde3-a32b-4c5d-ab79-29a59eb3ac90",
   "metadata": {},
   "outputs": [
    {
     "data": {
      "image/png": "[encoded data removed]",
      "text/plain": [
       "<Figure size 640x480 with 3 Axes>"
      ]
     },
     "metadata": {},
     "output_type": "display_data"
    }
   ],
   "source": [
    "# The question numbers that has group evaluations that does not satisfy the safety specification\n",
    "# Here the 1st classifiers 'i' is not greater than 50% for the c-label\n",
    "ntqr.plots.plot_pair_logical_alarm_at_qs(labels, ['i','j'], (4,2,4),[(5,3,2),(4,3,3)], plt=plt)"
   ]
  },
  {
   "cell_type": "code",
   "execution_count": null,
   "id": "3b7e6e3e-4c73-460d-8ffc-e8356773e733",
   "metadata": {},
   "outputs": [],
   "source": []
  }
 ],
 "metadata": {
  "kernelspec": {
   "display_name": "Python 3 (ipykernel)",
   "language": "python",
   "name": "python3"
  },
  "language_info": {
   "codemirror_mode": {
    "name": "ipython",
    "version": 3
   },
   "file_extension": ".py",
   "mimetype": "text/x-python",
   "name": "python",
   "nbconvert_exporter": "python",
   "pygments_lexer": "ipython3",
   "version": "3.11.8"
  },
  "widgets": {
   "application/vnd.jupyter.widget-state+json": {
    "state": {},
    "version_major": 2,
    "version_minor": 0
   }
  }
 },
 "nbformat": 4,
 "nbformat_minor": 5
}
